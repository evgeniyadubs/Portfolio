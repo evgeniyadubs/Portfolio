{
 "cells": [
  {
   "cell_type": "markdown",
   "metadata": {
    "deletable": false,
    "editable": false,
    "id": "E0vqbgi9ay0H"
   },
   "source": [
    "# Яндекс.Музыка"
   ]
  },
  {
   "cell_type": "markdown",
   "metadata": {
    "id": "VUC88oWjTJw2"
   },
   "source": [
    "\n",
    "**Цель исследования** — проверка 3 гипотез:\n",
    "1. Активность пользователей зависит от дня недели. Причём в Москве и Петербурге это проявляется по-разному.\n",
    "2. В понедельник утром в Москве преобладают одни жанры, а в Петербурге — другие. Так же и вечером пятницы преобладают разные жанры — в зависимости от города. \n",
    "3. Москва и Петербург предпочитают разные жанры музыки. В Москве чаще слушают поп-музыку, в Петербурге — русский рэп.\n",
    "\n",
    "**Ход исследования**\n",
    "1. Обзор данных.\n",
    "2. Предобработка данных.\n",
    "3. Проверка гипотез.\n",
    "\n"
   ]
  },
  {
   "cell_type": "markdown",
   "metadata": {
    "id": "Ml1hmfXC_Zcs"
   },
   "source": [
    "## Обзор данных\n",
    "\n",
    "\n"
   ]
  },
  {
   "cell_type": "code",
   "execution_count": 1,
   "metadata": {
    "deletable": false,
    "id": "AXN7PHPN_Zcs"
   },
   "outputs": [],
   "source": [
    "import pandas as pd # импорт библиотеки pandas"
   ]
  },
  {
   "cell_type": "code",
   "execution_count": 2,
   "metadata": {
    "deletable": false,
    "id": "fFVu7vqh_Zct"
   },
   "outputs": [],
   "source": [
    "df = pd.read_csv('yandex_music_project.csv') # чтение файла с данными и сохранение в df"
   ]
  },
  {
   "cell_type": "code",
   "execution_count": 3,
   "metadata": {
    "deletable": false,
    "id": "oWTVX3gW_Zct"
   },
   "outputs": [
    {
     "data": {
      "text/html": [
       "<div>\n",
       "<style scoped>\n",
       "    .dataframe tbody tr th:only-of-type {\n",
       "        vertical-align: middle;\n",
       "    }\n",
       "\n",
       "    .dataframe tbody tr th {\n",
       "        vertical-align: top;\n",
       "    }\n",
       "\n",
       "    .dataframe thead th {\n",
       "        text-align: right;\n",
       "    }\n",
       "</style>\n",
       "<table border=\"1\" class=\"dataframe\">\n",
       "  <thead>\n",
       "    <tr style=\"text-align: right;\">\n",
       "      <th></th>\n",
       "      <th>userID</th>\n",
       "      <th>Track</th>\n",
       "      <th>artist</th>\n",
       "      <th>genre</th>\n",
       "      <th>City</th>\n",
       "      <th>time</th>\n",
       "      <th>Day</th>\n",
       "    </tr>\n",
       "  </thead>\n",
       "  <tbody>\n",
       "    <tr>\n",
       "      <th>0</th>\n",
       "      <td>FFB692EC</td>\n",
       "      <td>Kamigata To Boots</td>\n",
       "      <td>The Mass Missile</td>\n",
       "      <td>rock</td>\n",
       "      <td>Saint-Petersburg</td>\n",
       "      <td>20:28:33</td>\n",
       "      <td>Wednesday</td>\n",
       "    </tr>\n",
       "    <tr>\n",
       "      <th>1</th>\n",
       "      <td>55204538</td>\n",
       "      <td>Delayed Because of Accident</td>\n",
       "      <td>Andreas Rönnberg</td>\n",
       "      <td>rock</td>\n",
       "      <td>Moscow</td>\n",
       "      <td>14:07:09</td>\n",
       "      <td>Friday</td>\n",
       "    </tr>\n",
       "    <tr>\n",
       "      <th>2</th>\n",
       "      <td>20EC38</td>\n",
       "      <td>Funiculì funiculà</td>\n",
       "      <td>Mario Lanza</td>\n",
       "      <td>pop</td>\n",
       "      <td>Saint-Petersburg</td>\n",
       "      <td>20:58:07</td>\n",
       "      <td>Wednesday</td>\n",
       "    </tr>\n",
       "    <tr>\n",
       "      <th>3</th>\n",
       "      <td>A3DD03C9</td>\n",
       "      <td>Dragons in the Sunset</td>\n",
       "      <td>Fire + Ice</td>\n",
       "      <td>folk</td>\n",
       "      <td>Saint-Petersburg</td>\n",
       "      <td>08:37:09</td>\n",
       "      <td>Monday</td>\n",
       "    </tr>\n",
       "    <tr>\n",
       "      <th>4</th>\n",
       "      <td>E2DC1FAE</td>\n",
       "      <td>Soul People</td>\n",
       "      <td>Space Echo</td>\n",
       "      <td>dance</td>\n",
       "      <td>Moscow</td>\n",
       "      <td>08:34:34</td>\n",
       "      <td>Monday</td>\n",
       "    </tr>\n",
       "    <tr>\n",
       "      <th>5</th>\n",
       "      <td>842029A1</td>\n",
       "      <td>Преданная</td>\n",
       "      <td>IMPERVTOR</td>\n",
       "      <td>rusrap</td>\n",
       "      <td>Saint-Petersburg</td>\n",
       "      <td>13:09:41</td>\n",
       "      <td>Friday</td>\n",
       "    </tr>\n",
       "    <tr>\n",
       "      <th>6</th>\n",
       "      <td>4CB90AA5</td>\n",
       "      <td>True</td>\n",
       "      <td>Roman Messer</td>\n",
       "      <td>dance</td>\n",
       "      <td>Moscow</td>\n",
       "      <td>13:00:07</td>\n",
       "      <td>Wednesday</td>\n",
       "    </tr>\n",
       "    <tr>\n",
       "      <th>7</th>\n",
       "      <td>F03E1C1F</td>\n",
       "      <td>Feeling This Way</td>\n",
       "      <td>Polina Griffith</td>\n",
       "      <td>dance</td>\n",
       "      <td>Moscow</td>\n",
       "      <td>20:47:49</td>\n",
       "      <td>Wednesday</td>\n",
       "    </tr>\n",
       "    <tr>\n",
       "      <th>8</th>\n",
       "      <td>8FA1D3BE</td>\n",
       "      <td>И вновь продолжается бой</td>\n",
       "      <td>NaN</td>\n",
       "      <td>ruspop</td>\n",
       "      <td>Moscow</td>\n",
       "      <td>09:17:40</td>\n",
       "      <td>Friday</td>\n",
       "    </tr>\n",
       "    <tr>\n",
       "      <th>9</th>\n",
       "      <td>E772D5C0</td>\n",
       "      <td>Pessimist</td>\n",
       "      <td>NaN</td>\n",
       "      <td>dance</td>\n",
       "      <td>Saint-Petersburg</td>\n",
       "      <td>21:20:49</td>\n",
       "      <td>Wednesday</td>\n",
       "    </tr>\n",
       "  </tbody>\n",
       "</table>\n",
       "</div>"
      ],
      "text/plain": [
       "     userID                        Track            artist   genre  \\\n",
       "0  FFB692EC            Kamigata To Boots  The Mass Missile    rock   \n",
       "1  55204538  Delayed Because of Accident  Andreas Rönnberg    rock   \n",
       "2    20EC38            Funiculì funiculà       Mario Lanza     pop   \n",
       "3  A3DD03C9        Dragons in the Sunset        Fire + Ice    folk   \n",
       "4  E2DC1FAE                  Soul People        Space Echo   dance   \n",
       "5  842029A1                    Преданная         IMPERVTOR  rusrap   \n",
       "6  4CB90AA5                         True      Roman Messer   dance   \n",
       "7  F03E1C1F             Feeling This Way   Polina Griffith   dance   \n",
       "8  8FA1D3BE     И вновь продолжается бой               NaN  ruspop   \n",
       "9  E772D5C0                    Pessimist               NaN   dance   \n",
       "\n",
       "             City        time        Day  \n",
       "0  Saint-Petersburg  20:28:33  Wednesday  \n",
       "1            Moscow  14:07:09     Friday  \n",
       "2  Saint-Petersburg  20:58:07  Wednesday  \n",
       "3  Saint-Petersburg  08:37:09     Monday  \n",
       "4            Moscow  08:34:34     Monday  \n",
       "5  Saint-Petersburg  13:09:41     Friday  \n",
       "6            Moscow  13:00:07  Wednesday  \n",
       "7            Moscow  20:47:49  Wednesday  \n",
       "8            Moscow  09:17:40     Friday  \n",
       "9  Saint-Petersburg  21:20:49  Wednesday  "
      ]
     },
     "execution_count": 3,
     "metadata": {},
     "output_type": "execute_result"
    }
   ],
   "source": [
    "df.head(10) # получение первых 10 строк таблицы df"
   ]
  },
  {
   "cell_type": "code",
   "execution_count": 4,
   "metadata": {
    "deletable": false,
    "id": "DSf2kIb-_Zct"
   },
   "outputs": [
    {
     "name": "stdout",
     "output_type": "stream",
     "text": [
      "<class 'pandas.core.frame.DataFrame'>\n",
      "RangeIndex: 65079 entries, 0 to 65078\n",
      "Data columns (total 7 columns):\n",
      " #   Column    Non-Null Count  Dtype \n",
      "---  ------    --------------  ----- \n",
      " 0     userID  65079 non-null  object\n",
      " 1   Track     63848 non-null  object\n",
      " 2   artist    57876 non-null  object\n",
      " 3   genre     63881 non-null  object\n",
      " 4     City    65079 non-null  object\n",
      " 5   time      65079 non-null  object\n",
      " 6   Day       65079 non-null  object\n",
      "dtypes: object(7)\n",
      "memory usage: 3.5+ MB\n"
     ]
    }
   ],
   "source": [
    "df.info() # получение общей информации о данных в таблице df"
   ]
  },
  {
   "cell_type": "markdown",
   "metadata": {
    "id": "TaQ2Iwbr_Zct"
   },
   "source": [
    "Итак, в таблице семь столбцов. Тип данных во всех столбцах — `object`.\n",
    "\n",
    "Согласно документации к данным:\n",
    "* `userID` — идентификатор пользователя;\n",
    "* `Track` — название трека;  \n",
    "* `artist` — имя исполнителя;\n",
    "* `genre` — название жанра;\n",
    "* `City` — город пользователя;\n",
    "* `time` — время начала прослушивания;\n",
    "* `Day` — день недели.\n",
    "\n",
    "Количество значений в столбцах различается. Значит, в данных есть пропущенные значения."
   ]
  },
  {
   "cell_type": "markdown",
   "metadata": {
    "id": "MCB6-dXG_Zct"
   },
   "source": [
    "**Выводы**\n",
    "\n",
    "В каждой строке таблицы — данные о прослушанном треке. Часть колонок описывает саму композицию: название, исполнителя и жанр. Остальные данные рассказывают о пользователе: из какого он города, когда он слушал музыку. \n",
    "\n",
    "Предварительно можно утверждать, что, данных достаточно для проверки гипотез. Но встречаются пропуски в данных, а в названиях колонок — расхождения с хорошим стилем.\n",
    "\n",
    "Чтобы двигаться дальше, нужно устранить проблемы в данных."
   ]
  },
  {
   "cell_type": "markdown",
   "metadata": {
    "id": "SjYF6Ub9_Zct"
   },
   "source": [
    "## Предобработка данных"
   ]
  },
  {
   "cell_type": "code",
   "execution_count": 5,
   "metadata": {
    "deletable": false,
    "id": "oKOTdF_Q_Zct"
   },
   "outputs": [
    {
     "data": {
      "text/plain": [
       "Index(['  userID', 'Track', 'artist', 'genre', '  City  ', 'time', 'Day'], dtype='object')"
      ]
     },
     "execution_count": 5,
     "metadata": {},
     "output_type": "execute_result"
    }
   ],
   "source": [
    "df.columns # перечень названий столбцов таблицы df"
   ]
  },
  {
   "cell_type": "code",
   "execution_count": 6,
   "metadata": {
    "deletable": false,
    "id": "ISlFqs5y_Zct"
   },
   "outputs": [],
   "source": [
    "df = df.rename(columns = {'  userID':'user_id', 'Track':'track', '  City  ':'city', 'Day':'day'}) # переименование столбцов"
   ]
  },
  {
   "cell_type": "code",
   "execution_count": 7,
   "metadata": {
    "deletable": false,
    "id": "d4NOAmTW_Zct"
   },
   "outputs": [
    {
     "data": {
      "text/plain": [
       "Index(['user_id', 'track', 'artist', 'genre', 'city', 'time', 'day'], dtype='object')"
      ]
     },
     "execution_count": 7,
     "metadata": {},
     "output_type": "execute_result"
    }
   ],
   "source": [
    "df.columns # проверка результатов - перечень названий столбцов"
   ]
  },
  {
   "cell_type": "markdown",
   "metadata": {
    "id": "5ISfbcfY_Zct",
    "tags": [
     "start_task"
    ]
   },
   "source": [
    "### Пропуски значений"
   ]
  },
  {
   "cell_type": "code",
   "execution_count": 8,
   "metadata": {
    "deletable": false,
    "id": "RskX29qr_Zct"
   },
   "outputs": [
    {
     "data": {
      "text/plain": [
       "user_id       0\n",
       "track      1231\n",
       "artist     7203\n",
       "genre      1198\n",
       "city          0\n",
       "time          0\n",
       "day           0\n",
       "dtype: int64"
      ]
     },
     "execution_count": 8,
     "metadata": {},
     "output_type": "execute_result"
    }
   ],
   "source": [
    "df.isna().sum() # подсчёт пропусков"
   ]
  },
  {
   "cell_type": "markdown",
   "metadata": {
    "id": "qubhgnlO_Zct"
   },
   "source": [
    "Не все пропущенные значения влияют на исследование. Так в `track` и `artist` пропуски не важны. Достаточно заменить их явными обозначениями.\n",
    "\n",
    "Но пропуски в `genre` могут помешать сравнению музыкальных вкусов в Москве и Санкт-Петербурге. Их необходимо:\n",
    "* заполнить явными обозначениями,\n",
    "* оценить, насколько они повредят расчётам. "
   ]
  },
  {
   "cell_type": "code",
   "execution_count": 9,
   "metadata": {
    "deletable": false,
    "id": "KplB5qWs_Zct"
   },
   "outputs": [],
   "source": [
    "# перебор названий столбцов в цикле и замена пропущенных значений на 'unknown'\n",
    "columns_to_replace = ['track', 'artist', 'genre']\n",
    "for col in columns_to_replace:\n",
    "    df[col] = df[col].fillna('unknown')"
   ]
  },
  {
   "cell_type": "code",
   "execution_count": 10,
   "metadata": {
    "deletable": false,
    "id": "Tq4nYRX4_Zct"
   },
   "outputs": [
    {
     "data": {
      "text/plain": [
       "user_id    0\n",
       "track      0\n",
       "artist     0\n",
       "genre      0\n",
       "city       0\n",
       "time       0\n",
       "day        0\n",
       "dtype: int64"
      ]
     },
     "execution_count": 10,
     "metadata": {},
     "output_type": "execute_result"
    }
   ],
   "source": [
    "df.isna().sum() # подсчёт пропусков"
   ]
  },
  {
   "cell_type": "markdown",
   "metadata": {
    "id": "BWKRtBJ3_Zct",
    "tags": [
     "start_task"
    ]
   },
   "source": [
    "### Явные дубликаты"
   ]
  },
  {
   "cell_type": "code",
   "execution_count": 11,
   "metadata": {
    "deletable": false,
    "id": "36eES_S0_Zct"
   },
   "outputs": [
    {
     "data": {
      "text/plain": [
       "3826"
      ]
     },
     "execution_count": 11,
     "metadata": {},
     "output_type": "execute_result"
    }
   ],
   "source": [
    "df.duplicated().sum() # подсчёт явных дубликатов"
   ]
  },
  {
   "cell_type": "code",
   "execution_count": 12,
   "metadata": {
    "deletable": false,
    "id": "exFHq6tt_Zct"
   },
   "outputs": [],
   "source": [
    "# удаление явных дубликатов (с удалением старых индексов и формированием новых)\n",
    "df = df.drop_duplicates()"
   ]
  },
  {
   "cell_type": "code",
   "execution_count": 13,
   "metadata": {
    "deletable": false,
    "id": "-8PuNWQ0_Zct"
   },
   "outputs": [
    {
     "data": {
      "text/plain": [
       "0"
      ]
     },
     "execution_count": 13,
     "metadata": {},
     "output_type": "execute_result"
    }
   ],
   "source": [
    "df.duplicated().sum() # проверка на отсутствие дубликатов"
   ]
  },
  {
   "cell_type": "markdown",
   "metadata": {
    "id": "QlFBsxAr_Zct"
   },
   "source": [
    "### Неявные дубликаты"
   ]
  },
  {
   "cell_type": "code",
   "execution_count": 14,
   "metadata": {
    "deletable": false,
    "id": "JIUcqzZN_Zct"
   },
   "outputs": [
    {
     "data": {
      "text/plain": [
       "array(['acid', 'acoustic', 'action', 'adult', 'africa', 'afrikaans',\n",
       "       'alternative', 'alternativepunk', 'ambient', 'americana',\n",
       "       'animated', 'anime', 'arabesk', 'arabic', 'arena',\n",
       "       'argentinetango', 'art', 'audiobook', 'author', 'avantgarde',\n",
       "       'axé', 'baile', 'balkan', 'beats', 'bigroom', 'black', 'bluegrass',\n",
       "       'blues', 'bollywood', 'bossa', 'brazilian', 'breakbeat', 'breaks',\n",
       "       'broadway', 'cantautori', 'cantopop', 'canzone', 'caribbean',\n",
       "       'caucasian', 'celtic', 'chamber', 'chanson', 'children', 'chill',\n",
       "       'chinese', 'choral', 'christian', 'christmas', 'classical',\n",
       "       'classicmetal', 'club', 'colombian', 'comedy', 'conjazz',\n",
       "       'contemporary', 'country', 'cuban', 'dance', 'dancehall',\n",
       "       'dancepop', 'dark', 'death', 'deep', 'deutschrock', 'deutschspr',\n",
       "       'dirty', 'disco', 'dnb', 'documentary', 'downbeat', 'downtempo',\n",
       "       'drum', 'dub', 'dubstep', 'eastern', 'easy', 'electronic',\n",
       "       'electropop', 'emo', 'entehno', 'epicmetal', 'estrada', 'ethnic',\n",
       "       'eurofolk', 'european', 'experimental', 'extrememetal', 'fado',\n",
       "       'fairytail', 'film', 'fitness', 'flamenco', 'folk', 'folklore',\n",
       "       'folkmetal', 'folkrock', 'folktronica', 'forró', 'frankreich',\n",
       "       'französisch', 'french', 'funk', 'future', 'gangsta', 'garage',\n",
       "       'german', 'ghazal', 'gitarre', 'glitch', 'gospel', 'gothic',\n",
       "       'grime', 'grunge', 'gypsy', 'handsup', \"hard'n'heavy\", 'hardcore',\n",
       "       'hardstyle', 'hardtechno', 'hip', 'hip-hop', 'hiphop',\n",
       "       'historisch', 'holiday', 'hop', 'horror', 'house', 'hymn', 'idm',\n",
       "       'independent', 'indian', 'indie', 'indipop', 'industrial',\n",
       "       'inspirational', 'instrumental', 'international', 'irish', 'jam',\n",
       "       'japanese', 'jazz', 'jewish', 'jpop', 'jungle', 'k-pop',\n",
       "       'karadeniz', 'karaoke', 'kayokyoku', 'korean', 'laiko', 'latin',\n",
       "       'latino', 'leftfield', 'local', 'lounge', 'loungeelectronic',\n",
       "       'lovers', 'malaysian', 'mandopop', 'marschmusik', 'meditative',\n",
       "       'mediterranean', 'melodic', 'metal', 'metalcore', 'mexican',\n",
       "       'middle', 'minimal', 'miscellaneous', 'modern', 'mood', 'mpb',\n",
       "       'muslim', 'native', 'neoklassik', 'neue', 'new', 'newage',\n",
       "       'newwave', 'nu', 'nujazz', 'numetal', 'oceania', 'old', 'opera',\n",
       "       'orchestral', 'other', 'piano', 'podcasts', 'pop', 'popdance',\n",
       "       'popelectronic', 'popeurodance', 'poprussian', 'post',\n",
       "       'posthardcore', 'postrock', 'power', 'progmetal', 'progressive',\n",
       "       'psychedelic', 'punjabi', 'punk', 'quebecois', 'ragga', 'ram',\n",
       "       'rancheras', 'rap', 'rave', 'reggae', 'reggaeton', 'regional',\n",
       "       'relax', 'religious', 'retro', 'rhythm', 'rnb', 'rnr', 'rock',\n",
       "       'rockabilly', 'rockalternative', 'rockindie', 'rockother',\n",
       "       'romance', 'roots', 'ruspop', 'rusrap', 'rusrock', 'russian',\n",
       "       'salsa', 'samba', 'scenic', 'schlager', 'self', 'sertanejo',\n",
       "       'shanson', 'shoegazing', 'showtunes', 'singer', 'ska', 'skarock',\n",
       "       'slow', 'smooth', 'soft', 'soul', 'soulful', 'sound', 'soundtrack',\n",
       "       'southern', 'specialty', 'speech', 'spiritual', 'sport',\n",
       "       'stonerrock', 'surf', 'swing', 'synthpop', 'synthrock',\n",
       "       'sängerportrait', 'tango', 'tanzorchester', 'taraftar', 'tatar',\n",
       "       'tech', 'techno', 'teen', 'thrash', 'top', 'traditional',\n",
       "       'tradjazz', 'trance', 'tribal', 'trip', 'triphop', 'tropical',\n",
       "       'türk', 'türkçe', 'ukrrock', 'unknown', 'urban', 'uzbek',\n",
       "       'variété', 'vi', 'videogame', 'vocal', 'western', 'world',\n",
       "       'worldbeat', 'ïîï', 'электроника'], dtype=object)"
      ]
     },
     "execution_count": 14,
     "metadata": {},
     "output_type": "execute_result"
    }
   ],
   "source": [
    "# Просмотр уникальных названий жанров\n",
    "sorted_df_genre = df['genre'].sort_values()\n",
    "sorted_df_genre.unique() "
   ]
  },
  {
   "cell_type": "markdown",
   "metadata": {},
   "source": [
    "Обнаружены неявные дубликаты в `genre`:\n",
    "*   hip\n",
    "*   hop\n",
    "*   hip-hop"
   ]
  },
  {
   "cell_type": "code",
   "execution_count": 15,
   "metadata": {
    "deletable": false,
    "id": "ErNDkmns_Zct"
   },
   "outputs": [],
   "source": [
    "genre_to_replace = ['hip', 'hop', 'hip-hop'] # Устранение неявных дубликатов\n",
    "for item in genre_to_replace:\n",
    "    df['genre'] = df['genre'].replace(item, 'hiphop')"
   ]
  },
  {
   "cell_type": "code",
   "execution_count": 16,
   "metadata": {
    "deletable": false,
    "id": "wvixALnFG15m"
   },
   "outputs": [
    {
     "data": {
      "text/plain": [
       "array(['acid', 'acoustic', 'action', 'adult', 'africa', 'afrikaans',\n",
       "       'alternative', 'alternativepunk', 'ambient', 'americana',\n",
       "       'animated', 'anime', 'arabesk', 'arabic', 'arena',\n",
       "       'argentinetango', 'art', 'audiobook', 'author', 'avantgarde',\n",
       "       'axé', 'baile', 'balkan', 'beats', 'bigroom', 'black', 'bluegrass',\n",
       "       'blues', 'bollywood', 'bossa', 'brazilian', 'breakbeat', 'breaks',\n",
       "       'broadway', 'cantautori', 'cantopop', 'canzone', 'caribbean',\n",
       "       'caucasian', 'celtic', 'chamber', 'chanson', 'children', 'chill',\n",
       "       'chinese', 'choral', 'christian', 'christmas', 'classical',\n",
       "       'classicmetal', 'club', 'colombian', 'comedy', 'conjazz',\n",
       "       'contemporary', 'country', 'cuban', 'dance', 'dancehall',\n",
       "       'dancepop', 'dark', 'death', 'deep', 'deutschrock', 'deutschspr',\n",
       "       'dirty', 'disco', 'dnb', 'documentary', 'downbeat', 'downtempo',\n",
       "       'drum', 'dub', 'dubstep', 'eastern', 'easy', 'electronic',\n",
       "       'electropop', 'emo', 'entehno', 'epicmetal', 'estrada', 'ethnic',\n",
       "       'eurofolk', 'european', 'experimental', 'extrememetal', 'fado',\n",
       "       'fairytail', 'film', 'fitness', 'flamenco', 'folk', 'folklore',\n",
       "       'folkmetal', 'folkrock', 'folktronica', 'forró', 'frankreich',\n",
       "       'französisch', 'french', 'funk', 'future', 'gangsta', 'garage',\n",
       "       'german', 'ghazal', 'gitarre', 'glitch', 'gospel', 'gothic',\n",
       "       'grime', 'grunge', 'gypsy', 'handsup', \"hard'n'heavy\", 'hardcore',\n",
       "       'hardstyle', 'hardtechno', 'hiphop', 'historisch', 'holiday',\n",
       "       'horror', 'house', 'hymn', 'idm', 'independent', 'indian', 'indie',\n",
       "       'indipop', 'industrial', 'inspirational', 'instrumental',\n",
       "       'international', 'irish', 'jam', 'japanese', 'jazz', 'jewish',\n",
       "       'jpop', 'jungle', 'k-pop', 'karadeniz', 'karaoke', 'kayokyoku',\n",
       "       'korean', 'laiko', 'latin', 'latino', 'leftfield', 'local',\n",
       "       'lounge', 'loungeelectronic', 'lovers', 'malaysian', 'mandopop',\n",
       "       'marschmusik', 'meditative', 'mediterranean', 'melodic', 'metal',\n",
       "       'metalcore', 'mexican', 'middle', 'minimal', 'miscellaneous',\n",
       "       'modern', 'mood', 'mpb', 'muslim', 'native', 'neoklassik', 'neue',\n",
       "       'new', 'newage', 'newwave', 'nu', 'nujazz', 'numetal', 'oceania',\n",
       "       'old', 'opera', 'orchestral', 'other', 'piano', 'podcasts', 'pop',\n",
       "       'popdance', 'popelectronic', 'popeurodance', 'poprussian', 'post',\n",
       "       'posthardcore', 'postrock', 'power', 'progmetal', 'progressive',\n",
       "       'psychedelic', 'punjabi', 'punk', 'quebecois', 'ragga', 'ram',\n",
       "       'rancheras', 'rap', 'rave', 'reggae', 'reggaeton', 'regional',\n",
       "       'relax', 'religious', 'retro', 'rhythm', 'rnb', 'rnr', 'rock',\n",
       "       'rockabilly', 'rockalternative', 'rockindie', 'rockother',\n",
       "       'romance', 'roots', 'ruspop', 'rusrap', 'rusrock', 'russian',\n",
       "       'salsa', 'samba', 'scenic', 'schlager', 'self', 'sertanejo',\n",
       "       'shanson', 'shoegazing', 'showtunes', 'singer', 'ska', 'skarock',\n",
       "       'slow', 'smooth', 'soft', 'soul', 'soulful', 'sound', 'soundtrack',\n",
       "       'southern', 'specialty', 'speech', 'spiritual', 'sport',\n",
       "       'stonerrock', 'surf', 'swing', 'synthpop', 'synthrock',\n",
       "       'sängerportrait', 'tango', 'tanzorchester', 'taraftar', 'tatar',\n",
       "       'tech', 'techno', 'teen', 'thrash', 'top', 'traditional',\n",
       "       'tradjazz', 'trance', 'tribal', 'trip', 'triphop', 'tropical',\n",
       "       'türk', 'türkçe', 'ukrrock', 'unknown', 'urban', 'uzbek',\n",
       "       'variété', 'vi', 'videogame', 'vocal', 'western', 'world',\n",
       "       'worldbeat', 'ïîï', 'электроника'], dtype=object)"
      ]
     },
     "execution_count": 16,
     "metadata": {},
     "output_type": "execute_result"
    }
   ],
   "source": [
    "sorted_df_genre = df['genre'].sort_values()\n",
    "sorted_df_genre.unique() # Проверка на неявные дубликаты"
   ]
  },
  {
   "cell_type": "markdown",
   "metadata": {
    "id": "jz6a9-7HQUDd"
   },
   "source": [
    "**Выводы**\n",
    "\n",
    "Предобработка обнаружила три проблемы в данных:\n",
    "\n",
    "- нарушения в стиле заголовков,\n",
    "- пропущенные значения,\n",
    "- дубликаты — явные и неявные.\n",
    "\n",
    "Заголовки исправлены, дубликаты удалены, пропущенные значения заменены заглушками."
   ]
  },
  {
   "cell_type": "markdown",
   "metadata": {
    "id": "WttZHXH0SqKk"
   },
   "source": [
    "## Проверка гипотез"
   ]
  },
  {
   "cell_type": "markdown",
   "metadata": {
    "id": "Im936VVi_Zcu"
   },
   "source": [
    "### Сравнение поведения пользователей двух столиц"
   ]
  },
  {
   "cell_type": "markdown",
   "metadata": {
    "id": "nwt_MuaL_Zcu"
   },
   "source": [
    "Первая гипотеза утверждает, что пользователи по-разному слушают музыку в Москве и Санкт-Петербурге. Проверим это предположение по данным о трёх днях недели — понедельнике, среде и пятнице. Для этого:\n",
    "\n",
    "* Разделим пользователей Москвы и Санкт-Петербурга\n",
    "* Сравним, сколько треков послушала каждая группа пользователей в понедельник, среду и пятницу.\n"
   ]
  },
  {
   "cell_type": "code",
   "execution_count": 17,
   "metadata": {
    "deletable": false,
    "id": "0_Qs96oh_Zcu"
   },
   "outputs": [
    {
     "data": {
      "text/plain": [
       "city\n",
       "Moscow              42741\n",
       "Saint-Petersburg    18512\n",
       "Name: track, dtype: int64"
      ]
     },
     "execution_count": 17,
     "metadata": {},
     "output_type": "execute_result"
    }
   ],
   "source": [
    "df.groupby('city')['track'].count() # Подсчёт прослушиваний в каждом городе"
   ]
  },
  {
   "cell_type": "markdown",
   "metadata": {
    "id": "dzli3w8o_Zcu",
    "tags": [
     "start_task"
    ]
   },
   "source": [
    "В Москве прослушиваний больше, чем в Петербурге. Из этого не следует, что московские пользователи чаще слушают музыку. Просто самих пользователей в Москве больше."
   ]
  },
  {
   "cell_type": "code",
   "execution_count": 18,
   "metadata": {
    "deletable": false,
    "id": "uZMKjiJz_Zcu"
   },
   "outputs": [
    {
     "data": {
      "text/plain": [
       "day\n",
       "Friday       21840\n",
       "Monday       21354\n",
       "Wednesday    18059\n",
       "Name: track, dtype: int64"
      ]
     },
     "execution_count": 18,
     "metadata": {},
     "output_type": "execute_result"
    }
   ],
   "source": [
    "df.groupby('day')['track'].count() # Подсчёт прослушиваний в каждый из трёх дней"
   ]
  },
  {
   "cell_type": "markdown",
   "metadata": {
    "id": "cC2tNrlL_Zcu"
   },
   "source": [
    "В среднем пользователи из двух городов менее активны по средам. Но картина может измениться, если рассмотреть каждый город в отдельности."
   ]
  },
  {
   "cell_type": "code",
   "execution_count": 19,
   "metadata": {
    "id": "Nz3GdQB1_Zcu"
   },
   "outputs": [],
   "source": [
    "# Функция для подсчёта прослушиваний для конкретного города и дня.\n",
    "def number_tracks(day, city):    \n",
    "    track_list = df[df['day'] == day]\n",
    "    track_list = track_list[track_list['city'] == city]\n",
    "    track_list_count = track_list['user_id'].count()\n",
    "    return track_list_count"
   ]
  },
  {
   "cell_type": "code",
   "execution_count": 20,
   "metadata": {
    "deletable": false,
    "id": "rJcRATNQ_Zcu"
   },
   "outputs": [
    {
     "data": {
      "text/plain": [
       "15740"
      ]
     },
     "execution_count": 20,
     "metadata": {},
     "output_type": "execute_result"
    }
   ],
   "source": [
    "number_tracks('Monday', 'Moscow') # количество прослушиваний в Москве по понедельникам"
   ]
  },
  {
   "cell_type": "code",
   "execution_count": 21,
   "metadata": {
    "deletable": false,
    "id": "hq_ncZ5T_Zcu"
   },
   "outputs": [
    {
     "data": {
      "text/plain": [
       "5614"
      ]
     },
     "execution_count": 21,
     "metadata": {},
     "output_type": "execute_result"
    }
   ],
   "source": [
    "number_tracks('Monday', 'Saint-Petersburg') # количество прослушиваний в Санкт-Петербурге по понедельникам"
   ]
  },
  {
   "cell_type": "code",
   "execution_count": 22,
   "metadata": {
    "deletable": false,
    "id": "_NTy2VPU_Zcu"
   },
   "outputs": [
    {
     "data": {
      "text/plain": [
       "11056"
      ]
     },
     "execution_count": 22,
     "metadata": {},
     "output_type": "execute_result"
    }
   ],
   "source": [
    "number_tracks('Wednesday', 'Moscow') # количество прослушиваний в Москве по средам"
   ]
  },
  {
   "cell_type": "code",
   "execution_count": 23,
   "metadata": {
    "deletable": false,
    "id": "j2y3TAwo_Zcu"
   },
   "outputs": [
    {
     "data": {
      "text/plain": [
       "7003"
      ]
     },
     "execution_count": 23,
     "metadata": {},
     "output_type": "execute_result"
    }
   ],
   "source": [
    "number_tracks('Wednesday', 'Saint-Petersburg') # количество прослушиваний в Санкт-Петербурге по средам"
   ]
  },
  {
   "cell_type": "code",
   "execution_count": 24,
   "metadata": {
    "deletable": false,
    "id": "vYDw5u_K_Zcu"
   },
   "outputs": [
    {
     "data": {
      "text/plain": [
       "15945"
      ]
     },
     "execution_count": 24,
     "metadata": {},
     "output_type": "execute_result"
    }
   ],
   "source": [
    "number_tracks('Friday', 'Moscow') # количество прослушиваний в Москве по пятницам"
   ]
  },
  {
   "cell_type": "code",
   "execution_count": 25,
   "metadata": {
    "deletable": false,
    "id": "8_yzFtW3_Zcu"
   },
   "outputs": [
    {
     "data": {
      "text/plain": [
       "5895"
      ]
     },
     "execution_count": 25,
     "metadata": {},
     "output_type": "execute_result"
    }
   ],
   "source": [
    "number_tracks('Friday', 'Saint-Petersburg') # количество прослушиваний в Санкт-Петербурге по пятницам"
   ]
  },
  {
   "cell_type": "code",
   "execution_count": 26,
   "metadata": {
    "deletable": false,
    "id": "APAcLpOr_Zcu"
   },
   "outputs": [
    {
     "data": {
      "text/html": [
       "<div>\n",
       "<style scoped>\n",
       "    .dataframe tbody tr th:only-of-type {\n",
       "        vertical-align: middle;\n",
       "    }\n",
       "\n",
       "    .dataframe tbody tr th {\n",
       "        vertical-align: top;\n",
       "    }\n",
       "\n",
       "    .dataframe thead th {\n",
       "        text-align: right;\n",
       "    }\n",
       "</style>\n",
       "<table border=\"1\" class=\"dataframe\">\n",
       "  <thead>\n",
       "    <tr style=\"text-align: right;\">\n",
       "      <th></th>\n",
       "      <th>city</th>\n",
       "      <th>monday</th>\n",
       "      <th>wednesday</th>\n",
       "      <th>friday</th>\n",
       "    </tr>\n",
       "  </thead>\n",
       "  <tbody>\n",
       "    <tr>\n",
       "      <th>0</th>\n",
       "      <td>Moscow</td>\n",
       "      <td>15740</td>\n",
       "      <td>11056</td>\n",
       "      <td>15945</td>\n",
       "    </tr>\n",
       "    <tr>\n",
       "      <th>1</th>\n",
       "      <td>Saint-Petersburg</td>\n",
       "      <td>5614</td>\n",
       "      <td>7003</td>\n",
       "      <td>5895</td>\n",
       "    </tr>\n",
       "  </tbody>\n",
       "</table>\n",
       "</div>"
      ],
      "text/plain": [
       "               city  monday  wednesday  friday\n",
       "0            Moscow   15740      11056   15945\n",
       "1  Saint-Petersburg    5614       7003    5895"
      ]
     },
     "execution_count": 26,
     "metadata": {},
     "output_type": "execute_result"
    }
   ],
   "source": [
    "data = [\n",
    "    ['Moscow', 15740, 11056, 15945],\n",
    "    ['Saint-Petersburg', 5614, 7003, 5895],\n",
    "] # Таблица с результатами\n",
    "columns = ['city', 'monday', 'wednesday', 'friday']\n",
    "city_day_tracks = pd.DataFrame(data=data, columns=columns)\n",
    "city_day_tracks"
   ]
  },
  {
   "cell_type": "markdown",
   "metadata": {
    "id": "-EgPIHYu_Zcu"
   },
   "source": [
    "**Выводы**\n",
    "\n",
    "Данные показывают разницу поведения пользователей:\n",
    "\n",
    "- В Москве пик прослушиваний приходится на понедельник и пятницу, а в среду заметен спад.\n",
    "- В Петербурге, наоборот, больше слушают музыку по средам. Активность в понедельник и пятницу здесь почти в равной мере уступает среде.\n",
    "\n",
    "Значит, данные говорят в пользу первой гипотезы."
   ]
  },
  {
   "cell_type": "markdown",
   "metadata": {
    "id": "atZAxtq4_Zcu"
   },
   "source": [
    "### Музыка в начале и в конце недели"
   ]
  },
  {
   "cell_type": "markdown",
   "metadata": {
    "id": "eXrQqXFH_Zcu"
   },
   "source": [
    "Согласно второй гипотезе, утром в понедельник в Москве преобладают одни жанры, а в Петербурге — другие. Так же и вечером пятницы преобладают разные жанры — в зависимости от города."
   ]
  },
  {
   "cell_type": "code",
   "execution_count": 27,
   "metadata": {
    "deletable": false,
    "id": "qeaFfM_P_Zcu",
    "scrolled": true
   },
   "outputs": [],
   "source": [
    "moscow_general = df[df['city'] == 'Moscow'] # получение таблицы moscow_general из тех строк таблицы df, \n",
    "# для которых значение в столбце 'city' равно 'Moscow'\n"
   ]
  },
  {
   "cell_type": "code",
   "execution_count": 28,
   "metadata": {
    "deletable": false,
    "id": "ORaVRKto_Zcu"
   },
   "outputs": [],
   "source": [
    "spb_general = df[df['city'] == 'Saint-Petersburg'] # получение таблицы spb_general из тех строк таблицы df, \n",
    "# для которых значение в столбце 'city' равно 'Saint-Petersburg'\n"
   ]
  },
  {
   "cell_type": "code",
   "execution_count": 29,
   "metadata": {
    "deletable": false,
    "id": "laJT9BYl_Zcu"
   },
   "outputs": [],
   "source": [
    "def genre_weekday(df, day, time1, time2):\n",
    "    # последовательная фильтрация\n",
    "    # оставляем в genre_df только те строки df, у которых день равен day\n",
    "    genre_df = df[df['day'] == day]\n",
    "    # оставляем в genre_df только те строки genre_df, у которых время меньше time2\n",
    "    genre_df = genre_df[genre_df['time'] < time2]\n",
    "    # оставляем в genre_df только те строки genre_df, у которых время больше time1\n",
    "    genre_df = genre_df[genre_df['time'] > time1]\n",
    "    # сгруппируем отфильтрованный датафрейм по столбцу с названиями жанров, возьмём столбец genre и посчитаем кол-во строк для каждого жанра методом count()\n",
    "    genre_df_grouped = genre_df.groupby('genre')['genre'].count()\n",
    "    # отсортируем результат по убыванию (чтобы в начале Series оказались самые популярные жанры)\n",
    "    genre_df_sorted = genre_df_grouped.sort_values(ascending=False)\n",
    "    # вернём Series с 10 самыми популярными жанрами в указанный отрезок времени заданного дня\n",
    "    return genre_df_sorted[:10]"
   ]
  },
  {
   "cell_type": "markdown",
   "metadata": {
    "id": "la2s2_PF_Zcu",
    "tags": [
     "start_task"
    ]
   },
   "source": [
    "Cравнение результатов функции `genre_weekday()` для Москвы и Санкт-Петербурга в понедельник утром (с 7:00 до 11:00) и в пятницу вечером (с 17:00 до 23:00):"
   ]
  },
  {
   "cell_type": "code",
   "execution_count": 30,
   "metadata": {
    "deletable": false,
    "id": "yz7itPUQ_Zcu"
   },
   "outputs": [
    {
     "data": {
      "text/plain": [
       "genre\n",
       "pop            781\n",
       "dance          549\n",
       "electronic     480\n",
       "rock           474\n",
       "hiphop         286\n",
       "ruspop         186\n",
       "world          181\n",
       "rusrap         175\n",
       "alternative    164\n",
       "unknown        161\n",
       "Name: genre, dtype: int64"
      ]
     },
     "execution_count": 30,
     "metadata": {},
     "output_type": "execute_result"
    }
   ],
   "source": [
    "genre_weekday(moscow_general, 'Monday', '07:00', '11:00')"
   ]
  },
  {
   "cell_type": "code",
   "execution_count": 31,
   "metadata": {
    "deletable": false,
    "id": "kwUcHPdy_Zcu"
   },
   "outputs": [
    {
     "data": {
      "text/plain": [
       "genre\n",
       "pop            218\n",
       "dance          182\n",
       "rock           162\n",
       "electronic     147\n",
       "hiphop          80\n",
       "ruspop          64\n",
       "alternative     58\n",
       "rusrap          55\n",
       "jazz            44\n",
       "classical       40\n",
       "Name: genre, dtype: int64"
      ]
     },
     "execution_count": 31,
     "metadata": {},
     "output_type": "execute_result"
    }
   ],
   "source": [
    "genre_weekday(spb_general, 'Monday', '07:00', '11:00') # вызов функции для утра понедельника в Петербурге (вместо df — таблица spb_general)"
   ]
  },
  {
   "cell_type": "code",
   "execution_count": 32,
   "metadata": {
    "deletable": false,
    "id": "EzXVRE1o_Zcu"
   },
   "outputs": [
    {
     "data": {
      "text/plain": [
       "genre\n",
       "pop            713\n",
       "rock           517\n",
       "dance          495\n",
       "electronic     482\n",
       "hiphop         273\n",
       "world          208\n",
       "ruspop         170\n",
       "alternative    163\n",
       "classical      163\n",
       "rusrap         142\n",
       "Name: genre, dtype: int64"
      ]
     },
     "execution_count": 32,
     "metadata": {},
     "output_type": "execute_result"
    }
   ],
   "source": [
    "genre_weekday(moscow_general, 'Friday', '17:00', '23:00') # вызов функции для вечера пятницы в Москве"
   ]
  },
  {
   "cell_type": "code",
   "execution_count": 33,
   "metadata": {
    "deletable": false,
    "id": "JZaEKu5v_Zcu"
   },
   "outputs": [
    {
     "data": {
      "text/plain": [
       "genre\n",
       "pop            256\n",
       "electronic     216\n",
       "rock           216\n",
       "dance          210\n",
       "hiphop          97\n",
       "alternative     63\n",
       "jazz            61\n",
       "classical       60\n",
       "rusrap          59\n",
       "world           54\n",
       "Name: genre, dtype: int64"
      ]
     },
     "execution_count": 33,
     "metadata": {},
     "output_type": "execute_result"
    }
   ],
   "source": [
    "genre_weekday(spb_general, 'Friday', '17:00', '23:00') # вызов функции для вечера пятницы в Петербурге"
   ]
  },
  {
   "cell_type": "markdown",
   "metadata": {
    "id": "wrCe4MNX_Zcu"
   },
   "source": [
    "**Выводы**\n",
    "\n",
    "Если сравнить топ-10 жанров в понедельник утром, можно сделать такие выводы:\n",
    "\n",
    "1. В Москве и Петербурге слушают похожую музыку. Единственное отличие — в московский рейтинг вошёл жанр “world”, а в петербургский — джаз и классика.\n",
    "\n",
    "2. В Москве пропущенных значений оказалось так много, что значение `'unknown'` заняло десятое место среди самых популярных жанров. Значит, пропущенные значения занимают существенную долю в данных и угрожают достоверности исследования.\n",
    "\n",
    "Вечер пятницы не меняет эту картину. Некоторые жанры поднимаются немного выше, другие спускаются, но в целом топ-10 остаётся тем же самым.\n",
    "\n",
    "Таким образом, вторая гипотеза подтвердилась лишь частично:\n",
    "* Пользователи слушают похожую музыку в начале недели и в конце.\n",
    "* Разница между Москвой и Петербургом не слишком выражена. В Москве чаще слушают русскую популярную музыку, в Петербурге — джаз.\n",
    "\n",
    "Однако пропуски в данных ставят под сомнение этот результат. В Москве их так много, что рейтинг топ-10 мог бы выглядеть иначе, если бы не утерянные  данные о жанрах."
   ]
  },
  {
   "cell_type": "markdown",
   "metadata": {
    "id": "JolODAqr_Zcu"
   },
   "source": [
    "### Жанровые предпочтения в Москве и Петербурге\n",
    "\n",
    "Гипотеза: Петербург — столица рэпа, музыку этого жанра там слушают чаще, чем в Москве.  А Москва — город контрастов, в котором, тем не менее, преобладает поп-музыка."
   ]
  },
  {
   "cell_type": "code",
   "execution_count": 34,
   "metadata": {
    "deletable": false,
    "id": "r19lIPke_Zcu"
   },
   "outputs": [],
   "source": [
    "moscow_genres = moscow_general.groupby('genre')['genre'].count().sort_values(ascending=False) # одной строкой: группировка таблицы moscow_general по столбцу 'genre', \n",
    "# подсчёт числа значений 'genre' в этой группировке методом count(), \n",
    "# сортировка получившегося Series в порядке убывания и сохранение в moscow_genres\n"
   ]
  },
  {
   "cell_type": "code",
   "execution_count": 35,
   "metadata": {
    "deletable": false,
    "id": "WhCSooF8_Zcv"
   },
   "outputs": [
    {
     "data": {
      "text/plain": [
       "genre\n",
       "pop            5892\n",
       "dance          4435\n",
       "rock           3965\n",
       "electronic     3786\n",
       "hiphop         2096\n",
       "classical      1616\n",
       "world          1432\n",
       "alternative    1379\n",
       "ruspop         1372\n",
       "rusrap         1161\n",
       "Name: genre, dtype: int64"
      ]
     },
     "execution_count": 35,
     "metadata": {},
     "output_type": "execute_result"
    }
   ],
   "source": [
    "moscow_genres[:10] # просмотр первых 10 строк moscow_genres"
   ]
  },
  {
   "cell_type": "code",
   "execution_count": 36,
   "metadata": {
    "deletable": false,
    "id": "gluLIpE7_Zcv"
   },
   "outputs": [],
   "source": [
    "spb_genres = spb_general.groupby('genre')['genre'].count().sort_values(ascending=False) # одной строкой: группировка таблицы spb_general по столбцу 'genre', \n",
    "# подсчёт числа значений 'genre' в этой группировке методом count(), \n",
    "# сортировка получившегося Series в порядке убывания и сохранение в spb_genres"
   ]
  },
  {
   "cell_type": "code",
   "execution_count": 37,
   "metadata": {
    "deletable": false,
    "id": "uaGJHjVU_Zcv"
   },
   "outputs": [
    {
     "data": {
      "text/plain": [
       "genre\n",
       "pop            2431\n",
       "dance          1932\n",
       "rock           1879\n",
       "electronic     1736\n",
       "hiphop          960\n",
       "alternative     649\n",
       "classical       646\n",
       "rusrap          564\n",
       "ruspop          538\n",
       "world           515\n",
       "Name: genre, dtype: int64"
      ]
     },
     "execution_count": 37,
     "metadata": {},
     "output_type": "execute_result"
    }
   ],
   "source": [
    "spb_genres[:10] # просмотр первых 10 строк spb_genres"
   ]
  },
  {
   "cell_type": "markdown",
   "metadata": {
    "id": "RY51YJYu_Zcv"
   },
   "source": [
    "**Выводы**"
   ]
  },
  {
   "cell_type": "markdown",
   "metadata": {
    "id": "nVhnJEm__Zcv"
   },
   "source": [
    "Гипотеза частично подтвердилась:\n",
    "* Поп-музыка — самый популярный жанр в Москве, как и предполагала гипотеза. Более того, в топ-10 жанров встречается близкий жанр — русская популярная музыка.\n",
    "* Вопреки ожиданиям, рэп одинаково популярен в Москве и Петербурге. \n"
   ]
  },
  {
   "cell_type": "markdown",
   "metadata": {
    "id": "ykKQ0N65_Zcv"
   },
   "source": [
    "## Итоги исследования"
   ]
  },
  {
   "cell_type": "markdown",
   "metadata": {
    "id": "tjUwbHb3_Zcv"
   },
   "source": [
    "Проверены три гипотезы и установлено:\n",
    "\n",
    "1. День недели по-разному влияет на активность пользователей в Москве и Петербурге. \n",
    "\n",
    "Первая гипотеза полностью подтвердилась.\n",
    "\n",
    "2. Музыкальные предпочтения не сильно меняются в течение недели — будь то Москва или Петербург. Небольшие различия заметны в начале недели, по понедельникам:\n",
    "* в Москве слушают музыку жанра “world”,\n",
    "* в Петербурге — джаз и классику.\n",
    "\n",
    "Таким образом, вторая гипотеза подтвердилась лишь отчасти. Этот результат мог оказаться иным, если бы не пропуски в данных.\n",
    "\n",
    "3. Во вкусах пользователей Москвы и Петербурга больше общего чем различий. Вопреки ожиданиям, предпочтения жанров в Петербурге напоминают московские.\n",
    "\n",
    "Третья гипотеза не подтвердилась. Если различия в предпочтениях и существуют, на основной массе пользователей они незаметны."
   ]
  },
  {
   "cell_type": "code",
   "execution_count": null,
   "metadata": {},
   "outputs": [],
   "source": []
  }
 ],
 "metadata": {
  "ExecuteTimeLog": [
   {
    "duration": 407,
    "start_time": "2023-02-04T11:18:09.425Z"
   },
   {
    "duration": 201,
    "start_time": "2023-02-04T11:19:37.505Z"
   },
   {
    "duration": 22,
    "start_time": "2023-02-04T11:20:07.503Z"
   },
   {
    "duration": 12,
    "start_time": "2023-02-04T11:20:38.376Z"
   },
   {
    "duration": 5,
    "start_time": "2023-02-04T11:33:15.470Z"
   },
   {
    "duration": 11,
    "start_time": "2023-02-04T11:36:55.391Z"
   },
   {
    "duration": 5,
    "start_time": "2023-02-04T11:37:19.521Z"
   },
   {
    "duration": 26,
    "start_time": "2023-02-04T11:39:02.221Z"
   },
   {
    "duration": 24,
    "start_time": "2023-02-04T11:40:11.959Z"
   },
   {
    "duration": 815,
    "start_time": "2023-02-04T11:43:10.092Z"
   },
   {
    "duration": 836,
    "start_time": "2023-02-04T11:45:21.455Z"
   },
   {
    "duration": 933,
    "start_time": "2023-02-04T11:46:18.536Z"
   },
   {
    "duration": 868,
    "start_time": "2023-02-04T11:46:36.326Z"
   },
   {
    "duration": 21,
    "start_time": "2023-02-04T11:47:21.169Z"
   },
   {
    "duration": 36,
    "start_time": "2023-02-04T11:47:55.761Z"
   },
   {
    "duration": 99,
    "start_time": "2023-02-04T11:48:24.126Z"
   },
   {
    "duration": 77,
    "start_time": "2023-02-04T11:48:53.665Z"
   },
   {
    "duration": 7,
    "start_time": "2023-02-04T11:50:39.371Z"
   },
   {
    "duration": 111,
    "start_time": "2023-02-04T11:51:43.226Z"
   },
   {
    "duration": 70,
    "start_time": "2023-02-04T11:51:58.487Z"
   },
   {
    "duration": 11,
    "start_time": "2023-02-04T11:53:24.841Z"
   },
   {
    "duration": 16,
    "start_time": "2023-02-04T11:54:52.419Z"
   },
   {
    "duration": 9,
    "start_time": "2023-02-04T11:59:58.617Z"
   },
   {
    "duration": 13,
    "start_time": "2023-02-04T12:00:02.610Z"
   },
   {
    "duration": 17,
    "start_time": "2023-02-04T12:00:29.320Z"
   },
   {
    "duration": 729,
    "start_time": "2023-02-04T12:06:07.235Z"
   },
   {
    "duration": 749,
    "start_time": "2023-02-04T12:06:31.140Z"
   },
   {
    "duration": 981,
    "start_time": "2023-02-04T12:06:57.466Z"
   },
   {
    "duration": 728,
    "start_time": "2023-02-04T12:08:01.819Z"
   },
   {
    "duration": 10,
    "start_time": "2023-02-04T12:10:25.059Z"
   },
   {
    "duration": 14,
    "start_time": "2023-02-04T12:10:41.012Z"
   },
   {
    "duration": 19,
    "start_time": "2023-02-04T12:12:39.746Z"
   },
   {
    "duration": 15,
    "start_time": "2023-02-04T12:13:43.578Z"
   },
   {
    "duration": 3,
    "start_time": "2023-02-04T12:41:42.079Z"
   },
   {
    "duration": 4,
    "start_time": "2023-02-04T12:41:47.956Z"
   },
   {
    "duration": 11,
    "start_time": "2023-02-04T12:41:50.225Z"
   },
   {
    "duration": 3,
    "start_time": "2023-02-04T12:42:02.085Z"
   },
   {
    "duration": 3,
    "start_time": "2023-02-04T12:42:25.936Z"
   },
   {
    "duration": 13,
    "start_time": "2023-02-04T12:45:02.332Z"
   },
   {
    "duration": 44,
    "start_time": "2023-02-04T12:47:58.989Z"
   },
   {
    "duration": 34,
    "start_time": "2023-02-04T12:49:28.031Z"
   },
   {
    "duration": 29,
    "start_time": "2023-02-04T12:49:36.102Z"
   },
   {
    "duration": 22,
    "start_time": "2023-02-04T12:49:58.139Z"
   },
   {
    "duration": 29,
    "start_time": "2023-02-04T12:52:50.696Z"
   },
   {
    "duration": 31,
    "start_time": "2023-02-04T12:53:13.485Z"
   },
   {
    "duration": 77,
    "start_time": "2023-02-04T12:57:02.893Z"
   },
   {
    "duration": 10,
    "start_time": "2023-02-04T12:57:08.981Z"
   },
   {
    "duration": 20,
    "start_time": "2023-02-04T12:57:18.541Z"
   },
   {
    "duration": 20,
    "start_time": "2023-02-04T12:57:23.861Z"
   },
   {
    "duration": 27,
    "start_time": "2023-02-04T12:58:06.230Z"
   },
   {
    "duration": 21,
    "start_time": "2023-02-04T12:58:18.349Z"
   },
   {
    "duration": 1101,
    "start_time": "2023-02-04T12:59:12.432Z"
   },
   {
    "duration": 911,
    "start_time": "2023-02-04T12:59:23.070Z"
   },
   {
    "duration": 1006,
    "start_time": "2023-02-04T12:59:42.313Z"
   },
   {
    "duration": 33,
    "start_time": "2023-02-04T12:59:57.128Z"
   },
   {
    "duration": 24,
    "start_time": "2023-02-04T13:00:47.030Z"
   },
   {
    "duration": 23,
    "start_time": "2023-02-04T13:02:04.474Z"
   },
   {
    "duration": 20,
    "start_time": "2023-02-04T13:02:27.780Z"
   },
   {
    "duration": 26,
    "start_time": "2023-02-04T13:03:52.334Z"
   },
   {
    "duration": 9,
    "start_time": "2023-02-04T13:04:33.755Z"
   },
   {
    "duration": 23,
    "start_time": "2023-02-04T13:04:51.779Z"
   },
   {
    "duration": 34,
    "start_time": "2023-02-04T13:31:43.986Z"
   },
   {
    "duration": 29,
    "start_time": "2023-02-04T13:32:47.034Z"
   },
   {
    "duration": 33,
    "start_time": "2023-02-04T13:33:10.275Z"
   },
   {
    "duration": 37,
    "start_time": "2023-02-04T13:33:29.290Z"
   },
   {
    "duration": 11,
    "start_time": "2023-02-04T13:34:30.673Z"
   },
   {
    "duration": 17,
    "start_time": "2023-02-04T13:35:14.297Z"
   },
   {
    "duration": 18,
    "start_time": "2023-02-04T13:37:18.976Z"
   },
   {
    "duration": 60,
    "start_time": "2023-02-04T13:37:48.289Z"
   },
   {
    "duration": 43,
    "start_time": "2023-02-04T13:37:55.834Z"
   },
   {
    "duration": 22,
    "start_time": "2023-02-04T13:38:04.273Z"
   },
   {
    "duration": 31,
    "start_time": "2023-02-04T13:38:10.910Z"
   },
   {
    "duration": 21,
    "start_time": "2023-02-04T13:39:18.458Z"
   },
   {
    "duration": 19,
    "start_time": "2023-02-04T13:39:40.528Z"
   },
   {
    "duration": 17,
    "start_time": "2023-02-04T13:40:05.036Z"
   },
   {
    "duration": 20,
    "start_time": "2023-02-04T13:41:22.279Z"
   },
   {
    "duration": 21,
    "start_time": "2023-02-04T13:41:33.820Z"
   },
   {
    "duration": 24,
    "start_time": "2023-02-04T13:42:16.792Z"
   },
   {
    "duration": 20,
    "start_time": "2023-02-04T13:43:15.736Z"
   },
   {
    "duration": 20,
    "start_time": "2023-02-04T13:44:31.016Z"
   },
   {
    "duration": 23,
    "start_time": "2023-02-04T13:47:12.895Z"
   },
   {
    "duration": 27,
    "start_time": "2023-02-04T13:47:41.367Z"
   },
   {
    "duration": 8,
    "start_time": "2023-02-04T13:53:32.844Z"
   },
   {
    "duration": 9,
    "start_time": "2023-02-04T13:54:55.048Z"
   },
   {
    "duration": 65,
    "start_time": "2023-02-05T10:00:10.105Z"
   },
   {
    "duration": 7,
    "start_time": "2023-02-05T10:00:45.575Z"
   },
   {
    "duration": 6,
    "start_time": "2023-02-05T10:01:08.778Z"
   },
   {
    "duration": 9,
    "start_time": "2023-02-05T10:02:42.171Z"
   },
   {
    "duration": 9,
    "start_time": "2023-02-05T10:04:08.394Z"
   },
   {
    "duration": 22,
    "start_time": "2023-02-05T10:04:49.306Z"
   },
   {
    "duration": 441,
    "start_time": "2023-02-05T10:08:12.401Z"
   },
   {
    "duration": 15,
    "start_time": "2023-02-05T10:09:07.855Z"
   },
   {
    "duration": 9,
    "start_time": "2023-02-05T10:09:14.886Z"
   },
   {
    "duration": 9,
    "start_time": "2023-02-05T10:11:31.841Z"
   },
   {
    "duration": 874,
    "start_time": "2023-02-05T10:15:11.218Z"
   },
   {
    "duration": 747,
    "start_time": "2023-02-05T10:15:31.738Z"
   },
   {
    "duration": 43,
    "start_time": "2023-02-05T10:19:03.157Z"
   },
   {
    "duration": 839,
    "start_time": "2023-02-05T10:19:46.522Z"
   },
   {
    "duration": 769,
    "start_time": "2023-02-05T10:22:11.909Z"
   },
   {
    "duration": 7,
    "start_time": "2023-02-05T10:23:45.646Z"
   },
   {
    "duration": 5,
    "start_time": "2023-02-05T10:25:05.541Z"
   },
   {
    "duration": 848,
    "start_time": "2023-02-05T10:31:01.829Z"
   },
   {
    "duration": 852,
    "start_time": "2023-02-05T10:31:16.577Z"
   },
   {
    "duration": 6,
    "start_time": "2023-02-05T10:31:46.695Z"
   },
   {
    "duration": 12,
    "start_time": "2023-02-05T10:38:29.437Z"
   },
   {
    "duration": 9,
    "start_time": "2023-02-05T10:39:01.597Z"
   },
   {
    "duration": 5,
    "start_time": "2023-02-05T10:40:01.884Z"
   },
   {
    "duration": 695,
    "start_time": "2023-02-05T10:41:14.974Z"
   },
   {
    "duration": 655,
    "start_time": "2023-02-05T10:44:41.929Z"
   },
   {
    "duration": 696,
    "start_time": "2023-02-05T10:45:43.567Z"
   },
   {
    "duration": 638,
    "start_time": "2023-02-05T10:45:53.575Z"
   },
   {
    "duration": 8,
    "start_time": "2023-02-05T11:01:58.036Z"
   },
   {
    "duration": 8,
    "start_time": "2023-02-05T11:02:11.727Z"
   },
   {
    "duration": 7,
    "start_time": "2023-02-05T11:03:48.785Z"
   },
   {
    "duration": 7,
    "start_time": "2023-02-05T11:04:52.554Z"
   },
   {
    "duration": 9,
    "start_time": "2023-02-05T11:05:29.039Z"
   },
   {
    "duration": 7,
    "start_time": "2023-02-05T11:05:51.301Z"
   },
   {
    "duration": 7,
    "start_time": "2023-02-05T11:06:02.944Z"
   },
   {
    "duration": 8,
    "start_time": "2023-02-05T11:06:17.793Z"
   },
   {
    "duration": 18,
    "start_time": "2023-02-05T11:06:26.805Z"
   },
   {
    "duration": 15,
    "start_time": "2023-02-05T11:07:02.724Z"
   },
   {
    "duration": 7,
    "start_time": "2023-02-05T11:07:19.967Z"
   },
   {
    "duration": 285,
    "start_time": "2023-02-05T11:07:33.733Z"
   },
   {
    "duration": 11,
    "start_time": "2023-02-05T11:07:38.260Z"
   },
   {
    "duration": 10,
    "start_time": "2023-02-05T11:07:44.729Z"
   },
   {
    "duration": 4,
    "start_time": "2023-02-05T11:07:54.503Z"
   },
   {
    "duration": 13,
    "start_time": "2023-02-05T11:07:59.976Z"
   },
   {
    "duration": 6,
    "start_time": "2023-02-05T11:08:07.869Z"
   },
   {
    "duration": 21,
    "start_time": "2023-02-05T11:08:11.967Z"
   },
   {
    "duration": 18,
    "start_time": "2023-02-05T11:08:23.868Z"
   },
   {
    "duration": 10,
    "start_time": "2023-02-05T11:09:01.811Z"
   },
   {
    "duration": 180,
    "start_time": "2023-02-05T11:09:01.823Z"
   },
   {
    "duration": 14,
    "start_time": "2023-02-05T11:09:02.005Z"
   },
   {
    "duration": 24,
    "start_time": "2023-02-05T11:09:02.020Z"
   },
   {
    "duration": 36,
    "start_time": "2023-02-05T11:09:02.046Z"
   },
   {
    "duration": 22,
    "start_time": "2023-02-05T11:09:02.084Z"
   },
   {
    "duration": 45,
    "start_time": "2023-02-05T11:09:02.107Z"
   },
   {
    "duration": 13,
    "start_time": "2023-02-05T11:09:02.154Z"
   },
   {
    "duration": 26,
    "start_time": "2023-02-05T11:09:02.169Z"
   },
   {
    "duration": 42,
    "start_time": "2023-02-05T11:09:02.196Z"
   },
   {
    "duration": 55,
    "start_time": "2023-02-05T11:09:02.240Z"
   },
   {
    "duration": 86,
    "start_time": "2023-02-05T11:09:02.296Z"
   },
   {
    "duration": 78,
    "start_time": "2023-02-05T11:09:02.384Z"
   },
   {
    "duration": 59,
    "start_time": "2023-02-05T11:09:02.464Z"
   },
   {
    "duration": 10,
    "start_time": "2023-02-05T11:09:02.525Z"
   },
   {
    "duration": 8,
    "start_time": "2023-02-05T11:09:02.537Z"
   },
   {
    "duration": 12,
    "start_time": "2023-02-05T11:09:02.547Z"
   },
   {
    "duration": 13,
    "start_time": "2023-02-05T11:09:02.560Z"
   },
   {
    "duration": 41,
    "start_time": "2023-02-05T11:09:02.574Z"
   },
   {
    "duration": 21,
    "start_time": "2023-02-05T11:09:02.616Z"
   },
   {
    "duration": 8,
    "start_time": "2023-02-05T11:09:02.638Z"
   },
   {
    "duration": 6,
    "start_time": "2023-02-05T11:09:02.647Z"
   },
   {
    "duration": 4,
    "start_time": "2023-02-05T11:09:02.655Z"
   },
   {
    "duration": 8,
    "start_time": "2023-02-05T11:09:02.661Z"
   },
   {
    "duration": 6,
    "start_time": "2023-02-05T11:09:02.670Z"
   },
   {
    "duration": 5,
    "start_time": "2023-02-05T11:09:02.678Z"
   },
   {
    "duration": 39,
    "start_time": "2023-02-05T11:09:02.684Z"
   },
   {
    "duration": 809,
    "start_time": "2023-02-05T11:09:02.724Z"
   },
   {
    "duration": 0,
    "start_time": "2023-02-05T11:09:03.535Z"
   },
   {
    "duration": 0,
    "start_time": "2023-02-05T11:09:03.536Z"
   },
   {
    "duration": 0,
    "start_time": "2023-02-05T11:09:03.538Z"
   },
   {
    "duration": 0,
    "start_time": "2023-02-05T11:09:03.539Z"
   },
   {
    "duration": 0,
    "start_time": "2023-02-05T11:09:03.540Z"
   },
   {
    "duration": 0,
    "start_time": "2023-02-05T11:09:03.542Z"
   },
   {
    "duration": 0,
    "start_time": "2023-02-05T11:09:03.543Z"
   },
   {
    "duration": 0,
    "start_time": "2023-02-05T11:09:03.545Z"
   },
   {
    "duration": 0,
    "start_time": "2023-02-05T11:09:03.546Z"
   },
   {
    "duration": 0,
    "start_time": "2023-02-05T11:09:03.547Z"
   },
   {
    "duration": 695,
    "start_time": "2023-02-05T11:09:57.804Z"
   },
   {
    "duration": 744,
    "start_time": "2023-02-05T11:12:06.941Z"
   },
   {
    "duration": 758,
    "start_time": "2023-02-05T11:14:58.780Z"
   },
   {
    "duration": 5,
    "start_time": "2023-02-05T11:15:24.928Z"
   },
   {
    "duration": 798,
    "start_time": "2023-02-05T11:15:46.081Z"
   },
   {
    "duration": 3,
    "start_time": "2023-02-05T11:15:54.362Z"
   },
   {
    "duration": 7,
    "start_time": "2023-02-05T11:20:45.642Z"
   },
   {
    "duration": 8,
    "start_time": "2023-02-05T11:21:51.736Z"
   },
   {
    "duration": 55,
    "start_time": "2023-02-05T11:24:14.266Z"
   },
   {
    "duration": 17,
    "start_time": "2023-02-05T11:24:45.662Z"
   },
   {
    "duration": 18,
    "start_time": "2023-02-05T11:25:49.063Z"
   },
   {
    "duration": 15,
    "start_time": "2023-02-05T11:26:17.159Z"
   },
   {
    "duration": 17,
    "start_time": "2023-02-05T11:26:59.774Z"
   },
   {
    "duration": 36,
    "start_time": "2023-02-05T11:27:45.494Z"
   },
   {
    "duration": 21,
    "start_time": "2023-02-05T11:27:57.831Z"
   },
   {
    "duration": 10,
    "start_time": "2023-02-05T11:28:26.156Z"
   },
   {
    "duration": 783,
    "start_time": "2023-02-05T11:29:58.966Z"
   },
   {
    "duration": 8,
    "start_time": "2023-02-05T11:31:15.164Z"
   },
   {
    "duration": 12,
    "start_time": "2023-02-05T11:31:30.725Z"
   },
   {
    "duration": 961,
    "start_time": "2023-02-05T11:32:00.604Z"
   },
   {
    "duration": 7,
    "start_time": "2023-02-05T11:33:30.629Z"
   },
   {
    "duration": 15,
    "start_time": "2023-02-05T11:33:34.053Z"
   },
   {
    "duration": 15,
    "start_time": "2023-02-05T11:35:49.373Z"
   },
   {
    "duration": 15,
    "start_time": "2023-02-05T11:37:06.060Z"
   },
   {
    "duration": 13,
    "start_time": "2023-02-05T11:37:34.468Z"
   },
   {
    "duration": 15,
    "start_time": "2023-02-05T11:39:16.988Z"
   },
   {
    "duration": 4,
    "start_time": "2023-02-05T11:39:37.483Z"
   },
   {
    "duration": 20,
    "start_time": "2023-02-05T11:40:02.773Z"
   },
   {
    "duration": 16,
    "start_time": "2023-02-05T11:40:49.246Z"
   },
   {
    "duration": 15,
    "start_time": "2023-02-05T11:45:59.782Z"
   },
   {
    "duration": 14,
    "start_time": "2023-02-05T11:51:14.830Z"
   },
   {
    "duration": 14,
    "start_time": "2023-02-05T11:52:20.746Z"
   },
   {
    "duration": 12,
    "start_time": "2023-02-05T11:52:22.795Z"
   },
   {
    "duration": 5,
    "start_time": "2023-02-05T11:52:28.451Z"
   },
   {
    "duration": 18,
    "start_time": "2023-02-05T11:52:32.025Z"
   },
   {
    "duration": 14,
    "start_time": "2023-02-05T11:53:53.564Z"
   },
   {
    "duration": 17,
    "start_time": "2023-02-05T11:54:24.029Z"
   },
   {
    "duration": 12,
    "start_time": "2023-02-05T11:55:04.856Z"
   },
   {
    "duration": 18,
    "start_time": "2023-02-05T11:57:02.236Z"
   },
   {
    "duration": 13,
    "start_time": "2023-02-05T11:57:05.906Z"
   },
   {
    "duration": 30,
    "start_time": "2023-02-05T11:57:08.105Z"
   },
   {
    "duration": 4,
    "start_time": "2023-02-05T11:57:57.269Z"
   },
   {
    "duration": 25,
    "start_time": "2023-02-05T11:58:00.244Z"
   },
   {
    "duration": 4,
    "start_time": "2023-02-05T11:59:30.081Z"
   },
   {
    "duration": 17,
    "start_time": "2023-02-05T11:59:32.380Z"
   },
   {
    "duration": 19,
    "start_time": "2023-02-05T12:00:17.258Z"
   },
   {
    "duration": 7,
    "start_time": "2023-02-05T12:00:20.161Z"
   },
   {
    "duration": 23,
    "start_time": "2023-02-05T12:00:22.128Z"
   },
   {
    "duration": 12,
    "start_time": "2023-02-05T12:01:03.809Z"
   },
   {
    "duration": 5,
    "start_time": "2023-02-05T12:01:13.785Z"
   },
   {
    "duration": 17,
    "start_time": "2023-02-05T12:01:15.833Z"
   },
   {
    "duration": 5,
    "start_time": "2023-02-05T12:02:10.296Z"
   },
   {
    "duration": 16,
    "start_time": "2023-02-05T12:02:13.227Z"
   },
   {
    "duration": 11,
    "start_time": "2023-02-05T12:02:29.208Z"
   },
   {
    "duration": 14,
    "start_time": "2023-02-05T12:02:31.488Z"
   },
   {
    "duration": 13,
    "start_time": "2023-02-05T12:02:36.216Z"
   },
   {
    "duration": 24,
    "start_time": "2023-02-05T12:02:38.601Z"
   },
   {
    "duration": 19,
    "start_time": "2023-02-05T12:02:41.009Z"
   },
   {
    "duration": 23,
    "start_time": "2023-02-05T12:06:21.025Z"
   },
   {
    "duration": 30,
    "start_time": "2023-02-05T12:07:55.937Z"
   },
   {
    "duration": 12,
    "start_time": "2023-02-05T12:08:24.286Z"
   },
   {
    "duration": 5,
    "start_time": "2023-02-05T12:08:53.774Z"
   },
   {
    "duration": 9,
    "start_time": "2023-02-05T12:08:58.358Z"
   },
   {
    "duration": 6,
    "start_time": "2023-02-05T12:09:01.590Z"
   },
   {
    "duration": 20,
    "start_time": "2023-02-05T12:09:44.303Z"
   },
   {
    "duration": 7,
    "start_time": "2023-02-05T12:09:57.167Z"
   },
   {
    "duration": 5,
    "start_time": "2023-02-05T12:09:59.527Z"
   },
   {
    "duration": 32,
    "start_time": "2023-02-05T12:14:17.906Z"
   },
   {
    "duration": 122,
    "start_time": "2023-02-05T12:16:58.505Z"
   },
   {
    "duration": 80,
    "start_time": "2023-02-05T12:18:31.380Z"
   },
   {
    "duration": 61,
    "start_time": "2023-02-05T12:21:52.443Z"
   },
   {
    "duration": 19,
    "start_time": "2023-02-05T12:23:21.402Z"
   },
   {
    "duration": 9,
    "start_time": "2023-02-05T12:23:44.866Z"
   },
   {
    "duration": 10,
    "start_time": "2023-02-05T12:24:58.343Z"
   },
   {
    "duration": 12,
    "start_time": "2023-02-05T12:25:09.145Z"
   },
   {
    "duration": 10,
    "start_time": "2023-02-05T12:26:01.264Z"
   },
   {
    "duration": 8,
    "start_time": "2023-02-05T12:27:48.614Z"
   },
   {
    "duration": 10,
    "start_time": "2023-02-05T12:28:09.821Z"
   },
   {
    "duration": 106,
    "start_time": "2023-02-05T12:30:02.094Z"
   },
   {
    "duration": 45,
    "start_time": "2023-02-05T12:30:12.523Z"
   },
   {
    "duration": 7,
    "start_time": "2023-02-05T12:30:18.892Z"
   },
   {
    "duration": 50,
    "start_time": "2023-02-05T12:30:36.574Z"
   },
   {
    "duration": 50,
    "start_time": "2023-02-05T12:32:02.380Z"
   },
   {
    "duration": 11,
    "start_time": "2023-02-05T12:33:44.267Z"
   },
   {
    "duration": 39,
    "start_time": "2023-02-05T12:37:13.888Z"
   },
   {
    "duration": 39,
    "start_time": "2023-02-05T12:38:27.786Z"
   },
   {
    "duration": 17,
    "start_time": "2023-02-05T12:40:24.285Z"
   },
   {
    "duration": 16,
    "start_time": "2023-02-05T12:41:22.461Z"
   },
   {
    "duration": 17,
    "start_time": "2023-02-05T12:42:29.420Z"
   },
   {
    "duration": 37,
    "start_time": "2023-02-05T12:43:20.804Z"
   },
   {
    "duration": 40,
    "start_time": "2023-02-05T12:43:21.209Z"
   },
   {
    "duration": 63,
    "start_time": "2023-02-05T12:43:57.811Z"
   },
   {
    "duration": 80,
    "start_time": "2023-02-05T15:10:32.980Z"
   },
   {
    "duration": 16,
    "start_time": "2023-02-05T15:12:41.460Z"
   },
   {
    "duration": 12,
    "start_time": "2023-02-05T15:12:43.284Z"
   }
  ],
  "celltoolbar": "Необработанный формат ячейки",
  "colab": {
   "collapsed_sections": [
    "E0vqbgi9ay0H",
    "VUC88oWjTJw2"
   ],
   "provenance": []
  },
  "kernelspec": {
   "display_name": "Python 3 (ipykernel)",
   "language": "python",
   "name": "python3"
  },
  "language_info": {
   "codemirror_mode": {
    "name": "ipython",
    "version": 3
   },
   "file_extension": ".py",
   "mimetype": "text/x-python",
   "name": "python",
   "nbconvert_exporter": "python",
   "pygments_lexer": "ipython3",
   "version": "3.9.13"
  },
  "toc": {
   "base_numbering": 1,
   "nav_menu": {
    "height": "215px",
    "width": "403px"
   },
   "number_sections": true,
   "sideBar": true,
   "skip_h1_title": true,
   "title_cell": "Table of Contents",
   "title_sidebar": "Contents",
   "toc_cell": false,
   "toc_position": {
    "height": "calc(100% - 180px)",
    "left": "10px",
    "top": "150px",
    "width": "285.825px"
   },
   "toc_section_display": true,
   "toc_window_display": false
  }
 },
 "nbformat": 4,
 "nbformat_minor": 1
}
