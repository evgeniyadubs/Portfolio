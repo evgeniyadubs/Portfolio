{
 "cells": [
  {
   "cell_type": "markdown",
   "id": "da295211",
   "metadata": {},
   "source": [
    "# Анализ гипотез по увеличению выручки"
   ]
  },
  {
   "cell_type": "markdown",
   "id": "7c4467c3",
   "metadata": {},
   "source": [
    "1. Часть 1. Приоритизация гипотез - oценка 9 гипотез с использование фреймфорков ICE и RICE\n",
    "2. Часть 2. Анализ A/B-теста\n",
    "\n",
    "Цели:\n",
    "* Часть 1. - выявить наиболее приоритетные для проверки гипотезы по увеличению выручки;\n",
    "* Часть 2. - определить различие между группами тестирования и возмозность завершения теста.\n"
   ]
  },
  {
   "cell_type": "markdown",
   "id": "d3a26452",
   "metadata": {},
   "source": [
    "## Описание данных\n",
    "Для исследования предоставлены данные:\n",
    "1. Файл /datasets/hypothesis.csv.\n",
    "* Hypothesis — краткое описание гипотезы;\n",
    "* Reach — охват пользователей по 10-балльной шкале;\n",
    "* Impact — влияние на пользователей по 10-балльной шкале;\n",
    "* Confidence — уверенность в гипотезе по 10-балльной шкале;\n",
    "* Efforts — затраты ресурсов на проверку гипотезы по 10-балльной шкале. Чем больше значение Efforts, тем дороже проверка гипотезы.\n",
    "\n",
    "2. Файл /datasets/orders.csv\n",
    "* transactionId — идентификатор заказа;\n",
    "* visitorId — идентификатор пользователя, совершившего заказ;\n",
    "* date — дата, когда был совершён заказ;\n",
    "* revenue — выручка заказа;\n",
    "* group — группа A/B-теста, в которую попал заказ.\n",
    "\n",
    "3. Файл /datasets/visitors.csv\n",
    "* date — дата;\n",
    "* group — группа A/B-теста;\n",
    "* visitors — количество пользователей в указанную дату в указанной группе A/B-теста"
   ]
  },
  {
   "cell_type": "code",
   "execution_count": 1,
   "id": "f33a4d9b",
   "metadata": {},
   "outputs": [],
   "source": [
    "#импорт данных\n",
    "import pandas as pd\n",
    "import scipy.stats as stats\n",
    "import datetime as dt\n",
    "import numpy as np\n",
    "import math as mth\n",
    "import matplotlib.pyplot as plt\n",
    "from pandas.plotting import register_matplotlib_converters\n",
    "import warnings\n",
    "# конвертеры, которые позволяют использовать типы pandas в matplotlib  \n",
    "register_matplotlib_converters()\n",
    "\n",
    "try: \n",
    "    hypothesis = pd.read_csv('hypothesis.csv') \n",
    "    orders = pd.read_csv('orders.csv')\n",
    "    visitors = pd.read_csv('visitors.csv')\n",
    "except: \n",
    "    hypothesis = pd.read_csv('/datasets/hypothesis.csv') \n",
    "    orders = pd.read_csv('/datasets/orders.csv')\n",
    "    visitors = pd.read_csv('/datasets/visitors.csv') "
   ]
  },
  {
   "cell_type": "markdown",
   "id": "183792dd",
   "metadata": {},
   "source": [
    "## Часть 1. Приоритизация гипотез\n",
    "Оценка предоставленных гипотез с использование фреймфорков ICE и RICE"
   ]
  },
  {
   "cell_type": "code",
   "execution_count": 2,
   "id": "8f2c30e9",
   "metadata": {
    "scrolled": true
   },
   "outputs": [
    {
     "data": {
      "text/html": [
       "<div>\n",
       "<style scoped>\n",
       "    .dataframe tbody tr th:only-of-type {\n",
       "        vertical-align: middle;\n",
       "    }\n",
       "\n",
       "    .dataframe tbody tr th {\n",
       "        vertical-align: top;\n",
       "    }\n",
       "\n",
       "    .dataframe thead th {\n",
       "        text-align: right;\n",
       "    }\n",
       "</style>\n",
       "<table border=\"1\" class=\"dataframe\">\n",
       "  <thead>\n",
       "    <tr style=\"text-align: right;\">\n",
       "      <th></th>\n",
       "      <th>Hypothesis</th>\n",
       "      <th>Reach</th>\n",
       "      <th>Impact</th>\n",
       "      <th>Confidence</th>\n",
       "      <th>Efforts</th>\n",
       "    </tr>\n",
       "  </thead>\n",
       "  <tbody>\n",
       "    <tr>\n",
       "      <th>0</th>\n",
       "      <td>Добавить два новых канала привлечения трафика, что позволит привлекать на 30% больше пользователей</td>\n",
       "      <td>3</td>\n",
       "      <td>10</td>\n",
       "      <td>8</td>\n",
       "      <td>6</td>\n",
       "    </tr>\n",
       "    <tr>\n",
       "      <th>1</th>\n",
       "      <td>Запустить собственную службу доставки, что сократит срок доставки заказов</td>\n",
       "      <td>2</td>\n",
       "      <td>5</td>\n",
       "      <td>4</td>\n",
       "      <td>10</td>\n",
       "    </tr>\n",
       "    <tr>\n",
       "      <th>2</th>\n",
       "      <td>Добавить блоки рекомендаций товаров на сайт интернет магазина, чтобы повысить конверсию и средний чек заказа</td>\n",
       "      <td>8</td>\n",
       "      <td>3</td>\n",
       "      <td>7</td>\n",
       "      <td>3</td>\n",
       "    </tr>\n",
       "    <tr>\n",
       "      <th>3</th>\n",
       "      <td>Изменить структура категорий, что увеличит конверсию, т.к. пользователи быстрее найдут нужный товар</td>\n",
       "      <td>8</td>\n",
       "      <td>3</td>\n",
       "      <td>3</td>\n",
       "      <td>8</td>\n",
       "    </tr>\n",
       "    <tr>\n",
       "      <th>4</th>\n",
       "      <td>Изменить цвет фона главной страницы, чтобы увеличить вовлеченность пользователей</td>\n",
       "      <td>3</td>\n",
       "      <td>1</td>\n",
       "      <td>1</td>\n",
       "      <td>1</td>\n",
       "    </tr>\n",
       "    <tr>\n",
       "      <th>5</th>\n",
       "      <td>Добавить страницу отзывов клиентов о магазине, что позволит увеличить количество заказов</td>\n",
       "      <td>3</td>\n",
       "      <td>2</td>\n",
       "      <td>2</td>\n",
       "      <td>3</td>\n",
       "    </tr>\n",
       "    <tr>\n",
       "      <th>6</th>\n",
       "      <td>Показать на главной странице баннеры с актуальными акциями и распродажами, чтобы увеличить конверсию</td>\n",
       "      <td>5</td>\n",
       "      <td>3</td>\n",
       "      <td>8</td>\n",
       "      <td>3</td>\n",
       "    </tr>\n",
       "    <tr>\n",
       "      <th>7</th>\n",
       "      <td>Добавить форму подписки на все основные страницы, чтобы собрать базу клиентов для email-рассылок</td>\n",
       "      <td>10</td>\n",
       "      <td>7</td>\n",
       "      <td>8</td>\n",
       "      <td>5</td>\n",
       "    </tr>\n",
       "    <tr>\n",
       "      <th>8</th>\n",
       "      <td>Запустить акцию, дающую скидку на товар в день рождения</td>\n",
       "      <td>1</td>\n",
       "      <td>9</td>\n",
       "      <td>9</td>\n",
       "      <td>5</td>\n",
       "    </tr>\n",
       "  </tbody>\n",
       "</table>\n",
       "</div>"
      ],
      "text/plain": [
       "                                                                                                     Hypothesis  \\\n",
       "0            Добавить два новых канала привлечения трафика, что позволит привлекать на 30% больше пользователей   \n",
       "1                                     Запустить собственную службу доставки, что сократит срок доставки заказов   \n",
       "2  Добавить блоки рекомендаций товаров на сайт интернет магазина, чтобы повысить конверсию и средний чек заказа   \n",
       "3           Изменить структура категорий, что увеличит конверсию, т.к. пользователи быстрее найдут нужный товар   \n",
       "4                              Изменить цвет фона главной страницы, чтобы увеличить вовлеченность пользователей   \n",
       "5                      Добавить страницу отзывов клиентов о магазине, что позволит увеличить количество заказов   \n",
       "6          Показать на главной странице баннеры с актуальными акциями и распродажами, чтобы увеличить конверсию   \n",
       "7              Добавить форму подписки на все основные страницы, чтобы собрать базу клиентов для email-рассылок   \n",
       "8                                                       Запустить акцию, дающую скидку на товар в день рождения   \n",
       "\n",
       "   Reach  Impact  Confidence  Efforts  \n",
       "0      3      10           8        6  \n",
       "1      2       5           4       10  \n",
       "2      8       3           7        3  \n",
       "3      8       3           3        8  \n",
       "4      3       1           1        1  \n",
       "5      3       2           2        3  \n",
       "6      5       3           8        3  \n",
       "7     10       7           8        5  \n",
       "8      1       9           9        5  "
      ]
     },
     "execution_count": 2,
     "metadata": {},
     "output_type": "execute_result"
    }
   ],
   "source": [
    "#анализ данных\n",
    "pd.options.display.max_colwidth = 110\n",
    "hypothesis"
   ]
  },
  {
   "cell_type": "code",
   "execution_count": 3,
   "id": "a02a38fb",
   "metadata": {},
   "outputs": [
    {
     "name": "stdout",
     "output_type": "stream",
     "text": [
      "<class 'pandas.core.frame.DataFrame'>\n",
      "RangeIndex: 9 entries, 0 to 8\n",
      "Data columns (total 5 columns):\n",
      " #   Column      Non-Null Count  Dtype \n",
      "---  ------      --------------  ----- \n",
      " 0   Hypothesis  9 non-null      object\n",
      " 1   Reach       9 non-null      int64 \n",
      " 2   Impact      9 non-null      int64 \n",
      " 3   Confidence  9 non-null      int64 \n",
      " 4   Efforts     9 non-null      int64 \n",
      "dtypes: int64(4), object(1)\n",
      "memory usage: 488.0+ bytes\n"
     ]
    }
   ],
   "source": [
    "hypothesis.info()"
   ]
  },
  {
   "cell_type": "markdown",
   "id": "70c322e9",
   "metadata": {},
   "source": [
    "**Вывод**\n",
    "\n",
    "Датасет содержит информацию о 9 гипотезах. Пропусков нет. Дубликатов нет. Данные в подходящем формате."
   ]
  },
  {
   "cell_type": "markdown",
   "id": "5044a87a",
   "metadata": {},
   "source": [
    "### Применение модели ICE"
   ]
  },
  {
   "cell_type": "code",
   "execution_count": 4,
   "id": "ce260250",
   "metadata": {
    "scrolled": false
   },
   "outputs": [
    {
     "data": {
      "text/html": [
       "<div>\n",
       "<style scoped>\n",
       "    .dataframe tbody tr th:only-of-type {\n",
       "        vertical-align: middle;\n",
       "    }\n",
       "\n",
       "    .dataframe tbody tr th {\n",
       "        vertical-align: top;\n",
       "    }\n",
       "\n",
       "    .dataframe thead th {\n",
       "        text-align: right;\n",
       "    }\n",
       "</style>\n",
       "<table border=\"1\" class=\"dataframe\">\n",
       "  <thead>\n",
       "    <tr style=\"text-align: right;\">\n",
       "      <th></th>\n",
       "      <th>Hypothesis</th>\n",
       "      <th>ICE</th>\n",
       "    </tr>\n",
       "  </thead>\n",
       "  <tbody>\n",
       "    <tr>\n",
       "      <th>8</th>\n",
       "      <td>Запустить акцию, дающую скидку на товар в день рождения</td>\n",
       "      <td>16.20</td>\n",
       "    </tr>\n",
       "    <tr>\n",
       "      <th>0</th>\n",
       "      <td>Добавить два новых канала привлечения трафика, что позволит привлекать на 30% больше пользователей</td>\n",
       "      <td>13.33</td>\n",
       "    </tr>\n",
       "    <tr>\n",
       "      <th>7</th>\n",
       "      <td>Добавить форму подписки на все основные страницы, чтобы собрать базу клиентов для email-рассылок</td>\n",
       "      <td>11.20</td>\n",
       "    </tr>\n",
       "    <tr>\n",
       "      <th>6</th>\n",
       "      <td>Показать на главной странице баннеры с актуальными акциями и распродажами, чтобы увеличить конверсию</td>\n",
       "      <td>8.00</td>\n",
       "    </tr>\n",
       "    <tr>\n",
       "      <th>2</th>\n",
       "      <td>Добавить блоки рекомендаций товаров на сайт интернет магазина, чтобы повысить конверсию и средний чек заказа</td>\n",
       "      <td>7.00</td>\n",
       "    </tr>\n",
       "    <tr>\n",
       "      <th>1</th>\n",
       "      <td>Запустить собственную службу доставки, что сократит срок доставки заказов</td>\n",
       "      <td>2.00</td>\n",
       "    </tr>\n",
       "    <tr>\n",
       "      <th>5</th>\n",
       "      <td>Добавить страницу отзывов клиентов о магазине, что позволит увеличить количество заказов</td>\n",
       "      <td>1.33</td>\n",
       "    </tr>\n",
       "    <tr>\n",
       "      <th>3</th>\n",
       "      <td>Изменить структура категорий, что увеличит конверсию, т.к. пользователи быстрее найдут нужный товар</td>\n",
       "      <td>1.12</td>\n",
       "    </tr>\n",
       "    <tr>\n",
       "      <th>4</th>\n",
       "      <td>Изменить цвет фона главной страницы, чтобы увеличить вовлеченность пользователей</td>\n",
       "      <td>1.00</td>\n",
       "    </tr>\n",
       "  </tbody>\n",
       "</table>\n",
       "</div>"
      ],
      "text/plain": [
       "                                                                                                     Hypothesis  \\\n",
       "8                                                       Запустить акцию, дающую скидку на товар в день рождения   \n",
       "0            Добавить два новых канала привлечения трафика, что позволит привлекать на 30% больше пользователей   \n",
       "7              Добавить форму подписки на все основные страницы, чтобы собрать базу клиентов для email-рассылок   \n",
       "6          Показать на главной странице баннеры с актуальными акциями и распродажами, чтобы увеличить конверсию   \n",
       "2  Добавить блоки рекомендаций товаров на сайт интернет магазина, чтобы повысить конверсию и средний чек заказа   \n",
       "1                                     Запустить собственную службу доставки, что сократит срок доставки заказов   \n",
       "5                      Добавить страницу отзывов клиентов о магазине, что позволит увеличить количество заказов   \n",
       "3           Изменить структура категорий, что увеличит конверсию, т.к. пользователи быстрее найдут нужный товар   \n",
       "4                              Изменить цвет фона главной страницы, чтобы увеличить вовлеченность пользователей   \n",
       "\n",
       "     ICE  \n",
       "8  16.20  \n",
       "0  13.33  \n",
       "7  11.20  \n",
       "6   8.00  \n",
       "2   7.00  \n",
       "1   2.00  \n",
       "5   1.33  \n",
       "3   1.12  \n",
       "4   1.00  "
      ]
     },
     "execution_count": 4,
     "metadata": {},
     "output_type": "execute_result"
    }
   ],
   "source": [
    "pd.options.display.max_colwidth = 110\n",
    "hypothesis['ICE'] = (hypothesis['Impact'] * hypothesis['Confidence'] / hypothesis['Efforts']).round(2)\n",
    "hypothesis[['Hypothesis', 'ICE']].sort_values('ICE', ascending=False)"
   ]
  },
  {
   "cell_type": "markdown",
   "id": "006db4d7",
   "metadata": {},
   "source": [
    "**Вывод**\n",
    "\n",
    "Исходя из объёма изменений, уверенности в результате и затрат на реализацию, наиболее приоритетными являются гипотезы:\n",
    "1. Запустить акцию, дающую скидку на товар в день рождения\n",
    "2. Добавить два новых канала привлечения трафика, что позволит привлекать на 30% больше пользователей\n",
    "3. Добавить форму подписки на все основные страницы, чтобы собрать базу клиентов для email-рассылок"
   ]
  },
  {
   "cell_type": "markdown",
   "id": "5ca5815e",
   "metadata": {},
   "source": [
    "### Применение модели RICE"
   ]
  },
  {
   "cell_type": "code",
   "execution_count": 5,
   "id": "24674e6c",
   "metadata": {
    "scrolled": true
   },
   "outputs": [
    {
     "data": {
      "text/html": [
       "<div>\n",
       "<style scoped>\n",
       "    .dataframe tbody tr th:only-of-type {\n",
       "        vertical-align: middle;\n",
       "    }\n",
       "\n",
       "    .dataframe tbody tr th {\n",
       "        vertical-align: top;\n",
       "    }\n",
       "\n",
       "    .dataframe thead th {\n",
       "        text-align: right;\n",
       "    }\n",
       "</style>\n",
       "<table border=\"1\" class=\"dataframe\">\n",
       "  <thead>\n",
       "    <tr style=\"text-align: right;\">\n",
       "      <th></th>\n",
       "      <th>Hypothesis</th>\n",
       "      <th>RICE</th>\n",
       "    </tr>\n",
       "  </thead>\n",
       "  <tbody>\n",
       "    <tr>\n",
       "      <th>7</th>\n",
       "      <td>Добавить форму подписки на все основные страницы, чтобы собрать базу клиентов для email-рассылок</td>\n",
       "      <td>112.0</td>\n",
       "    </tr>\n",
       "    <tr>\n",
       "      <th>2</th>\n",
       "      <td>Добавить блоки рекомендаций товаров на сайт интернет магазина, чтобы повысить конверсию и средний чек заказа</td>\n",
       "      <td>56.0</td>\n",
       "    </tr>\n",
       "    <tr>\n",
       "      <th>0</th>\n",
       "      <td>Добавить два новых канала привлечения трафика, что позволит привлекать на 30% больше пользователей</td>\n",
       "      <td>40.0</td>\n",
       "    </tr>\n",
       "    <tr>\n",
       "      <th>6</th>\n",
       "      <td>Показать на главной странице баннеры с актуальными акциями и распродажами, чтобы увеличить конверсию</td>\n",
       "      <td>40.0</td>\n",
       "    </tr>\n",
       "    <tr>\n",
       "      <th>8</th>\n",
       "      <td>Запустить акцию, дающую скидку на товар в день рождения</td>\n",
       "      <td>16.2</td>\n",
       "    </tr>\n",
       "    <tr>\n",
       "      <th>3</th>\n",
       "      <td>Изменить структура категорий, что увеличит конверсию, т.к. пользователи быстрее найдут нужный товар</td>\n",
       "      <td>9.0</td>\n",
       "    </tr>\n",
       "    <tr>\n",
       "      <th>1</th>\n",
       "      <td>Запустить собственную службу доставки, что сократит срок доставки заказов</td>\n",
       "      <td>4.0</td>\n",
       "    </tr>\n",
       "    <tr>\n",
       "      <th>5</th>\n",
       "      <td>Добавить страницу отзывов клиентов о магазине, что позволит увеличить количество заказов</td>\n",
       "      <td>4.0</td>\n",
       "    </tr>\n",
       "    <tr>\n",
       "      <th>4</th>\n",
       "      <td>Изменить цвет фона главной страницы, чтобы увеличить вовлеченность пользователей</td>\n",
       "      <td>3.0</td>\n",
       "    </tr>\n",
       "  </tbody>\n",
       "</table>\n",
       "</div>"
      ],
      "text/plain": [
       "                                                                                                     Hypothesis  \\\n",
       "7              Добавить форму подписки на все основные страницы, чтобы собрать базу клиентов для email-рассылок   \n",
       "2  Добавить блоки рекомендаций товаров на сайт интернет магазина, чтобы повысить конверсию и средний чек заказа   \n",
       "0            Добавить два новых канала привлечения трафика, что позволит привлекать на 30% больше пользователей   \n",
       "6          Показать на главной странице баннеры с актуальными акциями и распродажами, чтобы увеличить конверсию   \n",
       "8                                                       Запустить акцию, дающую скидку на товар в день рождения   \n",
       "3           Изменить структура категорий, что увеличит конверсию, т.к. пользователи быстрее найдут нужный товар   \n",
       "1                                     Запустить собственную службу доставки, что сократит срок доставки заказов   \n",
       "5                      Добавить страницу отзывов клиентов о магазине, что позволит увеличить количество заказов   \n",
       "4                              Изменить цвет фона главной страницы, чтобы увеличить вовлеченность пользователей   \n",
       "\n",
       "    RICE  \n",
       "7  112.0  \n",
       "2   56.0  \n",
       "0   40.0  \n",
       "6   40.0  \n",
       "8   16.2  \n",
       "3    9.0  \n",
       "1    4.0  \n",
       "5    4.0  \n",
       "4    3.0  "
      ]
     },
     "execution_count": 5,
     "metadata": {},
     "output_type": "execute_result"
    }
   ],
   "source": [
    "pd.options.display.max_colwidth = 110\n",
    "hypothesis['RICE'] = hypothesis['Reach'] * hypothesis['Impact'] * hypothesis['Confidence'] / hypothesis['Efforts']\n",
    "hypothesis[['Hypothesis', 'RICE']].sort_values('RICE', ascending=False)"
   ]
  },
  {
   "cell_type": "markdown",
   "id": "0e5aabfc",
   "metadata": {},
   "source": [
    "**Вывод**\n",
    "\n",
    "С учетом охвата пользователей, которых коснутся изменения порядок приоритетности следующий:\n",
    "1. Добавить форму подписки на все основные страницы, чтобы собрать базу клиентов для email-рассылок.\n",
    "2. Добавить блоки рекомендаций товаров на сайт интернет магазина, чтобы повысить конверсию и средний чек заказа.\n",
    "3. С одинаковым приоритетом:\n",
    "    * добавить два новых канала привлечения трафика, что позволит привлекать на 30% больше пользователей;\t\n",
    "    * показать на главной странице баннеры с актуальными акциями и распродажами, чтобы увеличить конверсию.\n",
    "\n"
   ]
  },
  {
   "cell_type": "markdown",
   "id": "90cc9435",
   "metadata": {},
   "source": [
    "## Часть 2. Анализ A/B-теста"
   ]
  },
  {
   "cell_type": "markdown",
   "id": "9809b5ec",
   "metadata": {},
   "source": [
    "### Предобработка данных"
   ]
  },
  {
   "cell_type": "code",
   "execution_count": 6,
   "id": "d2f81973",
   "metadata": {},
   "outputs": [],
   "source": [
    "#функция для предобработки данных\n",
    "def pred (df):\n",
    "    print('HEAD')\n",
    "    print(df.head())\n",
    "    print('='*50)\n",
    "    print('INFO')\n",
    "    print(df.info())\n",
    "    print('='*50)\n",
    "    print('ПРОПУСКИ')\n",
    "    print(df.isna().sum())\n",
    "    print('='*50)\n",
    "    print('ПОЛНЫЕ ДУБЛИКАТЫ')\n",
    "    print(df.duplicated().sum())\n",
    "   "
   ]
  },
  {
   "cell_type": "code",
   "execution_count": 7,
   "id": "536972bd",
   "metadata": {},
   "outputs": [
    {
     "name": "stdout",
     "output_type": "stream",
     "text": [
      "HEAD\n",
      "   transactionId   visitorId        date  revenue group\n",
      "0     3667963787  3312258926  2019-08-15     1650     B\n",
      "1     2804400009  3642806036  2019-08-15      730     B\n",
      "2     2961555356  4069496402  2019-08-15      400     A\n",
      "3     3797467345  1196621759  2019-08-15     9759     B\n",
      "4     2282983706  2322279887  2019-08-15     2308     B\n",
      "==================================================\n",
      "INFO\n",
      "<class 'pandas.core.frame.DataFrame'>\n",
      "RangeIndex: 1197 entries, 0 to 1196\n",
      "Data columns (total 5 columns):\n",
      " #   Column         Non-Null Count  Dtype \n",
      "---  ------         --------------  ----- \n",
      " 0   transactionId  1197 non-null   int64 \n",
      " 1   visitorId      1197 non-null   int64 \n",
      " 2   date           1197 non-null   object\n",
      " 3   revenue        1197 non-null   int64 \n",
      " 4   group          1197 non-null   object\n",
      "dtypes: int64(3), object(2)\n",
      "memory usage: 46.9+ KB\n",
      "None\n",
      "==================================================\n",
      "ПРОПУСКИ\n",
      "transactionId    0\n",
      "visitorId        0\n",
      "date             0\n",
      "revenue          0\n",
      "group            0\n",
      "dtype: int64\n",
      "==================================================\n",
      "ПОЛНЫЕ ДУБЛИКАТЫ\n",
      "0\n"
     ]
    }
   ],
   "source": [
    "df = orders\n",
    "pred(df)"
   ]
  },
  {
   "cell_type": "code",
   "execution_count": 8,
   "id": "94de22be",
   "metadata": {},
   "outputs": [],
   "source": [
    "#преобразование ID в категории\n",
    "orders['transactionId'] = orders['transactionId'].astype('category')\n",
    "orders['visitorId'] = orders['visitorId'].astype('category')"
   ]
  },
  {
   "cell_type": "code",
   "execution_count": 9,
   "id": "7f3a3455",
   "metadata": {},
   "outputs": [
    {
     "name": "stdout",
     "output_type": "stream",
     "text": [
      "количество уникальных заказов 1197\n",
      "количество уникальных посетителей 1031\n"
     ]
    }
   ],
   "source": [
    "#подсчет уникальных заказов и посетителей\n",
    "print('количество уникальных заказов', orders['transactionId'].nunique())\n",
    "print('количество уникальных посетителей', orders['visitorId'].nunique())"
   ]
  },
  {
   "cell_type": "code",
   "execution_count": 10,
   "id": "b23deebb",
   "metadata": {},
   "outputs": [
    {
     "name": "stdout",
     "output_type": "stream",
     "text": [
      "минимальная дата 2019-08-01\n",
      "максимальная дата 2019-08-31\n"
     ]
    }
   ],
   "source": [
    "print('минимальная дата', orders['date'].min())\n",
    "print('максимальная дата', orders['date'].max())"
   ]
  },
  {
   "cell_type": "code",
   "execution_count": 11,
   "id": "516f7113",
   "metadata": {
    "scrolled": true
   },
   "outputs": [
    {
     "data": {
      "text/html": [
       "<div>\n",
       "<style scoped>\n",
       "    .dataframe tbody tr th:only-of-type {\n",
       "        vertical-align: middle;\n",
       "    }\n",
       "\n",
       "    .dataframe tbody tr th {\n",
       "        vertical-align: top;\n",
       "    }\n",
       "\n",
       "    .dataframe thead th {\n",
       "        text-align: right;\n",
       "    }\n",
       "</style>\n",
       "<table border=\"1\" class=\"dataframe\">\n",
       "  <thead>\n",
       "    <tr style=\"text-align: right;\">\n",
       "      <th></th>\n",
       "      <th>group</th>\n",
       "      <th>transactionId</th>\n",
       "      <th>visitorId</th>\n",
       "      <th>date</th>\n",
       "    </tr>\n",
       "  </thead>\n",
       "  <tbody>\n",
       "    <tr>\n",
       "      <th>0</th>\n",
       "      <td>A</td>\n",
       "      <td>557</td>\n",
       "      <td>503</td>\n",
       "      <td>31</td>\n",
       "    </tr>\n",
       "    <tr>\n",
       "      <th>1</th>\n",
       "      <td>B</td>\n",
       "      <td>640</td>\n",
       "      <td>586</td>\n",
       "      <td>31</td>\n",
       "    </tr>\n",
       "  </tbody>\n",
       "</table>\n",
       "</div>"
      ],
      "text/plain": [
       "  group  transactionId  visitorId  date\n",
       "0     A            557        503    31\n",
       "1     B            640        586    31"
      ]
     },
     "execution_count": 11,
     "metadata": {},
     "output_type": "execute_result"
    }
   ],
   "source": [
    "#распределения визитов по группам\n",
    "orders.groupby('group')[['transactionId', 'visitorId', 'date']].nunique().reset_index()"
   ]
  },
  {
   "cell_type": "markdown",
   "id": "79246fa2",
   "metadata": {},
   "source": [
    "*сумма уникальных посетителей в каждой группе больше суммы уникальных посетителей в целом - часть посетителей присутствует в обеих группах*"
   ]
  },
  {
   "cell_type": "code",
   "execution_count": 12,
   "id": "4eb04e70",
   "metadata": {},
   "outputs": [
    {
     "name": "stdout",
     "output_type": "stream",
     "text": [
      "visitorId    58\n",
      "dtype: int64\n"
     ]
    }
   ],
   "source": [
    "#количество посетителей, присутствующих в обеих группах \n",
    "visitorsA = orders.loc[orders['group'] == 'A', 'visitorId']\n",
    "visitorsB = orders.loc[orders['group'] == 'B', 'visitorId']\n",
    "print(pd.merge(visitorsA, visitorsB, how ='inner', on =['visitorId']).nunique())"
   ]
  },
  {
   "cell_type": "markdown",
   "id": "78d7a66e",
   "metadata": {},
   "source": [
    "*58 посетителей присутствуют в обеих группах.*"
   ]
  },
  {
   "cell_type": "code",
   "execution_count": 13,
   "id": "cfb9981e",
   "metadata": {},
   "outputs": [
    {
     "data": {
      "text/html": [
       "<div>\n",
       "<style scoped>\n",
       "    .dataframe tbody tr th:only-of-type {\n",
       "        vertical-align: middle;\n",
       "    }\n",
       "\n",
       "    .dataframe tbody tr th {\n",
       "        vertical-align: top;\n",
       "    }\n",
       "\n",
       "    .dataframe thead th {\n",
       "        text-align: right;\n",
       "    }\n",
       "</style>\n",
       "<table border=\"1\" class=\"dataframe\">\n",
       "  <thead>\n",
       "    <tr style=\"text-align: right;\">\n",
       "      <th></th>\n",
       "      <th>revenue</th>\n",
       "    </tr>\n",
       "  </thead>\n",
       "  <tbody>\n",
       "    <tr>\n",
       "      <th>count</th>\n",
       "      <td>1197.00</td>\n",
       "    </tr>\n",
       "    <tr>\n",
       "      <th>mean</th>\n",
       "      <td>8348.01</td>\n",
       "    </tr>\n",
       "    <tr>\n",
       "      <th>std</th>\n",
       "      <td>39191.13</td>\n",
       "    </tr>\n",
       "    <tr>\n",
       "      <th>min</th>\n",
       "      <td>50.00</td>\n",
       "    </tr>\n",
       "    <tr>\n",
       "      <th>25%</th>\n",
       "      <td>1220.00</td>\n",
       "    </tr>\n",
       "    <tr>\n",
       "      <th>50%</th>\n",
       "      <td>2978.00</td>\n",
       "    </tr>\n",
       "    <tr>\n",
       "      <th>75%</th>\n",
       "      <td>8290.00</td>\n",
       "    </tr>\n",
       "    <tr>\n",
       "      <th>max</th>\n",
       "      <td>1294500.00</td>\n",
       "    </tr>\n",
       "  </tbody>\n",
       "</table>\n",
       "</div>"
      ],
      "text/plain": [
       "          revenue\n",
       "count     1197.00\n",
       "mean      8348.01\n",
       "std      39191.13\n",
       "min         50.00\n",
       "25%       1220.00\n",
       "50%       2978.00\n",
       "75%       8290.00\n",
       "max    1294500.00"
      ]
     },
     "execution_count": 13,
     "metadata": {},
     "output_type": "execute_result"
    }
   ],
   "source": [
    "#распределение стоимости заказов\n",
    "orders.describe().round(2)"
   ]
  },
  {
   "cell_type": "markdown",
   "id": "f69bc125",
   "metadata": {},
   "source": [
    "**Вывод**\n",
    "* Датасет содержит информацию о 1197 покупках и 1031 покупателе в период с 1 по 31 августа 2019г.\n",
    "* 58 посетителей присутствуют в обеих группах.\n",
    "* Максимальный чек составил 1294500 у.е., минимальный - 50. Половина заказов  в диапазоне от 50 до 2978 у.е.\n",
    "* Данные распределены на A и B, в обоих группах есть данные за весь период.\n",
    "* Пропусков нет. \n",
    "* Полных дубликатов нет. \n",
    "* Представленные в виде чисел transactionId и visitorId преобразованы в формат категорий.\t"
   ]
  },
  {
   "cell_type": "code",
   "execution_count": 14,
   "id": "a286effc",
   "metadata": {},
   "outputs": [
    {
     "name": "stdout",
     "output_type": "stream",
     "text": [
      "HEAD\n",
      "         date group  visitors\n",
      "0  2019-08-01     A       719\n",
      "1  2019-08-02     A       619\n",
      "2  2019-08-03     A       507\n",
      "3  2019-08-04     A       717\n",
      "4  2019-08-05     A       756\n",
      "==================================================\n",
      "INFO\n",
      "<class 'pandas.core.frame.DataFrame'>\n",
      "RangeIndex: 62 entries, 0 to 61\n",
      "Data columns (total 3 columns):\n",
      " #   Column    Non-Null Count  Dtype \n",
      "---  ------    --------------  ----- \n",
      " 0   date      62 non-null     object\n",
      " 1   group     62 non-null     object\n",
      " 2   visitors  62 non-null     int64 \n",
      "dtypes: int64(1), object(2)\n",
      "memory usage: 1.6+ KB\n",
      "None\n",
      "==================================================\n",
      "ПРОПУСКИ\n",
      "date        0\n",
      "group       0\n",
      "visitors    0\n",
      "dtype: int64\n",
      "==================================================\n",
      "ПОЛНЫЕ ДУБЛИКАТЫ\n",
      "0\n"
     ]
    }
   ],
   "source": [
    "df = visitors\n",
    "pred(df)"
   ]
  },
  {
   "cell_type": "code",
   "execution_count": 15,
   "id": "d0c1043f",
   "metadata": {},
   "outputs": [
    {
     "data": {
      "text/html": [
       "<div>\n",
       "<style scoped>\n",
       "    .dataframe tbody tr th:only-of-type {\n",
       "        vertical-align: middle;\n",
       "    }\n",
       "\n",
       "    .dataframe tbody tr th {\n",
       "        vertical-align: top;\n",
       "    }\n",
       "\n",
       "    .dataframe thead th {\n",
       "        text-align: right;\n",
       "    }\n",
       "</style>\n",
       "<table border=\"1\" class=\"dataframe\">\n",
       "  <thead>\n",
       "    <tr style=\"text-align: right;\">\n",
       "      <th></th>\n",
       "      <th>group</th>\n",
       "      <th>visitors</th>\n",
       "      <th>date</th>\n",
       "      <th>visitors_percent</th>\n",
       "    </tr>\n",
       "  </thead>\n",
       "  <tbody>\n",
       "    <tr>\n",
       "      <th>0</th>\n",
       "      <td>A</td>\n",
       "      <td>18736</td>\n",
       "      <td>31</td>\n",
       "      <td>49.76</td>\n",
       "    </tr>\n",
       "    <tr>\n",
       "      <th>1</th>\n",
       "      <td>B</td>\n",
       "      <td>18916</td>\n",
       "      <td>31</td>\n",
       "      <td>50.24</td>\n",
       "    </tr>\n",
       "  </tbody>\n",
       "</table>\n",
       "</div>"
      ],
      "text/plain": [
       "  group  visitors  date  visitors_percent\n",
       "0     A     18736    31             49.76\n",
       "1     B     18916    31             50.24"
      ]
     },
     "execution_count": 15,
     "metadata": {},
     "output_type": "execute_result"
    }
   ],
   "source": [
    "#распределения визитов по группам\n",
    "visit_parts = visitors.groupby('group').agg({'visitors': 'sum', 'date': 'nunique'}).reset_index()\n",
    "visit_parts['visitors_percent'] = (visit_parts['visitors'] / visit_parts['visitors'].sum() * 100).round(2)\n",
    "visit_parts"
   ]
  },
  {
   "cell_type": "code",
   "execution_count": 16,
   "id": "9b0a1545",
   "metadata": {},
   "outputs": [
    {
     "name": "stdout",
     "output_type": "stream",
     "text": [
      "минимальная дата 2019-08-01\n",
      "максимальная дата 2019-08-31\n"
     ]
    }
   ],
   "source": [
    "print('минимальная дата', visitors['date'].min())\n",
    "print('максимальная дата', visitors['date'].max())"
   ]
  },
  {
   "cell_type": "markdown",
   "id": "367411e1",
   "metadata": {},
   "source": [
    "**Вывод**\n",
    "* Датасет содержит информацию о количестве визитов за 31 день для обоих групп.\n",
    "* Период отчета аналогичен предыдущей данным о заказах.\n",
    "* Пропусков нет. \n",
    "* Полных дубликатов нет. \n",
    "* Данные в подходящих форматах.\n",
    "* Визиты распределены по группам соразмерно: в группе A - 49.76%, в группе B - 50.24% от общего количества.\n"
   ]
  },
  {
   "cell_type": "markdown",
   "id": "ff7d99bf",
   "metadata": {},
   "source": [
    "### Кумулятивные метрики"
   ]
  },
  {
   "cell_type": "code",
   "execution_count": 17,
   "id": "1309d21e",
   "metadata": {},
   "outputs": [
    {
     "name": "stdout",
     "output_type": "stream",
     "text": [
      "        date  ordersPerDateA  revenuePerDateA  ordersPerDateB  \\\n",
      "0 2019-08-01              24           148579              21   \n",
      "1 2019-08-02              20            93822              24   \n",
      "2 2019-08-03              24           112473              16   \n",
      "3 2019-08-04              16            70825              17   \n",
      "4 2019-08-05              25           124218              23   \n",
      "\n",
      "   revenuePerDateB  ordersCummulativeA  revenueCummulativeA  \\\n",
      "0           101217                  24               148579   \n",
      "1           165531                  44               242401   \n",
      "2           114248                  68               354874   \n",
      "3           108571                  84               425699   \n",
      "4            92428                 109               549917   \n",
      "\n",
      "   ordersCummulativeB  revenueCummulativeB  visitorsPerDateA  \\\n",
      "0                  21               101217               719   \n",
      "1                  45               266748               619   \n",
      "2                  61               380996               507   \n",
      "3                  78               489567               717   \n",
      "4                 101               581995               756   \n",
      "\n",
      "   visitorsPerDateB  visitorsCummulativeA  visitorsCummulativeB  \n",
      "0               713                   719                   713  \n",
      "1               581                  1338                  1294  \n",
      "2               509                  1845                  1803  \n",
      "3               770                  2562                  2573  \n",
      "4               707                  3318                  3280  \n"
     ]
    }
   ],
   "source": [
    "#Расчет кумулятивных метрик, сводная таблица с разбивкой по группам\n",
    "orders['date'] = orders['date'].map(\n",
    "    lambda x: dt.datetime.strptime(x, '%Y-%m-%d')\n",
    ")\n",
    "\n",
    "visitors['date'] = visitors['date'].map(\n",
    "    lambda x: dt.datetime.strptime(x, '%Y-%m-%d')\n",
    ")\n",
    "\n",
    "visitorsADaily = visitors[visitors['group'] == 'A'][['date', 'visitors']]\n",
    "visitorsADaily.columns = ['date', 'visitorsPerDateA']\n",
    "\n",
    "visitorsACummulative = visitorsADaily.apply(\n",
    "    lambda x: visitorsADaily[visitorsADaily['date'] <= x['date']].agg(\n",
    "        {'date': 'max', 'visitorsPerDateA': 'sum'}\n",
    "    ),\n",
    "    axis=1,\n",
    ")\n",
    "visitorsACummulative.columns = ['date', 'visitorsCummulativeA']\n",
    "\n",
    "visitorsBDaily = visitors[visitors['group'] == 'B'][['date', 'visitors']]\n",
    "visitorsBDaily.columns = ['date', 'visitorsPerDateB']\n",
    "\n",
    "visitorsBCummulative = visitorsBDaily.apply(\n",
    "    lambda x: visitorsBDaily[visitorsBDaily['date'] <= x['date']].agg(\n",
    "        {'date': 'max', 'visitorsPerDateB': 'sum'}\n",
    "    ),\n",
    "    axis=1,\n",
    ")\n",
    "visitorsBCummulative.columns = ['date', 'visitorsCummulativeB']\n",
    "\n",
    "ordersADaily = (\n",
    "    orders[orders['group'] == 'A'][['date', 'transactionId', 'visitorId', 'revenue']]\n",
    "    .groupby('date', as_index=False)\n",
    "    .agg({'transactionId': pd.Series.nunique, 'revenue': 'sum'})\n",
    ")\n",
    "ordersADaily.columns = ['date', 'ordersPerDateA', 'revenuePerDateA']\n",
    "\n",
    "ordersACummulative = ordersADaily.apply(\n",
    "    lambda x: ordersADaily[ordersADaily['date'] <= x['date']].agg(\n",
    "        {'date': 'max', 'ordersPerDateA': 'sum', 'revenuePerDateA': 'sum'}\n",
    "    ),\n",
    "    axis=1,\n",
    ").sort_values(by=['date'])\n",
    "ordersACummulative.columns = [\n",
    "    'date',\n",
    "    'ordersCummulativeA',\n",
    "    'revenueCummulativeA',\n",
    "]\n",
    "\n",
    "ordersBDaily = (\n",
    "    orders[orders['group'] == 'B'][['date', 'transactionId', 'visitorId', 'revenue']]\n",
    "    .groupby('date', as_index=False)\n",
    "    .agg({'transactionId': pd.Series.nunique, 'revenue': 'sum'})\n",
    ")\n",
    "ordersBDaily.columns = ['date', 'ordersPerDateB', 'revenuePerDateB']\n",
    "\n",
    "ordersBCummulative = ordersBDaily.apply(\n",
    "    lambda x: ordersBDaily[ordersBDaily['date'] <= x['date']].agg(\n",
    "        {'date': 'max', 'ordersPerDateB': 'sum', 'revenuePerDateB': 'sum'}\n",
    "    ),\n",
    "    axis=1,\n",
    ").sort_values(by=['date'])\n",
    "ordersBCummulative.columns = [\n",
    "    'date',\n",
    "    'ordersCummulativeB',\n",
    "    'revenueCummulativeB',\n",
    "]\n",
    "\n",
    "data = (\n",
    "    ordersADaily.merge(\n",
    "        ordersBDaily, left_on='date', right_on='date', how='left'\n",
    "    )\n",
    "    .merge(ordersACummulative, left_on='date', right_on='date', how='left')\n",
    "    .merge(ordersBCummulative, left_on='date', right_on='date', how='left')\n",
    "    .merge(visitorsADaily, left_on='date', right_on='date', how='left')\n",
    "    .merge(visitorsBDaily, left_on='date', right_on='date', how='left')\n",
    "    .merge(visitorsACummulative, left_on='date', right_on='date', how='left')\n",
    "    .merge(visitorsBCummulative, left_on='date', right_on='date', how='left')\n",
    ")\n",
    "print(data.head())"
   ]
  },
  {
   "cell_type": "markdown",
   "id": "6e19587b",
   "metadata": {},
   "source": [
    "#### график кумулятивной выручки по группам"
   ]
  },
  {
   "cell_type": "code",
   "execution_count": 18,
   "id": "72c302c2",
   "metadata": {
    "scrolled": true
   },
   "outputs": [
    {
     "data": {
      "image/png": "[encoded data removed]",
      "text/plain": [
       "<Figure size 640x480 with 1 Axes>"
      ]
     },
     "metadata": {},
     "output_type": "display_data"
    }
   ],
   "source": [
    "plt.plot(data['date'], data['revenueCummulativeA'], label='A')\n",
    "plt.plot(data['date'], data['revenueCummulativeB'], label='B')\n",
    "plt.title('Кумулятивная выручка по группам')\n",
    "plt.xlabel('дата')\n",
    "plt.ylabel('кумулятивная выручка, у.е.')\n",
    "plt.xticks(rotation=45)\n",
    "plt.legend() \n",
    "plt.show()"
   ]
  },
  {
   "cell_type": "markdown",
   "id": "277f8799",
   "metadata": {},
   "source": [
    "**Вывод**\n",
    "\n",
    "График кумулятивной выручки группы B выше группы A на всём диапазоне, кроме первого дня.\n",
    "\n",
    "Графики групп практически параллельны за исключением резкого скачка в группе B 17 числа. Это может быть связано с аномальной стоимостью одного заказа.\n"
   ]
  },
  {
   "cell_type": "markdown",
   "id": "889d7d17",
   "metadata": {},
   "source": [
    "#### график кумулятивного среднего чека по группам"
   ]
  },
  {
   "cell_type": "code",
   "execution_count": 19,
   "id": "34cc499c",
   "metadata": {
    "scrolled": true
   },
   "outputs": [
    {
     "data": {
      "image/png": "[encoded data removed]",
      "text/plain": [
       "<Figure size 640x480 with 1 Axes>"
      ]
     },
     "metadata": {},
     "output_type": "display_data"
    }
   ],
   "source": [
    "plt.plot(data['date'], data['revenueCummulativeA']/data['ordersCummulativeA'], label='A')\n",
    "plt.plot(data['date'], data['revenueCummulativeB']/data['ordersCummulativeB'], label='B')\n",
    "plt.title('Кумулятивный средний чек по группам')\n",
    "plt.xlabel('дата')\n",
    "plt.ylabel('кумулятивный средний чек, у.е.')\n",
    "plt.xticks(rotation=45)\n",
    "plt.legend() \n",
    "plt.show()"
   ]
  },
  {
   "cell_type": "markdown",
   "id": "2d187ce0",
   "metadata": {},
   "source": [
    "**Вывод**\n",
    "\n",
    "График кумулятивного среднего чека группы B выше группы A практичсеки на всём диапазоне, кроме первого дня и периода с 11 по 15-е число. \n",
    "\n",
    "На графике группы B резкий всплеск 17 числа, что подтверждает наличие аномалии. \n",
    "\n",
    "После 13-ого числа графики стабилизируются, за исключением аномалии группы B.\n",
    "\n",
    "График группы B после 17 числа имеет ниспадающую динамику. В случае исключения аномалии, возможно кумулятивный средний чек группы B был бы ниже, чем по группе А."
   ]
  },
  {
   "cell_type": "markdown",
   "id": "25efd61a",
   "metadata": {},
   "source": [
    "#### график относительного изменения кумулятивного среднего чека группы B к группе A"
   ]
  },
  {
   "cell_type": "code",
   "execution_count": 20,
   "id": "eedb6712",
   "metadata": {},
   "outputs": [
    {
     "data": {
      "image/png": "[encoded data removed]",
      "text/plain": [
       "<Figure size 640x480 with 1 Axes>"
      ]
     },
     "metadata": {},
     "output_type": "display_data"
    }
   ],
   "source": [
    "# cтроим отношение средних чеков\n",
    "plt.plot(data['date'], (data['revenueCummulativeB']/data['ordersCummulativeB'])/(data['revenueCummulativeA']/data['ordersCummulativeA'])-1)\n",
    "plt.xticks(rotation=45)\n",
    "plt.title('Относительное изменение кумулятивного среднего чека\\nгруппы B к группе A')\n",
    "plt.xlabel('дата')\n",
    "plt.xticks(rotation=45) \n",
    "# добавляем ось X\n",
    "plt.axhline(y=0, color='black', linestyle='--')\n",
    "plt.show()"
   ]
  },
  {
   "cell_type": "markdown",
   "id": "6dd239fe",
   "metadata": {},
   "source": [
    "**Выводы**\n",
    "График относительного изменения кумулятивного среднего чека группы B к группе A показывает большие колебания, дублирующие график кумулятивного среднего чека: в периоды отрицательных значений кум. ср. чек группы В меньше кум. ср. чека группы А. \n",
    "\n",
    "Первый крупный всплеск выхван колебаниями значений, второй - аномалией. \n",
    "\n",
    "После выброса 17-ого числа динамика отношения стремиться вниз, что говорит об уменьшении различия.\n",
    "\n",
    "По графику нельзя сделать вывод, стабилизоровалось ли отношение на положительном уровне или продолжит спад. "
   ]
  },
  {
   "cell_type": "markdown",
   "id": "9a305bc8",
   "metadata": {},
   "source": [
    "#### график кумулятивного среднего количества заказов на посетителя по группам"
   ]
  },
  {
   "cell_type": "code",
   "execution_count": 21,
   "id": "800897fa",
   "metadata": {
    "scrolled": true
   },
   "outputs": [
    {
     "data": {
      "image/png": "[encoded data removed]",
      "text/plain": [
       "<Figure size 640x480 with 1 Axes>"
      ]
     },
     "metadata": {},
     "output_type": "display_data"
    }
   ],
   "source": [
    "# строим графики\n",
    "plt.plot(data['date'], data['ordersCummulativeA']/data['visitorsCummulativeA'], label='A')\n",
    "plt.plot(data['date'], data['ordersCummulativeB']/data['visitorsCummulativeB'], label='B')\n",
    "plt.title('Кумулятивное среднее\\nколичество заказов на посетителя')\n",
    "plt.xlabel('дата')\n",
    "plt.ylabel('среднее количество заказов')\n",
    "plt.xticks(rotation=45)\n",
    "plt.legend()\n",
    "plt.xticks(rotation=45)\n",
    "# задаем масштаб осей\n",
    "plt.axis([\"2019-08-01\", '2019-08-31', 0, 0.05])\n",
    "plt.show()"
   ]
  },
  {
   "cell_type": "markdown",
   "id": "20ee4e21",
   "metadata": {},
   "source": [
    "**Выводы**\n",
    "\n",
    "График кумулятивного среднего количества заказов на посетителя демонстрирует колебания в первые 3 дня. \n",
    "\n",
    "После 5-ого числа показвтели группы В стабильно выше группы А - среднее количество заказов на посетителя в группе В стабильно выше."
   ]
  },
  {
   "cell_type": "markdown",
   "id": "6a25fcbe",
   "metadata": {},
   "source": [
    "#### график относительного изменения кумулятивного среднего количества заказов на посетителя группы B к группе A"
   ]
  },
  {
   "cell_type": "code",
   "execution_count": 22,
   "id": "31612243",
   "metadata": {
    "scrolled": true
   },
   "outputs": [
    {
     "data": {
      "image/png": "[encoded data removed]",
      "text/plain": [
       "<Figure size 640x480 with 1 Axes>"
      ]
     },
     "metadata": {},
     "output_type": "display_data"
    }
   ],
   "source": [
    "plt.plot(data['date'], (data['ordersCummulativeB']/data['visitorsCummulativeB'])/(data['ordersCummulativeA']/data['visitorsCummulativeA'])-1,)\n",
    "plt.title('Относительный прирост кум. ср. количества заказов на посетителя\\nгруппы B относительно группы A')\n",
    "plt.xlabel('дата')\n",
    "plt.xticks(rotation=45)\n",
    "plt.axhline(y=0, color='black', linestyle='--')\n",
    "plt.axhline(y=0.14, color='grey', linestyle='--')\n",
    "plt.axis([\"2019-08-01\", '2019-08-31', -0.5, 0.5])\n",
    "plt.show()"
   ]
  },
  {
   "cell_type": "markdown",
   "id": "e01648d4",
   "metadata": {},
   "source": [
    "**Выводы**\n",
    "\n",
    "Отношение изменения кумулятивного среднего количества заказов на посетителя стабильно ниже 0 - группа В стабильно лучше группы А. \n",
    "\n",
    "Тест можно завершать. "
   ]
  },
  {
   "cell_type": "markdown",
   "id": "daef8ed6",
   "metadata": {},
   "source": [
    "### Определение аномалий"
   ]
  },
  {
   "cell_type": "markdown",
   "id": "9332259d",
   "metadata": {},
   "source": [
    "#### точечный график количества заказов по пользователям"
   ]
  },
  {
   "cell_type": "code",
   "execution_count": 23,
   "id": "73e41cbf",
   "metadata": {},
   "outputs": [
    {
     "name": "stdout",
     "output_type": "stream",
     "text": [
      "  transactionId   visitorId       date  revenue group\n",
      "0    3667963787  3312258926 2019-08-15     1650     B\n",
      "1    2804400009  3642806036 2019-08-15      730     B\n",
      "2    2961555356  4069496402 2019-08-15      400     A\n",
      "3    3797467345  1196621759 2019-08-15     9759     B\n",
      "4    2282983706  2322279887 2019-08-15     2308     B\n"
     ]
    }
   ],
   "source": [
    "print(orders.head())"
   ]
  },
  {
   "cell_type": "code",
   "execution_count": 24,
   "id": "97c46f23",
   "metadata": {},
   "outputs": [
    {
     "data": {
      "text/plain": [
       "<matplotlib.collections.PathCollection at 0x2288aee0fd0>"
      ]
     },
     "execution_count": 24,
     "metadata": {},
     "output_type": "execute_result"
    },
    {
     "data": {
      "image/png": "[encoded data removed]",
      "text/plain": [
       "<Figure size 640x480 with 1 Axes>"
      ]
     },
     "metadata": {},
     "output_type": "display_data"
    }
   ],
   "source": [
    "#группировка заказов по посетителям\n",
    "ordersByVisitor = orders.groupby('visitorId', as_index=False).agg({'transactionId':'nunique'}).sort_values('visitorId', ascending=False)\n",
    "ordersByVisitor.columns = ['visitorId', 'orders']\n",
    "plt.title('Количество заказов по пользователям')\n",
    "plt.ylabel('количество заказов')\n",
    "x_values = pd.Series(range(0, len(ordersByVisitor)))\n",
    "plt.scatter(x_values, ordersByVisitor['orders']) "
   ]
  },
  {
   "cell_type": "markdown",
   "id": "0f5336ae",
   "metadata": {},
   "source": [
    "#### 95-й и 99-й перцентили количества заказов на пользователя, граница для определения аномальных пользователей"
   ]
  },
  {
   "cell_type": "code",
   "execution_count": 25,
   "id": "eee9f601",
   "metadata": {},
   "outputs": [
    {
     "data": {
      "text/plain": [
       "array([2., 4.])"
      ]
     },
     "execution_count": 25,
     "metadata": {},
     "output_type": "execute_result"
    }
   ],
   "source": [
    "np.percentile(ordersByVisitor['orders'], [95, 99])"
   ]
  },
  {
   "cell_type": "markdown",
   "id": "e94ccedf",
   "metadata": {},
   "source": [
    "**Выводы**\n",
    "\n",
    "5% покупателей делали больше 2 заказов, <br>\n",
    "1% - больше 4."
   ]
  },
  {
   "cell_type": "markdown",
   "id": "533ca905",
   "metadata": {},
   "source": [
    "#### точечный график стоимостей заказов"
   ]
  },
  {
   "cell_type": "code",
   "execution_count": 26,
   "id": "a8cf40c5",
   "metadata": {},
   "outputs": [
    {
     "data": {
      "image/png": "[encoded data removed]",
      "text/plain": [
       "<Figure size 640x480 with 1 Axes>"
      ]
     },
     "metadata": {},
     "output_type": "display_data"
    }
   ],
   "source": [
    "x_values = pd.Series(range(0, len(orders['revenue'])))\n",
    "plt.scatter(x_values, orders['revenue']) \n",
    "plt.ylim([0,150000]) #увеличение масштаба без учета аномалий.\n",
    "plt.title('Точечный график стоимостей заказов')\n",
    "plt.xlabel(' ')\n",
    "plt.ylabel('стоимость заказа')\n",
    "plt.xticks(rotation=45)\n",
    "plt.show()"
   ]
  },
  {
   "cell_type": "markdown",
   "id": "45408d97",
   "metadata": {},
   "source": [
    "#### 95-й и 99-й перцентили стоимости заказов, граница для определения аномальных заказов"
   ]
  },
  {
   "cell_type": "code",
   "execution_count": 27,
   "id": "dedb77e6",
   "metadata": {},
   "outputs": [
    {
     "name": "stdout",
     "output_type": "stream",
     "text": [
      "[28000.  58233.2]\n"
     ]
    }
   ],
   "source": [
    "print(np.percentile(orders['revenue'], [95, 99]))"
   ]
  },
  {
   "cell_type": "markdown",
   "id": "14df6879",
   "metadata": {},
   "source": [
    "**Выводы**\n",
    "\n",
    "5% заказов стоили больше 28000,0 у.е.,\n",
    "<br>1% - больше 58233,2."
   ]
  },
  {
   "cell_type": "markdown",
   "id": "f8bf4954",
   "metadata": {},
   "source": [
    "### Статистическая значимость"
   ]
  },
  {
   "cell_type": "markdown",
   "id": "3dd056fd",
   "metadata": {},
   "source": [
    "#### статистическая значимость различий в среднем количестве заказов на посетителя между группами по «сырым» данным\n",
    "Для проверки статистической значимости различий полученных при расчетах, использован метод Манна-Уитни, как менее подверженный влиянию выбросов и подходящий для небольшого объёма данных. \n",
    "\n",
    "Уровень статистической значимости alpha принят 0,05.\n",
    "\n",
    "Сформулированы гипотезы:\n",
    "* H0 - разница между группами статистически не значительна\n",
    "* H1 - между группами есть статистически значимая разница"
   ]
  },
  {
   "cell_type": "code",
   "execution_count": 28,
   "id": "ca6a54cc",
   "metadata": {},
   "outputs": [],
   "source": [
    "#определение групп сравнения\n",
    "ordersByUsersA = (\n",
    "    orders[orders['group'] == 'A']\n",
    "    .groupby('visitorId', as_index=False)\n",
    "    .agg({'transactionId': pd.Series.nunique})\n",
    ")\n",
    "ordersByUsersA.columns = ['userId', 'orders']\n",
    "\n",
    "ordersByUsersB = (\n",
    "    orders[orders['group'] == 'B']\n",
    "    .groupby('visitorId', as_index=False)\n",
    "    .agg({'transactionId': pd.Series.nunique})\n",
    ")\n",
    "ordersByUsersB.columns = ['userId', 'orders'] \n",
    "\n",
    "sampleA = pd.concat([ordersByUsersA['orders'],pd.Series(0, index=np.arange(data['visitorsPerDateA'].sum() - len(ordersByUsersA['orders'])), name='orders')],axis=0)\n",
    "sampleB = pd.concat([ordersByUsersB['orders'],pd.Series(0, index=np.arange(data['visitorsPerDateB'].sum() - len(ordersByUsersB['orders'])), name='orders')],axis=0)\n"
   ]
  },
  {
   "cell_type": "code",
   "execution_count": 29,
   "id": "07ce1da4",
   "metadata": {
    "scrolled": false
   },
   "outputs": [
    {
     "name": "stdout",
     "output_type": "stream",
     "text": [
      "p-значение:  0.017\n",
      "Отвергаем нулевую гипотезу: разница статистически значима\n",
      "относительное различие: 0.138\n"
     ]
    }
   ],
   "source": [
    "#определение статистической значимости\n",
    "alpha = 0.05  # критический уровень статистической значимости\n",
    "results = stats.mannwhitneyu(sampleA, sampleB)\n",
    "print('p-значение: ', '{0:.3f}'.format(results.pvalue))\n",
    "if results.pvalue < alpha:\n",
    "    print('Отвергаем нулевую гипотезу: разница статистически значима')\n",
    "else:\n",
    "    print(\n",
    "        'Не получилось отвергнуть нулевую гипотезу, вывод о различии сделать нельзя'\n",
    "    ) \n",
    "print('относительное различие:' ,\"{0:.3f}\".format(sampleB.mean() / sampleA.mean() - 1))  "
   ]
  },
  {
   "cell_type": "markdown",
   "id": "10ae935f",
   "metadata": {},
   "source": [
    "#### статистическая значимость различий в среднем чеке заказа между группами по «сырым» данным\n",
    "H0 - разница между группами статистически не значительна<br>\n",
    "H1 - между группами есть статистически значимая разница"
   ]
  },
  {
   "cell_type": "code",
   "execution_count": 30,
   "id": "98b4b8f2",
   "metadata": {},
   "outputs": [
    {
     "name": "stdout",
     "output_type": "stream",
     "text": [
      "p-значение:  0.729\n",
      "Не получилось отвергнуть нулевую гипотезу, вывод о различии сделать нельзя\n",
      "относительное различие: 0.259\n"
     ]
    }
   ],
   "source": [
    "#определение статистической значимости\n",
    "alpha = 0.05  # критический уровень статистической значимости\n",
    "results = stats.mannwhitneyu(orders[orders['group']=='A']['revenue'], orders[orders['group']=='B']['revenue'])\n",
    "print('p-значение: ', '{0:.3f}'.format(results.pvalue))\n",
    "if results.pvalue < alpha:\n",
    "    print('Отвергаем нулевую гипотезу: разница статистически значима')\n",
    "else:\n",
    "    print(\n",
    "        'Не получилось отвергнуть нулевую гипотезу, вывод о различии сделать нельзя'\n",
    "    ) \n",
    "print('относительное различие:', '{0:.3f}'.format(orders[orders['group']=='B']['revenue'].mean()/orders[orders['group']=='A']['revenue'].mean()-1))"
   ]
  },
  {
   "cell_type": "markdown",
   "id": "b08ec45e",
   "metadata": {},
   "source": [
    "#### Очистка от аномалий\n",
    "Удалим аномалии исходя из 1% максимальных значений: количество заказов свыше 4 и стоимость закзаза свыше 58233.2 у.е.\n"
   ]
  },
  {
   "cell_type": "code",
   "execution_count": 31,
   "id": "b24deb59",
   "metadata": {},
   "outputs": [],
   "source": [
    "#список аномальных заказов\n",
    "usersWithManyOrders = pd.concat(\n",
    "    [\n",
    "        ordersByUsersA[ordersByUsersA['orders'] > int(np.percentile(ordersByVisitor['orders'], [99]))]['userId'],\n",
    "        ordersByUsersB[ordersByUsersB['orders'] > int(np.percentile(ordersByVisitor['orders'], [99]))]['userId'],\n",
    "    ],\n",
    "    axis=0,\n",
    ")\n",
    "usersWithExpensiveOrders = orders[orders['revenue'] > int(np.percentile(orders['revenue'], [99]))]['visitorId']\n",
    "abnormalUsers = (\n",
    "    pd.concat([usersWithManyOrders, usersWithExpensiveOrders], axis=0)\n",
    "    .drop_duplicates()\n",
    "    .sort_values()\n",
    ")\n",
    "\n",
    "#фильтрация аномалий по группе А\n",
    "sampleAFiltered = pd.concat(\n",
    "    [\n",
    "        ordersByUsersA[\n",
    "            np.logical_not(ordersByUsersA['userId'].isin(abnormalUsers))\n",
    "        ]['orders'],\n",
    "        pd.Series(\n",
    "            0,\n",
    "            index=np.arange(\n",
    "                data['visitorsPerDateA'].sum() - len(ordersByUsersA['orders'])\n",
    "            ),\n",
    "            name='orders',\n",
    "        ),\n",
    "    ],\n",
    "    axis=0,\n",
    ")\n",
    "\n",
    "#фильтрация аномалий по группе B\n",
    "sampleBFiltered = pd.concat(\n",
    "    [\n",
    "        ordersByUsersB[\n",
    "            np.logical_not(ordersByUsersB['userId'].isin(abnormalUsers))\n",
    "        ]['orders'],\n",
    "        pd.Series(\n",
    "            0,\n",
    "            index=np.arange(\n",
    "                data['visitorsPerDateB'].sum() - len(ordersByUsersB['orders'])\n",
    "            ),\n",
    "            name='orders',\n",
    "        ),\n",
    "    ],\n",
    "    axis=0,\n",
    ")"
   ]
  },
  {
   "cell_type": "code",
   "execution_count": 32,
   "id": "d61789cb",
   "metadata": {
    "scrolled": true
   },
   "outputs": [
    {
     "name": "stdout",
     "output_type": "stream",
     "text": [
      "Отфильтрованый объём данных по группе A: 0.08%\n",
      "Отфильтрованый объём данных по группе B: 0.08%\n"
     ]
    }
   ],
   "source": [
    "print('Отфильтрованый объём данных по группе A: {:.2%}'.format( (len(sampleA) - len(sampleAFiltered)) / len(sampleA)))\n",
    "print('Отфильтрованый объём данных по группе B: {:.2%}'.format( (len(sampleB) - len(sampleBFiltered)) / len(sampleB)))"
   ]
  },
  {
   "cell_type": "markdown",
   "id": "35bfc763",
   "metadata": {},
   "source": [
    "#### статистическая значимость различий в среднем количестве заказов на посетителя между группами по «очищенным» данным\n",
    "<br>H0 - разница между группами статистически не значительна\n",
    "<br>H1 - между группами есть статистически значимая разница"
   ]
  },
  {
   "cell_type": "code",
   "execution_count": 33,
   "id": "753a78f9",
   "metadata": {},
   "outputs": [
    {
     "name": "stdout",
     "output_type": "stream",
     "text": [
      "p-значение:  0.014\n",
      "Отвергаем нулевую гипотезу: разница статистически значима\n",
      "относительное различие: 0.153\n"
     ]
    }
   ],
   "source": [
    "alpha = 0.05  # критический уровень статистической значимости\n",
    "results = stats.mannwhitneyu(sampleAFiltered, sampleBFiltered)\n",
    "print('p-значение: ', '{0:.3f}'.format(results.pvalue))\n",
    "if results.pvalue < alpha:\n",
    "    print('Отвергаем нулевую гипотезу: разница статистически значима')\n",
    "else:\n",
    "    print(\n",
    "        'Не получилось отвергнуть нулевую гипотезу, вывод о различии сделать нельзя'\n",
    "    ) \n",
    "print('относительное различие:' ,\"{0:.3f}\".format(sampleBFiltered.mean() / sampleAFiltered.mean() - 1))    "
   ]
  },
  {
   "cell_type": "markdown",
   "id": "529511b2",
   "metadata": {},
   "source": [
    "#### статистическая значимость различий в среднем чеке заказа между группами по «очищенным» данным\n",
    "H0 - разница между группами статистически не значительна<br>\n",
    "H1 - между группами есть статистически значимая разница"
   ]
  },
  {
   "cell_type": "code",
   "execution_count": 34,
   "id": "094310b5",
   "metadata": {},
   "outputs": [
    {
     "name": "stdout",
     "output_type": "stream",
     "text": [
      "p-значение:  0.851\n",
      "Не получилось отвергнуть нулевую гипотезу, вывод о различии сделать нельзя\n",
      "относительное различие: -0.006\n"
     ]
    }
   ],
   "source": [
    "alpha = 0.05  # критический уровень статистической значимости\n",
    "\n",
    "results = stats.mannwhitneyu(\n",
    "            orders[\n",
    "                np.logical_and(\n",
    "                    orders['group'] == 'A',\n",
    "                    np.logical_not(orders['visitorId'].isin(abnormalUsers)),\n",
    "                )\n",
    "            ]['revenue'],\n",
    "            orders[\n",
    "                np.logical_and(\n",
    "                    orders['group'] == 'B',\n",
    "                    np.logical_not(orders['visitorId'].isin(abnormalUsers)),\n",
    "                )\n",
    "            ]['revenue'],\n",
    "        )\n",
    "\n",
    "print('p-значение: ', '{0:.3f}'.format(results.pvalue))\n",
    "\n",
    "if results.pvalue < alpha:\n",
    "    print('Отвергаем нулевую гипотезу: разница статистически значима')\n",
    "else:\n",
    "    print(\n",
    "        'Не получилось отвергнуть нулевую гипотезу, вывод о различии сделать нельзя'\n",
    "    ) \n",
    "print('относительное различие:',\n",
    "    \"{0:.3f}\".format(\n",
    "        orders[\n",
    "            np.logical_and(\n",
    "                orders['group'] == 'B',\n",
    "                np.logical_not(orders['visitorId'].isin(abnormalUsers)),\n",
    "            )\n",
    "        ]['revenue'].mean()\n",
    "        / orders[\n",
    "            np.logical_and(\n",
    "                orders['group'] == 'A',\n",
    "                np.logical_not(orders['visitorId'].isin(abnormalUsers)),\n",
    "            )\n",
    "        ]['revenue'].mean()\n",
    "        - 1\n",
    "    ))"
   ]
  },
  {
   "cell_type": "markdown",
   "id": "639755d9",
   "metadata": {},
   "source": [
    "**Выводы**\n",
    "\n",
    "Сравнение \"сырых\" и очищенных от аномалий данных показало:\n",
    "* статистически значимое различие в среденем количестве заказов сохранилась, относительное различие увеличилось: с 0.138 до 0.153. Группа В лучше группы А;\n",
    "* отсутствие статистически значимого различия в среденем чеке сохранилось, несмотря на значительное изменение отношения: с 0.259 до -0.06. "
   ]
  },
  {
   "cell_type": "markdown",
   "id": "665cd868",
   "metadata": {},
   "source": [
    "## Решение по результатам теста"
   ]
  },
  {
   "cell_type": "markdown",
   "id": "7bff822a",
   "metadata": {},
   "source": [
    "### Часть 1.\n",
    "Для приоретизатии гипотез учтены параметры:\n",
    "* влияние, \n",
    "* уверенность в результате, \n",
    "* затраты на реализацию,\n",
    "* охват пользователей.\n",
    "\n",
    "<br>Наиболее приоритетными из 9 гипотез являются следующие:\n",
    "1. Добавить форму подписки на все основные страницы, чтобы собрать базу клиентов для email-рассылок\n",
    "2. Добавить блоки рекомендаций товаров на сайт интернет магазина, чтобы повысить конверсию и средний чек заказа\n",
    "3. С одинаковым приоритетом:\n",
    "* Добавить два новых канала привлечения трафика, что позволит привлекать на 30% больше пользователей\t\n",
    "* Показать на главной странице баннеры с актуальными акциями и распродажами, чтобы увеличить конверсию"
   ]
  },
  {
   "cell_type": "markdown",
   "id": "7d2146fa",
   "metadata": {},
   "source": [
    "### Часть 2.\n",
    "Результат А/В теста покзал следующее: группа В лучше группы А. \n",
    "<br>\n",
    "<br>Статистичиески значимое различие имеет только количество заказов на 1 посетителя, этот показатель стабилизоровался и тест можно завершать. "
   ]
  }
 ],
 "metadata": {
  "ExecuteTimeLog": [
   {
    "duration": 1543,
    "start_time": "2023-05-29T18:26:14.097Z"
   },
   {
    "duration": 91,
    "start_time": "2023-05-29T18:26:15.642Z"
   },
   {
    "duration": 0,
    "start_time": "2023-05-29T18:26:15.736Z"
   },
   {
    "duration": 0,
    "start_time": "2023-05-29T18:26:15.738Z"
   },
   {
    "duration": 0,
    "start_time": "2023-05-29T18:26:15.739Z"
   },
   {
    "duration": 0,
    "start_time": "2023-05-29T18:26:15.740Z"
   },
   {
    "duration": 0,
    "start_time": "2023-05-29T18:26:15.741Z"
   },
   {
    "duration": 0,
    "start_time": "2023-05-29T18:26:15.742Z"
   },
   {
    "duration": 0,
    "start_time": "2023-05-29T18:26:15.744Z"
   },
   {
    "duration": 0,
    "start_time": "2023-05-29T18:26:15.745Z"
   },
   {
    "duration": 0,
    "start_time": "2023-05-29T18:26:15.747Z"
   },
   {
    "duration": 0,
    "start_time": "2023-05-29T18:26:15.748Z"
   },
   {
    "duration": 0,
    "start_time": "2023-05-29T18:26:15.749Z"
   },
   {
    "duration": 0,
    "start_time": "2023-05-29T18:26:15.751Z"
   },
   {
    "duration": 0,
    "start_time": "2023-05-29T18:26:15.753Z"
   },
   {
    "duration": 0,
    "start_time": "2023-05-29T18:26:15.754Z"
   },
   {
    "duration": 0,
    "start_time": "2023-05-29T18:26:15.756Z"
   },
   {
    "duration": 0,
    "start_time": "2023-05-29T18:26:15.757Z"
   },
   {
    "duration": 0,
    "start_time": "2023-05-29T18:26:15.758Z"
   },
   {
    "duration": 0,
    "start_time": "2023-05-29T18:26:15.798Z"
   },
   {
    "duration": 0,
    "start_time": "2023-05-29T18:26:15.799Z"
   },
   {
    "duration": 0,
    "start_time": "2023-05-29T18:26:15.800Z"
   },
   {
    "duration": 0,
    "start_time": "2023-05-29T18:26:15.802Z"
   },
   {
    "duration": 0,
    "start_time": "2023-05-29T18:26:15.803Z"
   },
   {
    "duration": 0,
    "start_time": "2023-05-29T18:26:15.805Z"
   },
   {
    "duration": 0,
    "start_time": "2023-05-29T18:26:15.806Z"
   },
   {
    "duration": 0,
    "start_time": "2023-05-29T18:26:15.807Z"
   },
   {
    "duration": 0,
    "start_time": "2023-05-29T18:26:15.808Z"
   },
   {
    "duration": 0,
    "start_time": "2023-05-29T18:26:15.809Z"
   },
   {
    "duration": 0,
    "start_time": "2023-05-29T18:26:15.811Z"
   },
   {
    "duration": 0,
    "start_time": "2023-05-29T18:26:15.812Z"
   },
   {
    "duration": 0,
    "start_time": "2023-05-29T18:26:15.813Z"
   },
   {
    "duration": 1292,
    "start_time": "2023-05-29T18:38:42.287Z"
   },
   {
    "duration": 89,
    "start_time": "2023-05-29T18:38:43.580Z"
   },
   {
    "duration": 0,
    "start_time": "2023-05-29T18:38:43.672Z"
   },
   {
    "duration": 0,
    "start_time": "2023-05-29T18:38:43.673Z"
   },
   {
    "duration": 0,
    "start_time": "2023-05-29T18:38:43.675Z"
   },
   {
    "duration": 0,
    "start_time": "2023-05-29T18:38:43.676Z"
   },
   {
    "duration": 0,
    "start_time": "2023-05-29T18:38:43.678Z"
   },
   {
    "duration": 0,
    "start_time": "2023-05-29T18:38:43.679Z"
   },
   {
    "duration": 0,
    "start_time": "2023-05-29T18:38:43.680Z"
   },
   {
    "duration": 0,
    "start_time": "2023-05-29T18:38:43.681Z"
   },
   {
    "duration": 0,
    "start_time": "2023-05-29T18:38:43.697Z"
   },
   {
    "duration": 0,
    "start_time": "2023-05-29T18:38:43.698Z"
   },
   {
    "duration": 0,
    "start_time": "2023-05-29T18:38:43.699Z"
   },
   {
    "duration": 0,
    "start_time": "2023-05-29T18:38:43.700Z"
   },
   {
    "duration": 1,
    "start_time": "2023-05-29T18:38:43.701Z"
   },
   {
    "duration": 0,
    "start_time": "2023-05-29T18:38:43.703Z"
   },
   {
    "duration": 0,
    "start_time": "2023-05-29T18:38:43.704Z"
   },
   {
    "duration": 0,
    "start_time": "2023-05-29T18:38:43.705Z"
   },
   {
    "duration": 0,
    "start_time": "2023-05-29T18:38:43.706Z"
   },
   {
    "duration": 0,
    "start_time": "2023-05-29T18:38:43.708Z"
   },
   {
    "duration": 0,
    "start_time": "2023-05-29T18:38:43.709Z"
   },
   {
    "duration": 0,
    "start_time": "2023-05-29T18:38:43.710Z"
   },
   {
    "duration": 0,
    "start_time": "2023-05-29T18:38:43.711Z"
   },
   {
    "duration": 0,
    "start_time": "2023-05-29T18:38:43.712Z"
   },
   {
    "duration": 0,
    "start_time": "2023-05-29T18:38:43.713Z"
   },
   {
    "duration": 0,
    "start_time": "2023-05-29T18:38:43.714Z"
   },
   {
    "duration": 0,
    "start_time": "2023-05-29T18:38:43.715Z"
   },
   {
    "duration": 0,
    "start_time": "2023-05-29T18:38:43.716Z"
   },
   {
    "duration": 0,
    "start_time": "2023-05-29T18:38:43.717Z"
   },
   {
    "duration": 0,
    "start_time": "2023-05-29T18:38:43.718Z"
   },
   {
    "duration": 0,
    "start_time": "2023-05-29T18:38:43.719Z"
   },
   {
    "duration": 0,
    "start_time": "2023-05-29T18:38:43.720Z"
   },
   {
    "duration": 1349,
    "start_time": "2023-05-29T18:51:11.588Z"
   },
   {
    "duration": 90,
    "start_time": "2023-05-29T18:51:12.939Z"
   },
   {
    "duration": 0,
    "start_time": "2023-05-29T18:51:13.031Z"
   },
   {
    "duration": 0,
    "start_time": "2023-05-29T18:51:13.033Z"
   },
   {
    "duration": 0,
    "start_time": "2023-05-29T18:51:13.034Z"
   },
   {
    "duration": 0,
    "start_time": "2023-05-29T18:51:13.035Z"
   },
   {
    "duration": 0,
    "start_time": "2023-05-29T18:51:13.037Z"
   },
   {
    "duration": 0,
    "start_time": "2023-05-29T18:51:13.038Z"
   },
   {
    "duration": 0,
    "start_time": "2023-05-29T18:51:13.039Z"
   },
   {
    "duration": 0,
    "start_time": "2023-05-29T18:51:13.040Z"
   },
   {
    "duration": 0,
    "start_time": "2023-05-29T18:51:13.041Z"
   },
   {
    "duration": 0,
    "start_time": "2023-05-29T18:51:13.042Z"
   },
   {
    "duration": 0,
    "start_time": "2023-05-29T18:51:13.044Z"
   },
   {
    "duration": 0,
    "start_time": "2023-05-29T18:51:13.045Z"
   },
   {
    "duration": 0,
    "start_time": "2023-05-29T18:51:13.046Z"
   },
   {
    "duration": 1,
    "start_time": "2023-05-29T18:51:13.047Z"
   },
   {
    "duration": 0,
    "start_time": "2023-05-29T18:51:13.048Z"
   },
   {
    "duration": 0,
    "start_time": "2023-05-29T18:51:13.050Z"
   },
   {
    "duration": 0,
    "start_time": "2023-05-29T18:51:13.051Z"
   },
   {
    "duration": 0,
    "start_time": "2023-05-29T18:51:13.084Z"
   },
   {
    "duration": 1,
    "start_time": "2023-05-29T18:51:13.085Z"
   },
   {
    "duration": 0,
    "start_time": "2023-05-29T18:51:13.087Z"
   },
   {
    "duration": 0,
    "start_time": "2023-05-29T18:51:13.088Z"
   },
   {
    "duration": 0,
    "start_time": "2023-05-29T18:51:13.090Z"
   },
   {
    "duration": 0,
    "start_time": "2023-05-29T18:51:13.091Z"
   },
   {
    "duration": 0,
    "start_time": "2023-05-29T18:51:13.092Z"
   },
   {
    "duration": 0,
    "start_time": "2023-05-29T18:51:13.093Z"
   },
   {
    "duration": 0,
    "start_time": "2023-05-29T18:51:13.094Z"
   },
   {
    "duration": 0,
    "start_time": "2023-05-29T18:51:13.096Z"
   },
   {
    "duration": 0,
    "start_time": "2023-05-29T18:51:13.097Z"
   },
   {
    "duration": 0,
    "start_time": "2023-05-29T18:51:13.098Z"
   },
   {
    "duration": 0,
    "start_time": "2023-05-29T18:51:13.099Z"
   },
   {
    "duration": 1264,
    "start_time": "2023-05-29T18:52:59.517Z"
   },
   {
    "duration": 10,
    "start_time": "2023-05-29T18:53:00.783Z"
   },
   {
    "duration": 29,
    "start_time": "2023-05-29T18:53:00.794Z"
   },
   {
    "duration": 39,
    "start_time": "2023-05-29T18:53:00.824Z"
   },
   {
    "duration": 50,
    "start_time": "2023-05-29T18:53:00.865Z"
   },
   {
    "duration": 39,
    "start_time": "2023-05-29T18:53:00.916Z"
   },
   {
    "duration": 49,
    "start_time": "2023-05-29T18:53:00.956Z"
   },
   {
    "duration": 33,
    "start_time": "2023-05-29T18:53:01.006Z"
   },
   {
    "duration": 56,
    "start_time": "2023-05-29T18:53:01.040Z"
   },
   {
    "duration": 56,
    "start_time": "2023-05-29T18:53:01.098Z"
   },
   {
    "duration": 103,
    "start_time": "2023-05-29T18:53:01.156Z"
   },
   {
    "duration": 39,
    "start_time": "2023-05-29T18:53:01.260Z"
   },
   {
    "duration": 54,
    "start_time": "2023-05-29T18:53:01.301Z"
   },
   {
    "duration": 48,
    "start_time": "2023-05-29T18:53:01.357Z"
   },
   {
    "duration": 92,
    "start_time": "2023-05-29T18:53:01.407Z"
   },
   {
    "duration": 280,
    "start_time": "2023-05-29T18:53:01.500Z"
   },
   {
    "duration": 250,
    "start_time": "2023-05-29T18:53:01.784Z"
   },
   {
    "duration": 162,
    "start_time": "2023-05-29T18:53:02.036Z"
   },
   {
    "duration": 248,
    "start_time": "2023-05-29T18:53:02.200Z"
   },
   {
    "duration": 158,
    "start_time": "2023-05-29T18:53:02.450Z"
   },
   {
    "duration": 263,
    "start_time": "2023-05-29T18:53:02.610Z"
   },
   {
    "duration": 12,
    "start_time": "2023-05-29T18:53:02.874Z"
   },
   {
    "duration": 111,
    "start_time": "2023-05-29T18:53:02.888Z"
   },
   {
    "duration": 5,
    "start_time": "2023-05-29T18:53:03.000Z"
   },
   {
    "duration": 123,
    "start_time": "2023-05-29T18:53:03.007Z"
   },
   {
    "duration": 3,
    "start_time": "2023-05-29T18:53:03.132Z"
   },
   {
    "duration": 777,
    "start_time": "2023-05-29T18:53:03.137Z"
   },
   {
    "duration": 21,
    "start_time": "2023-05-29T18:53:03.915Z"
   },
   {
    "duration": 9,
    "start_time": "2023-05-29T18:53:03.938Z"
   },
   {
    "duration": 12,
    "start_time": "2023-05-29T18:53:03.949Z"
   },
   {
    "duration": 40,
    "start_time": "2023-05-29T18:53:03.962Z"
   },
   {
    "duration": 16,
    "start_time": "2023-05-29T18:53:04.003Z"
   },
   {
    "duration": 1227,
    "start_time": "2023-05-29T18:55:57.012Z"
   },
   {
    "duration": 12,
    "start_time": "2023-05-29T18:56:22.095Z"
   },
   {
    "duration": 7,
    "start_time": "2023-05-29T18:56:30.614Z"
   },
   {
    "duration": 650,
    "start_time": "2023-05-29T18:59:54.600Z"
   },
   {
    "duration": 3004,
    "start_time": "2023-05-29T19:00:39.219Z"
   },
   {
    "duration": 1619,
    "start_time": "2023-05-29T19:00:43.632Z"
   },
   {
    "duration": 7,
    "start_time": "2023-05-29T19:00:59.811Z"
   },
   {
    "duration": 29,
    "start_time": "2023-05-29T19:02:23.195Z"
   },
   {
    "duration": 77,
    "start_time": "2023-05-29T19:02:35.228Z"
   },
   {
    "duration": 76,
    "start_time": "2023-05-29T19:03:03.719Z"
   },
   {
    "duration": 23,
    "start_time": "2023-05-29T19:03:18.391Z"
   },
   {
    "duration": 19,
    "start_time": "2023-05-29T19:03:52.420Z"
   },
   {
    "duration": 9,
    "start_time": "2023-05-29T19:05:11.342Z"
   },
   {
    "duration": 5,
    "start_time": "2023-05-29T19:07:24.026Z"
   },
   {
    "duration": 5,
    "start_time": "2023-05-29T19:07:45.229Z"
   },
   {
    "duration": 11,
    "start_time": "2023-05-29T19:15:36.490Z"
   },
   {
    "duration": 19,
    "start_time": "2023-05-29T19:15:55.251Z"
   },
   {
    "duration": 17,
    "start_time": "2023-05-29T19:16:18.880Z"
   },
   {
    "duration": 12,
    "start_time": "2023-05-29T19:16:39.915Z"
   },
   {
    "duration": 13,
    "start_time": "2023-05-29T19:19:02.251Z"
   },
   {
    "duration": 14,
    "start_time": "2023-05-29T19:19:29.649Z"
   },
   {
    "duration": 21,
    "start_time": "2023-05-29T19:21:43.704Z"
   },
   {
    "duration": 22,
    "start_time": "2023-05-29T19:22:24.203Z"
   },
   {
    "duration": 6,
    "start_time": "2023-05-29T19:28:06.328Z"
   },
   {
    "duration": 9,
    "start_time": "2023-05-29T19:28:23.296Z"
   },
   {
    "duration": 12,
    "start_time": "2023-05-29T19:30:12.111Z"
   },
   {
    "duration": 13,
    "start_time": "2023-05-29T19:30:27.719Z"
   },
   {
    "duration": 13,
    "start_time": "2023-05-29T19:30:41.394Z"
   },
   {
    "duration": 15,
    "start_time": "2023-05-29T19:31:08.909Z"
   },
   {
    "duration": 11,
    "start_time": "2023-05-29T19:31:38.900Z"
   },
   {
    "duration": 11,
    "start_time": "2023-05-29T19:34:01.102Z"
   },
   {
    "duration": 16,
    "start_time": "2023-05-29T19:34:22.812Z"
   },
   {
    "duration": 9,
    "start_time": "2023-05-29T19:34:31.251Z"
   },
   {
    "duration": 1384,
    "start_time": "2023-05-29T19:34:50.848Z"
   },
   {
    "duration": 10,
    "start_time": "2023-05-29T19:34:52.234Z"
   },
   {
    "duration": 54,
    "start_time": "2023-05-29T19:34:52.246Z"
   },
   {
    "duration": 36,
    "start_time": "2023-05-29T19:34:52.302Z"
   },
   {
    "duration": 10,
    "start_time": "2023-05-29T19:34:52.340Z"
   },
   {
    "duration": 8,
    "start_time": "2023-05-29T19:34:52.351Z"
   },
   {
    "duration": 43,
    "start_time": "2023-05-29T19:34:52.360Z"
   },
   {
    "duration": 17,
    "start_time": "2023-05-29T19:34:52.405Z"
   },
   {
    "duration": 24,
    "start_time": "2023-05-29T19:34:52.423Z"
   },
   {
    "duration": 12,
    "start_time": "2023-05-29T19:34:52.449Z"
   },
   {
    "duration": 29,
    "start_time": "2023-05-29T19:34:52.462Z"
   },
   {
    "duration": 42,
    "start_time": "2023-05-29T19:34:52.492Z"
   },
   {
    "duration": 31,
    "start_time": "2023-05-29T19:34:52.535Z"
   },
   {
    "duration": 23,
    "start_time": "2023-05-29T19:34:52.569Z"
   },
   {
    "duration": 12,
    "start_time": "2023-05-29T19:34:52.593Z"
   },
   {
    "duration": 6,
    "start_time": "2023-05-29T19:34:52.606Z"
   },
   {
    "duration": 224,
    "start_time": "2023-05-29T19:34:52.614Z"
   },
   {
    "duration": 232,
    "start_time": "2023-05-29T19:34:52.840Z"
   },
   {
    "duration": 158,
    "start_time": "2023-05-29T19:34:53.073Z"
   },
   {
    "duration": 226,
    "start_time": "2023-05-29T19:34:53.233Z"
   },
   {
    "duration": 163,
    "start_time": "2023-05-29T19:34:53.461Z"
   },
   {
    "duration": 234,
    "start_time": "2023-05-29T19:34:53.625Z"
   },
   {
    "duration": 6,
    "start_time": "2023-05-29T19:34:53.861Z"
   },
   {
    "duration": 158,
    "start_time": "2023-05-29T19:34:53.869Z"
   },
   {
    "duration": 5,
    "start_time": "2023-05-29T19:34:54.029Z"
   },
   {
    "duration": 116,
    "start_time": "2023-05-29T19:34:54.036Z"
   },
   {
    "duration": 3,
    "start_time": "2023-05-29T19:34:54.153Z"
   },
   {
    "duration": 897,
    "start_time": "2023-05-29T19:34:54.157Z"
   },
   {
    "duration": 26,
    "start_time": "2023-05-29T19:34:55.056Z"
   },
   {
    "duration": 41,
    "start_time": "2023-05-29T19:34:55.084Z"
   },
   {
    "duration": 23,
    "start_time": "2023-05-29T19:34:55.126Z"
   },
   {
    "duration": 25,
    "start_time": "2023-05-29T19:34:55.150Z"
   },
   {
    "duration": 18,
    "start_time": "2023-05-29T19:34:55.177Z"
   },
   {
    "duration": 1183,
    "start_time": "2023-05-29T19:36:23.507Z"
   },
   {
    "duration": 10,
    "start_time": "2023-05-29T19:36:24.692Z"
   },
   {
    "duration": 13,
    "start_time": "2023-05-29T19:36:24.704Z"
   },
   {
    "duration": 10,
    "start_time": "2023-05-29T19:36:24.719Z"
   },
   {
    "duration": 9,
    "start_time": "2023-05-29T19:36:24.731Z"
   },
   {
    "duration": 5,
    "start_time": "2023-05-29T19:36:24.742Z"
   },
   {
    "duration": 38,
    "start_time": "2023-05-29T19:36:24.748Z"
   },
   {
    "duration": 4,
    "start_time": "2023-05-29T19:36:24.788Z"
   },
   {
    "duration": 22,
    "start_time": "2023-05-29T19:36:24.793Z"
   },
   {
    "duration": 5,
    "start_time": "2023-05-29T19:36:24.816Z"
   },
   {
    "duration": 11,
    "start_time": "2023-05-29T19:36:24.822Z"
   },
   {
    "duration": 10,
    "start_time": "2023-05-29T19:36:24.835Z"
   },
   {
    "duration": 14,
    "start_time": "2023-05-29T19:36:24.847Z"
   },
   {
    "duration": 34,
    "start_time": "2023-05-29T19:36:24.864Z"
   },
   {
    "duration": 13,
    "start_time": "2023-05-29T19:36:24.900Z"
   },
   {
    "duration": 4,
    "start_time": "2023-05-29T19:36:24.915Z"
   },
   {
    "duration": 243,
    "start_time": "2023-05-29T19:36:24.921Z"
   },
   {
    "duration": 230,
    "start_time": "2023-05-29T19:36:25.166Z"
   },
   {
    "duration": 156,
    "start_time": "2023-05-29T19:36:25.398Z"
   },
   {
    "duration": 277,
    "start_time": "2023-05-29T19:36:25.555Z"
   },
   {
    "duration": 152,
    "start_time": "2023-05-29T19:36:25.834Z"
   },
   {
    "duration": 299,
    "start_time": "2023-05-29T19:36:25.987Z"
   },
   {
    "duration": 5,
    "start_time": "2023-05-29T19:36:26.289Z"
   },
   {
    "duration": 143,
    "start_time": "2023-05-29T19:36:26.296Z"
   },
   {
    "duration": 4,
    "start_time": "2023-05-29T19:36:26.441Z"
   },
   {
    "duration": 122,
    "start_time": "2023-05-29T19:36:26.447Z"
   },
   {
    "duration": 15,
    "start_time": "2023-05-29T19:36:26.571Z"
   },
   {
    "duration": 790,
    "start_time": "2023-05-29T19:36:26.588Z"
   },
   {
    "duration": 24,
    "start_time": "2023-05-29T19:36:27.380Z"
   },
   {
    "duration": 35,
    "start_time": "2023-05-29T19:36:27.405Z"
   },
   {
    "duration": 17,
    "start_time": "2023-05-29T19:36:27.442Z"
   },
   {
    "duration": 33,
    "start_time": "2023-05-29T19:36:27.460Z"
   },
   {
    "duration": 17,
    "start_time": "2023-05-29T19:36:27.494Z"
   },
   {
    "duration": 1506,
    "start_time": "2023-05-30T00:53:15.178Z"
   },
   {
    "duration": 10,
    "start_time": "2023-05-30T00:53:16.686Z"
   },
   {
    "duration": 11,
    "start_time": "2023-05-30T00:53:16.698Z"
   },
   {
    "duration": 13,
    "start_time": "2023-05-30T00:53:16.710Z"
   },
   {
    "duration": 11,
    "start_time": "2023-05-30T00:53:16.725Z"
   },
   {
    "duration": 5,
    "start_time": "2023-05-30T00:53:16.737Z"
   },
   {
    "duration": 20,
    "start_time": "2023-05-30T00:53:16.743Z"
   },
   {
    "duration": 5,
    "start_time": "2023-05-30T00:53:16.764Z"
   },
   {
    "duration": 8,
    "start_time": "2023-05-30T00:53:16.770Z"
   },
   {
    "duration": 36,
    "start_time": "2023-05-30T00:53:16.779Z"
   },
   {
    "duration": 14,
    "start_time": "2023-05-30T00:53:16.817Z"
   },
   {
    "duration": 14,
    "start_time": "2023-05-30T00:53:16.833Z"
   },
   {
    "duration": 17,
    "start_time": "2023-05-30T00:53:16.850Z"
   },
   {
    "duration": 13,
    "start_time": "2023-05-30T00:53:16.870Z"
   },
   {
    "duration": 36,
    "start_time": "2023-05-30T00:53:16.885Z"
   },
   {
    "duration": 3,
    "start_time": "2023-05-30T00:53:16.923Z"
   },
   {
    "duration": 232,
    "start_time": "2023-05-30T00:53:16.928Z"
   },
   {
    "duration": 238,
    "start_time": "2023-05-30T00:53:17.161Z"
   },
   {
    "duration": 169,
    "start_time": "2023-05-30T00:53:17.400Z"
   },
   {
    "duration": 220,
    "start_time": "2023-05-30T00:53:17.570Z"
   },
   {
    "duration": 152,
    "start_time": "2023-05-30T00:53:17.815Z"
   },
   {
    "duration": 256,
    "start_time": "2023-05-30T00:53:17.969Z"
   },
   {
    "duration": 5,
    "start_time": "2023-05-30T00:53:18.227Z"
   },
   {
    "duration": 113,
    "start_time": "2023-05-30T00:53:18.234Z"
   },
   {
    "duration": 4,
    "start_time": "2023-05-30T00:53:18.348Z"
   },
   {
    "duration": 116,
    "start_time": "2023-05-30T00:53:18.353Z"
   },
   {
    "duration": 3,
    "start_time": "2023-05-30T00:53:18.470Z"
   },
   {
    "duration": 757,
    "start_time": "2023-05-30T00:53:18.475Z"
   },
   {
    "duration": 21,
    "start_time": "2023-05-30T00:53:19.234Z"
   },
   {
    "duration": 11,
    "start_time": "2023-05-30T00:53:19.256Z"
   },
   {
    "duration": 12,
    "start_time": "2023-05-30T00:53:19.269Z"
   },
   {
    "duration": 41,
    "start_time": "2023-05-30T00:53:19.283Z"
   },
   {
    "duration": 17,
    "start_time": "2023-05-30T00:53:19.326Z"
   },
   {
    "duration": 1143,
    "start_time": "2023-05-30T01:08:52.137Z"
   },
   {
    "duration": 9,
    "start_time": "2023-05-30T01:08:53.282Z"
   },
   {
    "duration": 9,
    "start_time": "2023-05-30T01:08:53.292Z"
   },
   {
    "duration": 19,
    "start_time": "2023-05-30T01:08:53.302Z"
   },
   {
    "duration": 9,
    "start_time": "2023-05-30T01:08:53.322Z"
   },
   {
    "duration": 12,
    "start_time": "2023-05-30T01:08:53.332Z"
   },
   {
    "duration": 33,
    "start_time": "2023-05-30T01:08:53.346Z"
   },
   {
    "duration": 12,
    "start_time": "2023-05-30T01:08:53.380Z"
   },
   {
    "duration": 10,
    "start_time": "2023-05-30T01:08:53.393Z"
   },
   {
    "duration": 7,
    "start_time": "2023-05-30T01:08:53.404Z"
   },
   {
    "duration": 16,
    "start_time": "2023-05-30T01:08:53.412Z"
   },
   {
    "duration": 10,
    "start_time": "2023-05-30T01:08:53.429Z"
   },
   {
    "duration": 11,
    "start_time": "2023-05-30T01:08:53.440Z"
   },
   {
    "duration": 11,
    "start_time": "2023-05-30T01:08:53.454Z"
   },
   {
    "duration": 14,
    "start_time": "2023-05-30T01:08:53.467Z"
   },
   {
    "duration": 5,
    "start_time": "2023-05-30T01:08:53.483Z"
   },
   {
    "duration": 246,
    "start_time": "2023-05-30T01:08:53.490Z"
   },
   {
    "duration": 238,
    "start_time": "2023-05-30T01:08:53.738Z"
   },
   {
    "duration": 158,
    "start_time": "2023-05-30T01:08:53.977Z"
   },
   {
    "duration": 240,
    "start_time": "2023-05-30T01:08:54.136Z"
   },
   {
    "duration": 151,
    "start_time": "2023-05-30T01:08:54.377Z"
   },
   {
    "duration": 254,
    "start_time": "2023-05-30T01:08:54.529Z"
   },
   {
    "duration": 6,
    "start_time": "2023-05-30T01:08:54.784Z"
   },
   {
    "duration": 112,
    "start_time": "2023-05-30T01:08:54.791Z"
   },
   {
    "duration": 11,
    "start_time": "2023-05-30T01:08:54.905Z"
   },
   {
    "duration": 113,
    "start_time": "2023-05-30T01:08:54.918Z"
   },
   {
    "duration": 3,
    "start_time": "2023-05-30T01:08:55.032Z"
   },
   {
    "duration": 754,
    "start_time": "2023-05-30T01:08:55.037Z"
   },
   {
    "duration": 27,
    "start_time": "2023-05-30T01:08:55.792Z"
   },
   {
    "duration": 10,
    "start_time": "2023-05-30T01:08:55.821Z"
   },
   {
    "duration": 28,
    "start_time": "2023-05-30T01:08:55.833Z"
   },
   {
    "duration": 23,
    "start_time": "2023-05-30T01:08:55.863Z"
   },
   {
    "duration": 28,
    "start_time": "2023-05-30T01:08:55.888Z"
   },
   {
    "duration": 1170,
    "start_time": "2023-05-30T01:10:53.061Z"
   },
   {
    "duration": 13,
    "start_time": "2023-05-30T01:10:54.233Z"
   },
   {
    "duration": 57,
    "start_time": "2023-05-30T01:10:54.247Z"
   },
   {
    "duration": 18,
    "start_time": "2023-05-30T01:10:54.306Z"
   },
   {
    "duration": 10,
    "start_time": "2023-05-30T01:10:54.325Z"
   },
   {
    "duration": 8,
    "start_time": "2023-05-30T01:10:54.336Z"
   },
   {
    "duration": 18,
    "start_time": "2023-05-30T01:10:54.345Z"
   },
   {
    "duration": 5,
    "start_time": "2023-05-30T01:10:54.364Z"
   },
   {
    "duration": 10,
    "start_time": "2023-05-30T01:10:54.370Z"
   },
   {
    "duration": 9,
    "start_time": "2023-05-30T01:10:54.382Z"
   },
   {
    "duration": 24,
    "start_time": "2023-05-30T01:10:54.392Z"
   },
   {
    "duration": 10,
    "start_time": "2023-05-30T01:10:54.417Z"
   },
   {
    "duration": 11,
    "start_time": "2023-05-30T01:10:54.428Z"
   },
   {
    "duration": 12,
    "start_time": "2023-05-30T01:10:54.441Z"
   },
   {
    "duration": 11,
    "start_time": "2023-05-30T01:10:54.455Z"
   },
   {
    "duration": 3,
    "start_time": "2023-05-30T01:10:54.467Z"
   },
   {
    "duration": 265,
    "start_time": "2023-05-30T01:10:54.472Z"
   },
   {
    "duration": 239,
    "start_time": "2023-05-30T01:10:54.738Z"
   },
   {
    "duration": 162,
    "start_time": "2023-05-30T01:10:54.978Z"
   },
   {
    "duration": 254,
    "start_time": "2023-05-30T01:10:55.141Z"
   },
   {
    "duration": 158,
    "start_time": "2023-05-30T01:10:55.396Z"
   },
   {
    "duration": 249,
    "start_time": "2023-05-30T01:10:55.556Z"
   },
   {
    "duration": 12,
    "start_time": "2023-05-30T01:10:55.807Z"
   },
   {
    "duration": 114,
    "start_time": "2023-05-30T01:10:55.820Z"
   },
   {
    "duration": 4,
    "start_time": "2023-05-30T01:10:55.936Z"
   },
   {
    "duration": 124,
    "start_time": "2023-05-30T01:10:55.942Z"
   },
   {
    "duration": 4,
    "start_time": "2023-05-30T01:10:56.068Z"
   },
   {
    "duration": 760,
    "start_time": "2023-05-30T01:10:56.074Z"
   },
   {
    "duration": 24,
    "start_time": "2023-05-30T01:10:56.836Z"
   },
   {
    "duration": 10,
    "start_time": "2023-05-30T01:10:56.862Z"
   },
   {
    "duration": 13,
    "start_time": "2023-05-30T01:10:56.874Z"
   },
   {
    "duration": 44,
    "start_time": "2023-05-30T01:10:56.888Z"
   },
   {
    "duration": 16,
    "start_time": "2023-05-30T01:10:56.934Z"
   },
   {
    "duration": 53,
    "start_time": "2023-05-30T09:03:07.207Z"
   },
   {
    "duration": 1851,
    "start_time": "2023-05-30T09:03:19.037Z"
   },
   {
    "duration": 14,
    "start_time": "2023-05-30T09:03:20.890Z"
   },
   {
    "duration": 37,
    "start_time": "2023-05-30T09:03:20.906Z"
   },
   {
    "duration": 37,
    "start_time": "2023-05-30T09:03:20.945Z"
   },
   {
    "duration": 34,
    "start_time": "2023-05-30T09:03:20.986Z"
   },
   {
    "duration": 42,
    "start_time": "2023-05-30T09:03:21.023Z"
   },
   {
    "duration": 38,
    "start_time": "2023-05-30T09:03:21.067Z"
   },
   {
    "duration": 18,
    "start_time": "2023-05-30T09:03:21.107Z"
   },
   {
    "duration": 38,
    "start_time": "2023-05-30T09:03:21.127Z"
   },
   {
    "duration": 14,
    "start_time": "2023-05-30T09:03:21.167Z"
   },
   {
    "duration": 37,
    "start_time": "2023-05-30T09:03:21.183Z"
   },
   {
    "duration": 14,
    "start_time": "2023-05-30T09:03:21.223Z"
   },
   {
    "duration": 34,
    "start_time": "2023-05-30T09:03:21.239Z"
   },
   {
    "duration": 47,
    "start_time": "2023-05-30T09:03:21.277Z"
   },
   {
    "duration": 36,
    "start_time": "2023-05-30T09:03:21.326Z"
   },
   {
    "duration": 21,
    "start_time": "2023-05-30T09:03:21.364Z"
   },
   {
    "duration": 319,
    "start_time": "2023-05-30T09:03:21.387Z"
   },
   {
    "duration": 404,
    "start_time": "2023-05-30T09:03:21.708Z"
   },
   {
    "duration": 303,
    "start_time": "2023-05-30T09:03:22.114Z"
   },
   {
    "duration": 399,
    "start_time": "2023-05-30T09:03:22.420Z"
   },
   {
    "duration": 290,
    "start_time": "2023-05-30T09:03:22.821Z"
   },
   {
    "duration": 378,
    "start_time": "2023-05-30T09:03:23.113Z"
   },
   {
    "duration": 8,
    "start_time": "2023-05-30T09:03:23.493Z"
   },
   {
    "duration": 185,
    "start_time": "2023-05-30T09:03:23.503Z"
   },
   {
    "duration": 7,
    "start_time": "2023-05-30T09:03:23.690Z"
   },
   {
    "duration": 178,
    "start_time": "2023-05-30T09:03:23.699Z"
   },
   {
    "duration": 5,
    "start_time": "2023-05-30T09:03:23.879Z"
   },
   {
    "duration": 1175,
    "start_time": "2023-05-30T09:03:23.886Z"
   },
   {
    "duration": 30,
    "start_time": "2023-05-30T09:03:25.064Z"
   },
   {
    "duration": 14,
    "start_time": "2023-05-30T09:03:25.096Z"
   },
   {
    "duration": 51,
    "start_time": "2023-05-30T09:03:25.112Z"
   },
   {
    "duration": 34,
    "start_time": "2023-05-30T09:03:25.166Z"
   },
   {
    "duration": 45,
    "start_time": "2023-05-30T09:03:25.202Z"
   },
   {
    "duration": 307,
    "start_time": "2023-05-30T09:04:25.188Z"
   },
   {
    "duration": 320,
    "start_time": "2023-05-30T09:05:11.275Z"
   },
   {
    "duration": 411,
    "start_time": "2023-05-30T09:05:50.651Z"
   },
   {
    "duration": 285,
    "start_time": "2023-05-30T09:06:27.606Z"
   },
   {
    "duration": 203,
    "start_time": "2023-05-30T09:08:11.895Z"
   },
   {
    "duration": 223,
    "start_time": "2023-05-30T09:09:43.607Z"
   },
   {
    "duration": 146,
    "start_time": "2023-05-30T09:11:28.967Z"
   },
   {
    "duration": 215,
    "start_time": "2023-05-30T09:12:56.668Z"
   },
   {
    "duration": 222,
    "start_time": "2023-05-30T09:13:06.286Z"
   },
   {
    "duration": 6,
    "start_time": "2023-05-30T09:35:56.529Z"
   },
   {
    "duration": 4,
    "start_time": "2023-05-30T09:42:41.289Z"
   },
   {
    "duration": 5,
    "start_time": "2023-05-30T09:42:53.125Z"
   },
   {
    "duration": 5,
    "start_time": "2023-05-30T09:44:17.771Z"
   },
   {
    "duration": 10,
    "start_time": "2023-05-30T09:46:00.275Z"
   },
   {
    "duration": 5,
    "start_time": "2023-05-30T09:46:14.493Z"
   },
   {
    "duration": 327,
    "start_time": "2023-05-30T09:51:52.294Z"
   },
   {
    "duration": 325,
    "start_time": "2023-05-30T09:52:19.806Z"
   },
   {
    "duration": 306,
    "start_time": "2023-05-30T09:53:14.495Z"
   },
   {
    "duration": 239,
    "start_time": "2023-05-30T09:54:30.890Z"
   },
   {
    "duration": 232,
    "start_time": "2023-05-30T09:54:50.231Z"
   },
   {
    "duration": 310,
    "start_time": "2023-05-30T09:55:55.114Z"
   },
   {
    "duration": 419,
    "start_time": "2023-05-30T09:56:04.574Z"
   },
   {
    "duration": 278,
    "start_time": "2023-05-30T09:56:22.107Z"
   },
   {
    "duration": 275,
    "start_time": "2023-05-30T09:56:36.994Z"
   },
   {
    "duration": 270,
    "start_time": "2023-05-30T09:56:56.377Z"
   },
   {
    "duration": 1571,
    "start_time": "2023-05-30T09:59:46.980Z"
   },
   {
    "duration": 20,
    "start_time": "2023-05-30T09:59:48.557Z"
   },
   {
    "duration": 26,
    "start_time": "2023-05-30T09:59:48.579Z"
   },
   {
    "duration": 14,
    "start_time": "2023-05-30T09:59:48.608Z"
   },
   {
    "duration": 12,
    "start_time": "2023-05-30T09:59:48.624Z"
   },
   {
    "duration": 18,
    "start_time": "2023-05-30T09:59:48.638Z"
   },
   {
    "duration": 57,
    "start_time": "2023-05-30T09:59:48.658Z"
   },
   {
    "duration": 6,
    "start_time": "2023-05-30T09:59:48.717Z"
   },
   {
    "duration": 15,
    "start_time": "2023-05-30T09:59:48.725Z"
   },
   {
    "duration": 49,
    "start_time": "2023-05-30T09:59:48.743Z"
   },
   {
    "duration": 24,
    "start_time": "2023-05-30T09:59:48.794Z"
   },
   {
    "duration": 12,
    "start_time": "2023-05-30T09:59:48.820Z"
   },
   {
    "duration": 28,
    "start_time": "2023-05-30T09:59:48.834Z"
   },
   {
    "duration": 52,
    "start_time": "2023-05-30T09:59:48.863Z"
   },
   {
    "duration": 13,
    "start_time": "2023-05-30T09:59:48.917Z"
   },
   {
    "duration": 8,
    "start_time": "2023-05-30T09:59:48.932Z"
   },
   {
    "duration": 324,
    "start_time": "2023-05-30T09:59:48.942Z"
   },
   {
    "duration": 362,
    "start_time": "2023-05-30T09:59:49.267Z"
   },
   {
    "duration": 278,
    "start_time": "2023-05-30T09:59:49.631Z"
   },
   {
    "duration": 405,
    "start_time": "2023-05-30T09:59:49.912Z"
   },
   {
    "duration": 284,
    "start_time": "2023-05-30T09:59:50.319Z"
   },
   {
    "duration": 387,
    "start_time": "2023-05-30T09:59:50.605Z"
   },
   {
    "duration": 12,
    "start_time": "2023-05-30T09:59:50.997Z"
   },
   {
    "duration": 155,
    "start_time": "2023-05-30T09:59:51.011Z"
   },
   {
    "duration": 5,
    "start_time": "2023-05-30T09:59:51.168Z"
   },
   {
    "duration": 200,
    "start_time": "2023-05-30T09:59:51.174Z"
   },
   {
    "duration": 13,
    "start_time": "2023-05-30T09:59:51.376Z"
   },
   {
    "duration": 1218,
    "start_time": "2023-05-30T09:59:51.394Z"
   },
   {
    "duration": 46,
    "start_time": "2023-05-30T09:59:52.614Z"
   },
   {
    "duration": 57,
    "start_time": "2023-05-30T09:59:52.665Z"
   },
   {
    "duration": 5448,
    "start_time": "2023-05-30T09:59:52.724Z"
   },
   {
    "duration": 0,
    "start_time": "2023-05-30T09:59:58.174Z"
   },
   {
    "duration": 0,
    "start_time": "2023-05-30T09:59:58.182Z"
   },
   {
    "duration": 0,
    "start_time": "2023-05-30T09:59:58.186Z"
   },
   {
    "duration": 29,
    "start_time": "2023-05-30T10:02:38.771Z"
   },
   {
    "duration": 5,
    "start_time": "2023-05-30T10:02:46.873Z"
   },
   {
    "duration": 32,
    "start_time": "2023-05-30T10:02:46.880Z"
   },
   {
    "duration": 20,
    "start_time": "2023-05-30T10:02:46.914Z"
   },
   {
    "duration": 277,
    "start_time": "2023-05-30T10:11:07.917Z"
   },
   {
    "duration": 305,
    "start_time": "2023-05-30T10:11:46.595Z"
   },
   {
    "duration": 433,
    "start_time": "2023-05-30T10:12:52.267Z"
   },
   {
    "duration": 443,
    "start_time": "2023-05-30T10:13:24.938Z"
   },
   {
    "duration": 2105,
    "start_time": "2023-05-30T10:23:47.028Z"
   },
   {
    "duration": 18,
    "start_time": "2023-05-30T10:23:49.136Z"
   },
   {
    "duration": 42,
    "start_time": "2023-05-30T10:23:49.159Z"
   },
   {
    "duration": 17,
    "start_time": "2023-05-30T10:23:49.204Z"
   },
   {
    "duration": 14,
    "start_time": "2023-05-30T10:23:49.223Z"
   },
   {
    "duration": 44,
    "start_time": "2023-05-30T10:23:49.239Z"
   },
   {
    "duration": 30,
    "start_time": "2023-05-30T10:23:49.285Z"
   },
   {
    "duration": 5,
    "start_time": "2023-05-30T10:23:49.318Z"
   },
   {
    "duration": 11,
    "start_time": "2023-05-30T10:23:49.325Z"
   },
   {
    "duration": 46,
    "start_time": "2023-05-30T10:23:49.339Z"
   },
   {
    "duration": 20,
    "start_time": "2023-05-30T10:23:49.387Z"
   },
   {
    "duration": 13,
    "start_time": "2023-05-30T10:23:49.409Z"
   },
   {
    "duration": 16,
    "start_time": "2023-05-30T10:23:49.423Z"
   },
   {
    "duration": 24,
    "start_time": "2023-05-30T10:23:49.441Z"
   },
   {
    "duration": 42,
    "start_time": "2023-05-30T10:23:49.471Z"
   },
   {
    "duration": 9,
    "start_time": "2023-05-30T10:23:49.515Z"
   },
   {
    "duration": 303,
    "start_time": "2023-05-30T10:23:49.526Z"
   },
   {
    "duration": 373,
    "start_time": "2023-05-30T10:23:49.831Z"
   },
   {
    "duration": 244,
    "start_time": "2023-05-30T10:23:50.206Z"
   },
   {
    "duration": 360,
    "start_time": "2023-05-30T10:23:50.452Z"
   },
   {
    "duration": 248,
    "start_time": "2023-05-30T10:23:50.814Z"
   },
   {
    "duration": 331,
    "start_time": "2023-05-30T10:23:51.065Z"
   },
   {
    "duration": 9,
    "start_time": "2023-05-30T10:23:51.399Z"
   },
   {
    "duration": 175,
    "start_time": "2023-05-30T10:23:51.411Z"
   },
   {
    "duration": 7,
    "start_time": "2023-05-30T10:23:51.588Z"
   },
   {
    "duration": 197,
    "start_time": "2023-05-30T10:23:51.596Z"
   },
   {
    "duration": 4,
    "start_time": "2023-05-30T10:23:51.795Z"
   },
   {
    "duration": 1207,
    "start_time": "2023-05-30T10:23:51.803Z"
   },
   {
    "duration": 45,
    "start_time": "2023-05-30T10:23:53.012Z"
   },
   {
    "duration": 28,
    "start_time": "2023-05-30T10:23:53.059Z"
   },
   {
    "duration": 45,
    "start_time": "2023-05-30T10:23:53.089Z"
   },
   {
    "duration": 5,
    "start_time": "2023-05-30T10:23:53.136Z"
   },
   {
    "duration": 114,
    "start_time": "2023-05-30T10:23:53.143Z"
   },
   {
    "duration": 60,
    "start_time": "2023-05-30T10:23:53.267Z"
   },
   {
    "duration": 1343,
    "start_time": "2023-05-30T10:33:08.609Z"
   },
   {
    "duration": 17,
    "start_time": "2023-05-30T10:33:09.954Z"
   },
   {
    "duration": 27,
    "start_time": "2023-05-30T10:33:09.973Z"
   },
   {
    "duration": 13,
    "start_time": "2023-05-30T10:33:10.002Z"
   },
   {
    "duration": 11,
    "start_time": "2023-05-30T10:33:10.018Z"
   },
   {
    "duration": 5,
    "start_time": "2023-05-30T10:33:10.031Z"
   },
   {
    "duration": 22,
    "start_time": "2023-05-30T10:33:10.055Z"
   },
   {
    "duration": 16,
    "start_time": "2023-05-30T10:33:10.080Z"
   },
   {
    "duration": 12,
    "start_time": "2023-05-30T10:33:10.097Z"
   },
   {
    "duration": 8,
    "start_time": "2023-05-30T10:33:10.110Z"
   },
   {
    "duration": 16,
    "start_time": "2023-05-30T10:33:10.120Z"
   },
   {
    "duration": 15,
    "start_time": "2023-05-30T10:33:10.138Z"
   },
   {
    "duration": 42,
    "start_time": "2023-05-30T10:33:10.155Z"
   },
   {
    "duration": 16,
    "start_time": "2023-05-30T10:33:10.200Z"
   },
   {
    "duration": 13,
    "start_time": "2023-05-30T10:33:10.218Z"
   },
   {
    "duration": 6,
    "start_time": "2023-05-30T10:33:10.232Z"
   },
   {
    "duration": 303,
    "start_time": "2023-05-30T10:33:10.240Z"
   },
   {
    "duration": 331,
    "start_time": "2023-05-30T10:33:10.554Z"
   },
   {
    "duration": 218,
    "start_time": "2023-05-30T10:33:10.887Z"
   },
   {
    "duration": 324,
    "start_time": "2023-05-30T10:33:11.106Z"
   },
   {
    "duration": 204,
    "start_time": "2023-05-30T10:33:11.432Z"
   },
   {
    "duration": 315,
    "start_time": "2023-05-30T10:33:11.638Z"
   },
   {
    "duration": 7,
    "start_time": "2023-05-30T10:33:11.957Z"
   },
   {
    "duration": 202,
    "start_time": "2023-05-30T10:33:11.965Z"
   },
   {
    "duration": 11,
    "start_time": "2023-05-30T10:33:12.177Z"
   },
   {
    "duration": 175,
    "start_time": "2023-05-30T10:33:12.190Z"
   },
   {
    "duration": 10,
    "start_time": "2023-05-30T10:33:12.373Z"
   },
   {
    "duration": 1239,
    "start_time": "2023-05-30T10:33:12.388Z"
   },
   {
    "duration": 60,
    "start_time": "2023-05-30T10:33:13.629Z"
   },
   {
    "duration": 14,
    "start_time": "2023-05-30T10:33:13.691Z"
   },
   {
    "duration": 17,
    "start_time": "2023-05-30T10:33:13.707Z"
   },
   {
    "duration": 4,
    "start_time": "2023-05-30T10:33:13.726Z"
   },
   {
    "duration": 55,
    "start_time": "2023-05-30T10:33:13.732Z"
   },
   {
    "duration": 21,
    "start_time": "2023-05-30T10:33:13.790Z"
   },
   {
    "duration": 1436,
    "start_time": "2023-05-30T18:19:56.348Z"
   },
   {
    "duration": 13,
    "start_time": "2023-05-30T18:19:57.786Z"
   },
   {
    "duration": 13,
    "start_time": "2023-05-30T18:19:57.801Z"
   },
   {
    "duration": 17,
    "start_time": "2023-05-30T18:19:57.816Z"
   },
   {
    "duration": 12,
    "start_time": "2023-05-30T18:19:57.835Z"
   },
   {
    "duration": 5,
    "start_time": "2023-05-30T18:19:57.850Z"
   },
   {
    "duration": 19,
    "start_time": "2023-05-30T18:19:57.857Z"
   },
   {
    "duration": 5,
    "start_time": "2023-05-30T18:19:57.878Z"
   },
   {
    "duration": 18,
    "start_time": "2023-05-30T18:19:57.884Z"
   },
   {
    "duration": 5,
    "start_time": "2023-05-30T18:19:57.904Z"
   },
   {
    "duration": 16,
    "start_time": "2023-05-30T18:19:57.911Z"
   },
   {
    "duration": 22,
    "start_time": "2023-05-30T18:19:57.928Z"
   },
   {
    "duration": 13,
    "start_time": "2023-05-30T18:19:57.951Z"
   },
   {
    "duration": 14,
    "start_time": "2023-05-30T18:19:57.965Z"
   },
   {
    "duration": 16,
    "start_time": "2023-05-30T18:19:57.980Z"
   },
   {
    "duration": 7,
    "start_time": "2023-05-30T18:19:57.998Z"
   },
   {
    "duration": 300,
    "start_time": "2023-05-30T18:19:58.006Z"
   },
   {
    "duration": 280,
    "start_time": "2023-05-30T18:19:58.307Z"
   },
   {
    "duration": 201,
    "start_time": "2023-05-30T18:19:58.588Z"
   },
   {
    "duration": 264,
    "start_time": "2023-05-30T18:19:58.790Z"
   },
   {
    "duration": 191,
    "start_time": "2023-05-30T18:19:59.055Z"
   },
   {
    "duration": 283,
    "start_time": "2023-05-30T18:19:59.250Z"
   },
   {
    "duration": 15,
    "start_time": "2023-05-30T18:19:59.535Z"
   },
   {
    "duration": 141,
    "start_time": "2023-05-30T18:19:59.552Z"
   },
   {
    "duration": 4,
    "start_time": "2023-05-30T18:19:59.695Z"
   },
   {
    "duration": 163,
    "start_time": "2023-05-30T18:19:59.701Z"
   },
   {
    "duration": 4,
    "start_time": "2023-05-30T18:19:59.866Z"
   },
   {
    "duration": 949,
    "start_time": "2023-05-30T18:19:59.873Z"
   },
   {
    "duration": 28,
    "start_time": "2023-05-30T18:20:00.823Z"
   },
   {
    "duration": 30,
    "start_time": "2023-05-30T18:20:00.852Z"
   },
   {
    "duration": 38,
    "start_time": "2023-05-30T18:20:00.884Z"
   },
   {
    "duration": 44,
    "start_time": "2023-05-30T18:20:00.924Z"
   },
   {
    "duration": 66,
    "start_time": "2023-05-30T18:20:00.970Z"
   },
   {
    "duration": 43,
    "start_time": "2023-05-30T18:20:01.038Z"
   },
   {
    "duration": 1267,
    "start_time": "2023-05-30T18:38:28.587Z"
   },
   {
    "duration": 11,
    "start_time": "2023-05-30T18:38:29.856Z"
   },
   {
    "duration": 23,
    "start_time": "2023-05-30T18:38:29.869Z"
   },
   {
    "duration": 12,
    "start_time": "2023-05-30T18:38:29.895Z"
   },
   {
    "duration": 11,
    "start_time": "2023-05-30T18:38:29.908Z"
   },
   {
    "duration": 4,
    "start_time": "2023-05-30T18:38:29.920Z"
   },
   {
    "duration": 33,
    "start_time": "2023-05-30T18:38:29.926Z"
   },
   {
    "duration": 4,
    "start_time": "2023-05-30T18:38:29.960Z"
   },
   {
    "duration": 7,
    "start_time": "2023-05-30T18:38:29.966Z"
   },
   {
    "duration": 18,
    "start_time": "2023-05-30T18:38:29.975Z"
   },
   {
    "duration": 54,
    "start_time": "2023-05-30T18:38:29.994Z"
   },
   {
    "duration": 27,
    "start_time": "2023-05-30T18:38:30.050Z"
   },
   {
    "duration": 52,
    "start_time": "2023-05-30T18:38:30.078Z"
   },
   {
    "duration": 31,
    "start_time": "2023-05-30T18:38:30.131Z"
   },
   {
    "duration": 32,
    "start_time": "2023-05-30T18:38:30.165Z"
   },
   {
    "duration": 42,
    "start_time": "2023-05-30T18:38:30.199Z"
   },
   {
    "duration": 294,
    "start_time": "2023-05-30T18:38:30.242Z"
   },
   {
    "duration": 283,
    "start_time": "2023-05-30T18:38:30.538Z"
   },
   {
    "duration": 202,
    "start_time": "2023-05-30T18:38:30.823Z"
   },
   {
    "duration": 325,
    "start_time": "2023-05-30T18:38:31.027Z"
   },
   {
    "duration": 203,
    "start_time": "2023-05-30T18:38:31.354Z"
   },
   {
    "duration": 294,
    "start_time": "2023-05-30T18:38:31.558Z"
   },
   {
    "duration": 7,
    "start_time": "2023-05-30T18:38:31.853Z"
   },
   {
    "duration": 153,
    "start_time": "2023-05-30T18:38:31.862Z"
   },
   {
    "duration": 5,
    "start_time": "2023-05-30T18:38:32.017Z"
   },
   {
    "duration": 158,
    "start_time": "2023-05-30T18:38:32.024Z"
   },
   {
    "duration": 5,
    "start_time": "2023-05-30T18:38:32.184Z"
   },
   {
    "duration": 961,
    "start_time": "2023-05-30T18:38:32.192Z"
   },
   {
    "duration": 22,
    "start_time": "2023-05-30T18:38:33.156Z"
   },
   {
    "duration": 12,
    "start_time": "2023-05-30T18:38:33.179Z"
   },
   {
    "duration": 20,
    "start_time": "2023-05-30T18:38:33.193Z"
   },
   {
    "duration": 4,
    "start_time": "2023-05-30T18:38:33.215Z"
   },
   {
    "duration": 22,
    "start_time": "2023-05-30T18:38:33.251Z"
   },
   {
    "duration": 17,
    "start_time": "2023-05-30T18:38:33.275Z"
   },
   {
    "duration": 1321,
    "start_time": "2023-05-30T18:39:41.496Z"
   },
   {
    "duration": 12,
    "start_time": "2023-05-30T18:39:42.819Z"
   },
   {
    "duration": 18,
    "start_time": "2023-05-30T18:39:42.832Z"
   },
   {
    "duration": 13,
    "start_time": "2023-05-30T18:39:42.852Z"
   },
   {
    "duration": 11,
    "start_time": "2023-05-30T18:39:42.867Z"
   },
   {
    "duration": 4,
    "start_time": "2023-05-30T18:39:42.879Z"
   },
   {
    "duration": 17,
    "start_time": "2023-05-30T18:39:42.885Z"
   },
   {
    "duration": 5,
    "start_time": "2023-05-30T18:39:42.904Z"
   },
   {
    "duration": 5,
    "start_time": "2023-05-30T18:39:42.911Z"
   },
   {
    "duration": 4,
    "start_time": "2023-05-30T18:39:42.951Z"
   },
   {
    "duration": 14,
    "start_time": "2023-05-30T18:39:42.957Z"
   },
   {
    "duration": 15,
    "start_time": "2023-05-30T18:39:42.972Z"
   },
   {
    "duration": 15,
    "start_time": "2023-05-30T18:39:42.988Z"
   },
   {
    "duration": 44,
    "start_time": "2023-05-30T18:39:43.005Z"
   },
   {
    "duration": 14,
    "start_time": "2023-05-30T18:39:43.051Z"
   },
   {
    "duration": 6,
    "start_time": "2023-05-30T18:39:43.067Z"
   },
   {
    "duration": 289,
    "start_time": "2023-05-30T18:39:43.074Z"
   },
   {
    "duration": 282,
    "start_time": "2023-05-30T18:39:43.364Z"
   },
   {
    "duration": 193,
    "start_time": "2023-05-30T18:39:43.649Z"
   },
   {
    "duration": 322,
    "start_time": "2023-05-30T18:39:43.849Z"
   },
   {
    "duration": 229,
    "start_time": "2023-05-30T18:39:44.173Z"
   },
   {
    "duration": 310,
    "start_time": "2023-05-30T18:39:44.404Z"
   },
   {
    "duration": 6,
    "start_time": "2023-05-30T18:39:44.716Z"
   },
   {
    "duration": 147,
    "start_time": "2023-05-30T18:39:44.724Z"
   },
   {
    "duration": 5,
    "start_time": "2023-05-30T18:39:44.872Z"
   },
   {
    "duration": 158,
    "start_time": "2023-05-30T18:39:44.878Z"
   },
   {
    "duration": 12,
    "start_time": "2023-05-30T18:39:45.038Z"
   },
   {
    "duration": 963,
    "start_time": "2023-05-30T18:39:45.052Z"
   },
   {
    "duration": 33,
    "start_time": "2023-05-30T18:39:46.017Z"
   },
   {
    "duration": 14,
    "start_time": "2023-05-30T18:39:46.052Z"
   },
   {
    "duration": 18,
    "start_time": "2023-05-30T18:39:46.068Z"
   },
   {
    "duration": 4,
    "start_time": "2023-05-30T18:39:46.088Z"
   },
   {
    "duration": 22,
    "start_time": "2023-05-30T18:39:46.094Z"
   },
   {
    "duration": 20,
    "start_time": "2023-05-30T18:39:46.149Z"
   }
  ],
  "kernelspec": {
   "display_name": "Python 3 (ipykernel)",
   "language": "python",
   "name": "python3"
  },
  "language_info": {
   "codemirror_mode": {
    "name": "ipython",
    "version": 3
   },
   "file_extension": ".py",
   "mimetype": "text/x-python",
   "name": "python",
   "nbconvert_exporter": "python",
   "pygments_lexer": "ipython3",
   "version": "3.9.13"
  },
  "toc": {
   "base_numbering": 1,
   "nav_menu": {},
   "number_sections": true,
   "sideBar": true,
   "skip_h1_title": true,
   "title_cell": "Table of Contents",
   "title_sidebar": "Contents",
   "toc_cell": false,
   "toc_position": {},
   "toc_section_display": true,
   "toc_window_display": false
  }
 },
 "nbformat": 4,
 "nbformat_minor": 5
}
